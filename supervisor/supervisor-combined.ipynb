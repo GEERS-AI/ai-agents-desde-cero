{
 "cells": [
  {
   "cell_type": "markdown",
   "id": "04cfdd1b",
   "metadata": {},
   "source": [
    "# Agent Supervisor"
   ]
  },
  {
   "cell_type": "markdown",
   "id": "7d232ef6",
   "metadata": {},
   "source": [
    "In this example, we define a supervisor agent that acts as an orchestrator (or router) to different, more specific agents."
   ]
  },
  {
   "cell_type": "markdown",
   "id": "2188e7b4",
   "metadata": {},
   "source": [
    "---"
   ]
  },
  {
   "cell_type": "code",
   "execution_count": 1,
   "id": "f38a1988",
   "metadata": {},
   "outputs": [],
   "source": [
    "from dotenv import load_dotenv\n",
    "import pandas as pd\n",
    "from pathlib import Path\n",
    "import json\n",
    "from dotenv import load_dotenv\n",
    "import os \n",
    "import pprint\n",
    "from IPython.display import Image, display, Markdown\n",
    "from pydantic import BaseModel\n",
    "from typing import TypedDict, Annotated, Literal, Dict, Any, List\n",
    "from typing import Callable, Optional, Sequence, Type, TypeVar, Union, cast\n",
    "import re\n",
    "from operator import itemgetter\n",
    "from typing_extensions import TypedDict\n",
    "\n"
   ]
  },
  {
   "cell_type": "code",
   "execution_count": 2,
   "id": "d559e973",
   "metadata": {},
   "outputs": [],
   "source": [
    "# %pip install -U langgraph langchain_community langchain_openai langchain_experimental langchain-chroma pypdf sentence-transformers"
   ]
  },
  {
   "cell_type": "markdown",
   "id": "2b1f4014",
   "metadata": {},
   "source": [
    "Import the necessary classes from **Langchain** and **Langgraph**"
   ]
  },
  {
   "cell_type": "code",
   "execution_count": 2,
   "id": "04b9b679",
   "metadata": {},
   "outputs": [],
   "source": [
    "from langchain.chat_models import init_chat_model\n",
    "from langchain_community.tools.tavily_search import TavilySearchResults\n",
    "from langchain_community.document_loaders import PyPDFLoader, Docx2txtLoader\n",
    "from langchain_text_splitters import RecursiveCharacterTextSplitter\n",
    "from langchain_core.documents import Document\n",
    "from langchain_core.vectorstores import InMemoryVectorStore\n",
    "from langchain_openai import OpenAIEmbeddings \n",
    "from langchain.tools import tool\n",
    "from langchain_community.utilities import SQLDatabase\n",
    "from langchain.chains import create_sql_query_chain\n",
    "# from langchain_community.tools.sql_database.tool import QuerySQLDataBaseTool\n",
    "from langchain_community.tools import QuerySQLDatabaseTool\n",
    "from langchain_core.output_parsers import StrOutputParser\n",
    "from langchain_core.prompts import PromptTemplate, ChatPromptTemplate, MessagesPlaceholder\n",
    "from langchain_core.runnables import RunnablePassthrough, RunnableLambda\n",
    "from langgraph.graph import MessagesState, START, END, StateGraph\n",
    "from langgraph.types import Command\n",
    "from langchain_core.messages import HumanMessage, AIMessage\n",
    "from langgraph.prebuilt import create_react_agent"
   ]
  },
  {
   "cell_type": "code",
   "execution_count": 3,
   "id": "9e8c6a5b",
   "metadata": {},
   "outputs": [],
   "source": [
    "from langchain_core.language_models import BaseChatModel, LanguageModelLike\n",
    "from langchain_core.messages import AIMessage, BaseMessage, SystemMessage, ToolMessage\n",
    "from langchain_core.runnables import Runnable, RunnableBinding, RunnableConfig\n",
    "from langchain_core.tools import BaseTool\n",
    "from typing_extensions import Annotated, TypedDict\n",
    "from langgraph.errors import ErrorCode, create_error_message\n",
    "from langgraph.graph.message import add_messages\n",
    "from langgraph.managed import IsLastStep, RemainingSteps\n",
    "from langgraph.prebuilt.tool_node import ToolNode, tools_condition\n",
    "from langgraph.store.base import BaseStore\n",
    "from langgraph.types import Checkpointer\n",
    "from langgraph.utils.runnable import RunnableCallable\n",
    "from langgraph.checkpoint.memory import InMemorySaver"
   ]
  },
  {
   "cell_type": "code",
   "execution_count": 4,
   "id": "c9a2efeb",
   "metadata": {},
   "outputs": [
    {
     "data": {
      "text/plain": [
       "True"
      ]
     },
     "execution_count": 4,
     "metadata": {},
     "output_type": "execute_result"
    }
   ],
   "source": [
    "# Load environment variables from .env file\n",
    "load_dotenv()"
   ]
  },
  {
   "cell_type": "markdown",
   "id": "b5056d90",
   "metadata": {},
   "source": [
    "## Web Search"
   ]
  },
  {
   "cell_type": "code",
   "execution_count": 5,
   "id": "420d42ce",
   "metadata": {},
   "outputs": [
    {
     "name": "stderr",
     "output_type": "stream",
     "text": [
      "/var/folders/tx/dmzj44qn2s92dyzxj_nrc82c0000gn/T/ipykernel_76831/4268758883.py:1: LangChainDeprecationWarning: The class `TavilySearchResults` was deprecated in LangChain 0.3.25 and will be removed in 1.0. An updated version of the class exists in the :class:`~langchain-tavily package and should be used instead. To use it run `pip install -U :class:`~langchain-tavily` and import as `from :class:`~langchain_tavily import TavilySearch``.\n",
      "  web_search_tool = TavilySearchResults(max_results=2)\n"
     ]
    },
    {
     "data": {
      "text/plain": [
       "[{'title': 'Data Dictionary - Chinook | PDF | Relational Model - Scribd',\n",
       "  'url': 'https://www.scribd.com/document/870659367/Data-Dictionary-Chinook',\n",
       "  'content': 'The Chinook database is a sample relational database designed for teaching database management and SQL queries, modeling a digital media store with tables for albums, artists, customers, invoices, and more. Each table includes primary keys for unique identification and foreign keys to establish relationships between tables. The document details the structure and constraints of various tables, including Albums, Artists, Customers, Invoices, and others.\\n\\n# Data Dictionary - Chinook',\n",
       "  'score': 0.9305657},\n",
       " {'title': 'lerocha/chinook-database: Sample database for SQL Server, Oracle ...',\n",
       "  'url': 'https://github.com/lerocha/chinook-database',\n",
       "  'content': '## Repository files navigation\\n\\n## Chinook Database\\n\\nChinook is a sample database available for SQL Server, Oracle, MySQL, etc. It can be created by running a single SQL script. Chinook database is an alternative to the Northwind database, being ideal for demos and testing ORM tools targeting single and multiple database servers.\\n\\n### Supported Database Servers\\n\\n### Download [...] The name of this sample database was based on the Northwind database. Chinooks are winds in the interior West of North America, where the Canadian Prairies and Great Plains meet various mountain ranges. Chinooks are most prevalent over southern Alberta in Canada. Chinook is a good name choice for a database that intents to be an alternative to Northwind.\\n\\n### Development\\n\\nSystem Requirements:\\n\\n`Visual Studio extension development`\\n`Text Template Transformation`\\n\\nNotes: [...] The Chinook data model represents a digital media store, including tables for artists, albums, media tracks, invoices and customers.\\n\\nimage\\n\\n### Sample Data',\n",
       "  'score': 0.9065293}]"
      ]
     },
     "execution_count": 5,
     "metadata": {},
     "output_type": "execute_result"
    }
   ],
   "source": [
    "web_search_tool = TavilySearchResults(max_results=2)\n",
    "\n",
    "query = \"What is the Chinook SQL database?\"\n",
    "results = web_search_tool.invoke({'query': query})\n",
    "results"
   ]
  },
  {
   "cell_type": "markdown",
   "id": "6245305e",
   "metadata": {},
   "source": [
    "## Ingestion of Documents (for RAG)"
   ]
  },
  {
   "cell_type": "code",
   "execution_count": 6,
   "id": "cf21aa13",
   "metadata": {},
   "outputs": [
    {
     "name": "stdout",
     "output_type": "stream",
     "text": [
      "Unsupported file type: .DS_Store\n",
      "Loading Mastering SQL with the Chinook Database: A Journey Through Music Data Analytics | by Chiamaka Okakpu | Medium.pdf OK\n"
     ]
    },
    {
     "name": "stderr",
     "output_type": "stream",
     "text": [
      "Ignoring wrong pointing object 19 0 (offset 0)\n",
      "Ignoring wrong pointing object 33 0 (offset 0)\n",
      "Ignoring wrong pointing object 14 0 (offset 0)\n"
     ]
    },
    {
     "name": "stdout",
     "output_type": "stream",
     "text": [
      "Unsupported file type: chinookdb.sqlite\n",
      "Loading SQLite Sample Database And Its Diagram (in PDF format).pdf OK\n",
      "Loaded 16 documents from the folder.\n",
      "Split the documents into 25 chunks.\n"
     ]
    }
   ],
   "source": [
    "def load_documents(folder_path: str) -> List[Document]:\n",
    "    documents = []\n",
    "    for filename in os.listdir(folder_path):\n",
    "        file_path = os.path.join(folder_path, filename)\n",
    "        if filename.endswith('.pdf'):\n",
    "            print(f\"Loading {filename} OK\")\n",
    "            loader = PyPDFLoader(file_path)\n",
    "        elif filename.endswith('.docx'):\n",
    "            print(f\"Loading {filename} OK\")\n",
    "            loader = Docx2txtLoader(file_path)\n",
    "        else:\n",
    "            print(f\"Unsupported file type: {filename}\")\n",
    "            continue\n",
    "        documents.extend(loader.load())\n",
    "    return documents\n",
    "\n",
    "folder_path = \"./data\"\n",
    "documents = load_documents(folder_path)\n",
    "print(f\"Loaded {len(documents)} documents from the folder.\")\n",
    "\n",
    "text_splitter = RecursiveCharacterTextSplitter(\n",
    "    chunk_size=1000,\n",
    "    chunk_overlap=200,\n",
    "    length_function=len\n",
    ")\n",
    "\n",
    "splits = text_splitter.split_documents(documents)\n",
    "print(f\"Split the documents into {len(splits)} chunks.\")"
   ]
  },
  {
   "cell_type": "code",
   "execution_count": 7,
   "id": "46e3a277",
   "metadata": {},
   "outputs": [
    {
     "name": "stdout",
     "output_type": "stream",
     "text": [
      "[Document(id='35144f74-a24c-4d1c-a69f-5998ec0baeec', metadata={'producer': 'macOS Version 14.7.2 (Build 23H311) Quartz PDFContext', 'creator': 'Safari', 'creationdate': \"D:20250826024702Z00'00'\", 'title': 'Mastering SQL with the Chinook Database: A Journey Through Music Data Analytics | by Chiamaka Okakpu | Medium', 'moddate': \"D:20250826024702Z00'00'\", 'source': './data/Mastering SQL with the Chinook Database: A Journey Through Music Data Analytics | by Chiamaka Okakpu | Medium.pdf', 'total_pages': 12, 'page': 1, 'page_label': '2'}, page_content='25/08/2025, 11:47\\u202fPMMastering SQL with the Chinook Database: A Journey Through Music Data Analytics | by Chiamaka Okakpu | Medium\\nPage 2 of 12https://medium.com/@chizobaokakpu65/mastering-sql-with-the-chinook-database-a-journey-through-music-data-analytics-f1d01cd4455a\\nPhoto by Sincerely Media on Unsplash\\nIntroduction\\nData analysis is like solving a puzzle, and SQL is one of the most powerful\\ntools in a data analyst’s toolkit. Recently, I embarked on an exciting\\njourney analyzing the Chinook music database using PostgreSQL, and let\\nme tell you it was both challenging and rewarding!\\nThe Chinook database represents a digital media store, complete with\\ntables for artists, albums, tracks, employees, invoices, and customers. It’s\\na perfect playground for practicing SQL skills and understanding relational\\ndatabase concepts. This project taught me valuable lessons about\\ndatabase management, query optimization, and the importance of\\nunderstanding your data structure.'), Document(id='f6b75c18-b387-439c-9f7b-b27f9cc9a86a', metadata={'producer': 'macOS Version 14.7.2 (Build 23H311) Quartz PDFContext', 'creator': 'Safari', 'creationdate': \"D:20250826024702Z00'00'\", 'title': 'Mastering SQL with the Chinook Database: A Journey Through Music Data Analytics | by Chiamaka Okakpu | Medium', 'moddate': \"D:20250826024702Z00'00'\", 'source': './data/Mastering SQL with the Chinook Database: A Journey Through Music Data Analytics | by Chiamaka Okakpu | Medium.pdf', 'total_pages': 12, 'page': 0, 'page_label': '1'}, page_content='25/08/2025, 11:47\\u202fPMMastering SQL with the Chinook Database: A Journey Through Music Data Analytics | by Chiamaka Okakpu | Medium\\nPage 1 of 12https://medium.com/@chizobaokakpu65/mastering-sql-with-the-chinook-database-a-journey-through-music-data-analytics-f1d01cd4455a\\nMastering SQL with the Chinook\\nDatabase: A Journey Through Music\\nData AnalyticsChiamaka Okakpu')]\n"
     ]
    }
   ],
   "source": [
    "vectorstore = InMemoryVectorStore(OpenAIEmbeddings())\n",
    "_ = vectorstore.add_documents(documents=splits)\n",
    "\n",
    "retriever = vectorstore.as_retriever(search_kwargs={\"k\": 2})\n",
    "retriever_results = retriever.invoke(query)\n",
    "print(retriever_results)"
   ]
  },
  {
   "cell_type": "code",
   "execution_count": 8,
   "id": "f03de978",
   "metadata": {},
   "outputs": [],
   "source": [
    "class RagToolSchema(BaseModel):\n",
    "    question: str\n",
    "\n",
    "@tool(args_schema=RagToolSchema)\n",
    "def retriever_tool(question):\n",
    "  \"\"\"Tool to Retrieve Semantically Similar documents to answer User Questions related to example SQL databases\"\"\"\n",
    "  print(\"INSIDE RETRIEVER NODE\")\n",
    "  retriever = vectorstore.as_retriever(search_kwargs={\"k\": 2})\n",
    "  retriever_results = retriever.invoke(question)\n",
    "  return \"\\n\\n\".join(doc.page_content for doc in retriever_results)"
   ]
  },
  {
   "cell_type": "markdown",
   "id": "4e57afe6",
   "metadata": {},
   "source": [
    "## Text 2 SQL "
   ]
  },
  {
   "cell_type": "code",
   "execution_count": 9,
   "id": "71feaba7",
   "metadata": {},
   "outputs": [],
   "source": [
    "db = SQLDatabase.from_uri(\"sqlite:///data//chinookdb.sqlite\")"
   ]
  },
  {
   "cell_type": "code",
   "execution_count": 10,
   "id": "09253f27",
   "metadata": {},
   "outputs": [],
   "source": [
    "def clean_sql_query(text: str) -> str:\n",
    "    \"\"\"\n",
    "    Clean SQL query by removing code block syntax, various SQL tags, backticks,\n",
    "    prefixes, and unnecessary whitespace while preserving the core SQL query.\n",
    "\n",
    "    Args:\n",
    "        text (str): Raw SQL query text that may contain code blocks, tags, and backticks\n",
    "\n",
    "    Returns:\n",
    "        str: Cleaned SQL query\n",
    "    \"\"\"\n",
    "    # Step 1: Remove code block syntax and any SQL-related tags\n",
    "    # This handles variations like ```sql, ```SQL, ```SQLQuery, etc.\n",
    "    block_pattern = r\"```(?:sql|SQL|SQLQuery|mysql|postgresql)?\\s*(.*?)\\s*```\"\n",
    "    text = re.sub(block_pattern, r\"\\1\", text, flags=re.DOTALL)\n",
    "\n",
    "    # Step 2: Handle \"SQLQuery:\" prefix and similar variations\n",
    "    # This will match patterns like \"SQLQuery:\", \"SQL Query:\", \"MySQL:\", etc.\n",
    "    prefix_pattern = r\"^(?:SQL\\s*Query|SQLQuery|MySQL|PostgreSQL|SQL)\\s*:\\s*\"\n",
    "    text = re.sub(prefix_pattern, \"\", text, flags=re.IGNORECASE)\n",
    "\n",
    "    # Step 3: Extract the first SQL statement if there's random text after it\n",
    "    # Look for a complete SQL statement ending with semicolon\n",
    "    sql_statement_pattern = r\"(SELECT.*?;)\"\n",
    "    sql_match = re.search(sql_statement_pattern, text, flags=re.IGNORECASE | re.DOTALL)\n",
    "    if sql_match:\n",
    "        text = sql_match.group(1)\n",
    "\n",
    "    # Step 4: Remove backticks around identifiers\n",
    "    text = re.sub(r'`([^`]*)`', r'\\1', text)\n",
    "\n",
    "    # Step 5: Normalize whitespace\n",
    "    # Replace multiple spaces with single space\n",
    "    text = re.sub(r'\\s+', ' ', text)\n",
    "\n",
    "    # Step 6: Preserve newlines for main SQL keywords to maintain readability\n",
    "    keywords = ['SELECT', 'FROM', 'WHERE', 'GROUP BY', 'HAVING', 'ORDER BY',\n",
    "               'LIMIT', 'JOIN', 'LEFT JOIN', 'RIGHT JOIN', 'INNER JOIN',\n",
    "               'OUTER JOIN', 'UNION', 'VALUES', 'INSERT', 'UPDATE', 'DELETE']\n",
    "\n",
    "    # Case-insensitive replacement for keywords\n",
    "    pattern = '|'.join(r'\\b{}\\b'.format(k) for k in keywords)\n",
    "    text = re.sub(f'({pattern})', r'\\n\\1', text, flags=re.IGNORECASE)\n",
    "\n",
    "    # Step 7: Final cleanup\n",
    "    # Remove leading/trailing whitespace and extra newlines\n",
    "    text = text.strip()\n",
    "    text = re.sub(r'\\n\\s*\\n', '\\n', text)\n",
    "\n",
    "    return text"
   ]
  },
  {
   "cell_type": "code",
   "execution_count": 11,
   "id": "e5e8c2f8",
   "metadata": {},
   "outputs": [],
   "source": [
    "class SQLToolSchema(BaseModel):\n",
    "    question: str\n",
    "\n",
    "@tool(args_schema=SQLToolSchema)\n",
    "def nl2sql_tool(question):\n",
    "  \"\"\"Tool to Generate and Execute SQL Query to answer User Questions related to chinook DB\"\"\"\n",
    "  print(\"INSIDE NL2SQL TOOL\")\n",
    "  execute_query = QuerySQLDatabaseTool(db=db)\n",
    "  write_query = create_sql_query_chain(llm, db)\n",
    "\n",
    "  chain = (\n",
    "      RunnablePassthrough.assign(query=write_query | RunnableLambda(clean_sql_query)).assign(\n",
    "          result=itemgetter(\"query\") | execute_query\n",
    "      )\n",
    "  )\n",
    "\n",
    "  response = chain.invoke({\"question\": question})\n",
    "  return response['result']\n"
   ]
  },
  {
   "cell_type": "markdown",
   "id": "36109638",
   "metadata": {},
   "source": [
    "We define an LLM model to use in a zero-shot mode to answer user questions"
   ]
  },
  {
   "cell_type": "code",
   "execution_count": 12,
   "id": "5640f117",
   "metadata": {},
   "outputs": [
    {
     "name": "stdout",
     "output_type": "stream",
     "text": [
      "openai:gpt-4o-mini\n"
     ]
    }
   ],
   "source": [
    "llm_model = \"openai:\"+os.getenv(\"OPENAI_MODEL\")\n",
    "print(llm_model)\n",
    "llm = init_chat_model(llm_model, temperature=0)"
   ]
  },
  {
   "cell_type": "code",
   "execution_count": 13,
   "id": "81ab6cd1",
   "metadata": {},
   "outputs": [
    {
     "name": "stdout",
     "output_type": "stream",
     "text": [
      "INSIDE NL2SQL TOOL\n",
      "Question: How many employees are there?\n",
      "Answer: [(8,)]\n"
     ]
    }
   ],
   "source": [
    "question = \"How many employees are there?\"\n",
    "result = nl2sql_tool.invoke({\"question\": question})\n",
    "print(f\"Question: {question}\")\n",
    "print(f\"Answer: {result}\")"
   ]
  },
  {
   "cell_type": "markdown",
   "id": "fc1f67eb",
   "metadata": {},
   "source": [
    "## Creation of Supervisor Agent (as a graph)"
   ]
  },
  {
   "cell_type": "code",
   "execution_count": 14,
   "id": "7c1b9b18",
   "metadata": {},
   "outputs": [],
   "source": [
    "members = [\"web_researcher\", \"rag\", \"nl2sql\"]\n",
    "# Our supervisor is an LLM node. It just picks the next agent to process\n",
    "# and decides when the work is completed\n",
    "options = members + [\"FINISH\"]\n",
    "\n",
    "SYSTEM_PROMPT = (\n",
    "    \"You are a supervisor tasked with managing a conversation between the\"\n",
    "    f\" following workers: {members}. Given the following user request,\"\n",
    "    \" respond with the worker to act next. Each worker will perform a\"\n",
    "    \" task and respond with their results and status. When finished,\"\n",
    "    \" respond with FINISH.\"\n",
    ")\n",
    "\n",
    "\n",
    "class Router(TypedDict):\n",
    "    \"\"\"Worker to route to next. If no workers needed, route to FINISH.\"\"\"\n",
    "\n",
    "    next: Literal[\"web_researcher\", \"rag\", \"nl2sql\",\"FINISH\"]\n",
    "\n",
    "\n",
    "def supervisor_node(state: MessagesState) -> Command[Literal[\"web_researcher\", \"rag\", \"nl2sql\", \"__end__\"]]:\n",
    "    messages = [\n",
    "        {\"role\": \"system\", \"content\": SYSTEM_PROMPT},\n",
    "    ] + state[\"messages\"]\n",
    "    response = llm.with_structured_output(Router).invoke(messages)\n",
    "    goto = response[\"next\"]\n",
    "    print(f\"Next Worker: {goto}\")\n",
    "    if goto == \"FINISH\":\n",
    "        goto = END\n",
    "\n",
    "    return Command(goto=goto)"
   ]
  },
  {
   "cell_type": "markdown",
   "id": "172d40fe",
   "metadata": {},
   "source": [
    "We define a function to create ReAct agents (as graphs)"
   ]
  },
  {
   "cell_type": "code",
   "execution_count": 15,
   "id": "3136677d",
   "metadata": {},
   "outputs": [],
   "source": [
    "class AgentState(TypedDict):\n",
    "    \"\"\"The state of the agent.\"\"\"\n",
    "\n",
    "    messages: Annotated[Sequence[BaseMessage], add_messages]\n",
    "\n",
    "def create_agent(llm, tools):\n",
    "    llm_with_tools = llm.bind_tools(tools)\n",
    "    def chatbot(state: AgentState):\n",
    "      return {\"messages\": [llm_with_tools.invoke(state[\"messages\"])]}\n",
    "    graph_builder = StateGraph(AgentState)\n",
    "    graph_builder.add_node(\"agent\", chatbot)\n",
    "\n",
    "    tool_node = ToolNode(tools=tools)\n",
    "    graph_builder.add_node(\"tools\", tool_node)\n",
    "\n",
    "    graph_builder.add_conditional_edges(\n",
    "        \"agent\",\n",
    "        tools_condition,\n",
    "    )\n",
    "    # Any time a tool is called, we return to the chatbot to decide the next step\n",
    "    graph_builder.add_edge(\"tools\", \"agent\")\n",
    "    graph_builder.set_entry_point(\"agent\")\n",
    "    graph = graph_builder.compile()\n",
    "    return graph"
   ]
  },
  {
   "cell_type": "code",
   "execution_count": 16,
   "id": "a3fb93fc",
   "metadata": {},
   "outputs": [
    {
     "data": {
      "image/png": "[encoded data removed]",
      "text/plain": [
       "<IPython.core.display.Image object>"
      ]
     },
     "metadata": {},
     "output_type": "display_data"
    }
   ],
   "source": [
    "websearch_agent = create_agent(llm, [web_search_tool])\n",
    "\n",
    "def web_research_node(state: MessagesState) -> Command[Literal[\"supervisor\"]]:\n",
    "    result = websearch_agent.invoke(state)\n",
    "    return Command(\n",
    "        update={\n",
    "            \"messages\": [\n",
    "                HumanMessage(content=result[\"messages\"][-1].content, name=\"web_researcher\")\n",
    "            ]\n",
    "        },\n",
    "        goto=\"supervisor\",\n",
    "    )\n",
    "    \n",
    "display(Image(websearch_agent.get_graph().draw_mermaid_png()))\n"
   ]
  },
  {
   "cell_type": "code",
   "execution_count": 19,
   "id": "a2031580",
   "metadata": {},
   "outputs": [
    {
     "data": {
      "text/plain": [
       "'Today in Delhi, the weather is expected to be partly cloudy with temperatures reaching a high of around 36°C and a low of about 28°C. There may be some patchy rain possible later in the day. \\n\\nFor more detailed information, you can check the weather forecast on [AccuWeather](https://www.accuweather.com/en/in/delhi/202396/august-weather/202396).'"
      ]
     },
     "execution_count": 19,
     "metadata": {},
     "output_type": "execute_result"
    }
   ],
   "source": [
    "query = \"what is the weather in delhi today?\"\n",
    "result = websearch_agent.invoke({\"messages\": [(\"user\", query)]})\n",
    "result['messages'][-1].content"
   ]
  },
  {
   "cell_type": "code",
   "execution_count": 17,
   "id": "f4103971",
   "metadata": {},
   "outputs": [],
   "source": [
    "rag_agent = create_agent(llm, [retriever_tool])\n",
    "\n",
    "def rag_node(state: MessagesState) -> Command[Literal[\"supervisor\"]]:\n",
    "    result = rag_agent.invoke(state)\n",
    "    return Command(\n",
    "        update={\n",
    "            \"messages\": [\n",
    "                HumanMessage(content=result[\"messages\"][-1].content, name=\"rag\")\n",
    "            ]\n",
    "        },\n",
    "        goto=\"supervisor\",\n",
    "    )\n",
    "\n",
    "# display(Image(rag_agent.get_graph().draw_mermaid_png()))\n"
   ]
  },
  {
   "cell_type": "code",
   "execution_count": 19,
   "id": "fc0fe29a",
   "metadata": {},
   "outputs": [],
   "source": [
    "nl2sql_agent = create_agent(llm, [nl2sql_tool])\n",
    "\n",
    "def nl2sql_node(state: MessagesState) -> Command[Literal[\"supervisor\"]]:\n",
    "    result = nl2sql_agent.invoke(state)\n",
    "    return Command(\n",
    "        update={\n",
    "            \"messages\": [\n",
    "                HumanMessage(content=result[\"messages\"][-1].content, name=\"nl2sql\")\n",
    "            ]\n",
    "        },\n",
    "        goto=\"supervisor\",\n",
    "    )\n",
    "\n",
    "# display(Image(nl2sql_agent.get_graph().draw_mermaid_png()))\n"
   ]
  },
  {
   "cell_type": "markdown",
   "id": "f35c6c4d",
   "metadata": {},
   "source": [
    "This is the final graph that orchestrates the agents"
   ]
  },
  {
   "cell_type": "code",
   "execution_count": 20,
   "id": "0b1bb070",
   "metadata": {},
   "outputs": [
    {
     "data": {
      "image/png": "[encoded data removed]",
      "text/plain": [
       "<IPython.core.display.Image object>"
      ]
     },
     "metadata": {},
     "output_type": "display_data"
    }
   ],
   "source": [
    "builder = StateGraph(MessagesState)\n",
    "builder.add_edge(START, \"supervisor\")\n",
    "builder.add_node(\"supervisor\", supervisor_node)\n",
    "builder.add_node(\"web_researcher\", web_research_node)\n",
    "builder.add_node(\"rag\", rag_node)\n",
    "builder.add_node(\"nl2sql\", nl2sql_node)\n",
    "\n",
    "memory = InMemorySaver()\n",
    "graph = builder.compile(checkpointer=memory)\n",
    "\n",
    "display(Image(graph.get_graph().draw_mermaid_png()))\n"
   ]
  },
  {
   "cell_type": "markdown",
   "id": "b8958511",
   "metadata": {},
   "source": [
    "Testing the supervisor agent"
   ]
  },
  {
   "cell_type": "code",
   "execution_count": 21,
   "id": "b75238ef",
   "metadata": {},
   "outputs": [
    {
     "name": "stdout",
     "output_type": "stream",
     "text": [
      "Next Worker: web_researcher\n",
      "((), {'supervisor': None})\n",
      "----\n",
      "(('web_researcher:c62f7a89-7bb1-f4b5-8cd0-c4c68cface06',), {'agent': {'messages': [AIMessage(content='', additional_kwargs={'tool_calls': [{'id': 'call_tl9tQoKAoPDiAttODRADIsw7', 'function': {'arguments': '{\"query\":\"current weather in Kolkata\"}', 'name': 'tavily_search_results_json'}, 'type': 'function'}], 'refusal': None}, response_metadata={'token_usage': {'completion_tokens': 21, 'prompt_tokens': 86, 'total_tokens': 107, 'completion_tokens_details': {'accepted_prediction_tokens': 0, 'audio_tokens': 0, 'reasoning_tokens': 0, 'rejected_prediction_tokens': 0}, 'prompt_tokens_details': {'audio_tokens': 0, 'cached_tokens': 0}}, 'model_name': 'gpt-4o-mini-2024-07-18', 'system_fingerprint': 'fp_560af6e559', 'id': 'chatcmpl-C9K4fZAo6osAFM9YhTI5qYOp4V9td', 'service_tier': 'default', 'finish_reason': 'tool_calls', 'logprobs': None}, id='run--418cb165-4e32-4b0e-911b-f5fb612841b2-0', tool_calls=[{'name': 'tavily_search_results_json', 'args': {'query': 'current weather in Kolkata'}, 'id': 'call_tl9tQoKAoPDiAttODRADIsw7', 'type': 'tool_call'}], usage_metadata={'input_tokens': 86, 'output_tokens': 21, 'total_tokens': 107, 'input_token_details': {'audio': 0, 'cache_read': 0}, 'output_token_details': {'audio': 0, 'reasoning': 0}})]}})\n",
      "----\n",
      "(('web_researcher:c62f7a89-7bb1-f4b5-8cd0-c4c68cface06',), {'tools': {'messages': [ToolMessage(content='[{\"title\": \"Kolkata Weather Today (Wednesday, Aug 27, 2025)\", \"url\": \"https://www.indiatoday.in/weather/kolkata-weather-forecast-today\", \"content\": \"The minimum temperature in Kolkata today is likely to hover around 26 degrees Celsius, while the maximum temperature might reach 31 degrees Celsius. The mercury level is expected to hover around 27 degrees Celsius throughout the day, with the wind speed around 6.16. The wind will move around 160 degrees with a gust speed of 8.76. The sunrise time is 05:18 AM, while it will set at 05:58 PM on Thursday. As per the seven-day weather prediction, the temperature in Kolkata is likely to reach 31 [...] ### TRENDING TOPICS\\\\n\\\\n### Download App\\\\n\\\\n# Kolkata Weather Today (Thursday, Aug 28, 2025)\\\\n\\\\nWeather Icon\\\\nmin\\\\nmax\\\\nrise\\\\nset\\\\nhumdity\\\\npressure\\\\nlon\\\\nlat\\\\nspeed\\\\ndeg\\\\ngust\\\\nRain\\\\nRain\\\\nRain\\\\nRain\\\\nClouds\\\\nClouds\\\\nRain\\\\n\\\\n## Weather In Kolkata [...] degrees Celsius on Thursday, 31 degrees Celsius on Friday, 32 degrees Celsius on Saturday, 33 degrees Celsius on Sunday, 33 degrees Celsius on Monday, 35 degrees Celsius on Tuesday and 33 degrees Celsius on Wednesday.\", \"score\": 0.903098}, {\"title\": \"Kolkata weather in August 2025 - Weather25.com\", \"url\": \"https://www.weather25.com/asia/india/west-bengal/kolkata?page=month&month=August\", \"content\": \"| 31 Light rain shower 33° /26° |  |  |  |  |  |  | [...] weather25.com\\\\nSearch\\\\nweather in India\\\\nRemove from your favorite locations\\\\nAdd to my locations\\\\nShare\\\\nweather in India\\\\n\\\\n# Kolkata weather in August 2025\\\\n\\\\nLight rain\\\\nLight rain shower\\\\nLight rain shower\\\\nLight rain shower\\\\nPatchy rain possible\\\\nPatchy rain possible\\\\nModerate rain at times\\\\nLight rain shower\\\\nModerate or heavy rain shower\\\\nLight rain shower\\\\nLight rain shower\\\\nLight rain shower\\\\nPatchy light drizzle\\\\nLight rain shower\\\\n\\\\n## The average weather in Kolkata in August [...] The temperatures in Kolkata during August are extremely high, between 27°C and hot as 33°C, drinking water regularly is advisable.\\\\n\\\\nThere’s going to be many days of rain during the month of August in Kolkata.\\\\n\\\\nKolkata should expect an average of 15 to 22 days of rain, so be sure to bring along a waterproof jacket to stay dry this month!\\\\n\\\\nOur weather forecast can give you a great sense of what weather to expect in Kolkata in August 2025.\", \"score\": 0.843393}]', name='tavily_search_results_json', id='f56c73dd-1d33-4cd6-98fb-8e93a028d9df', tool_call_id='call_tl9tQoKAoPDiAttODRADIsw7', artifact={'query': 'current weather in Kolkata', 'follow_up_questions': None, 'answer': None, 'images': [], 'results': [{'url': 'https://www.indiatoday.in/weather/kolkata-weather-forecast-today', 'title': 'Kolkata Weather Today (Wednesday, Aug 27, 2025)', 'content': 'The minimum temperature in Kolkata today is likely to hover around 26 degrees Celsius, while the maximum temperature might reach 31 degrees Celsius. The mercury level is expected to hover around 27 degrees Celsius throughout the day, with the wind speed around 6.16. The wind will move around 160 degrees with a gust speed of 8.76. The sunrise time is 05:18 AM, while it will set at 05:58 PM on Thursday. As per the seven-day weather prediction, the temperature in Kolkata is likely to reach 31 [...] ### TRENDING TOPICS\\n\\n### Download App\\n\\n# Kolkata Weather Today (Thursday, Aug 28, 2025)\\n\\nWeather Icon\\nmin\\nmax\\nrise\\nset\\nhumdity\\npressure\\nlon\\nlat\\nspeed\\ndeg\\ngust\\nRain\\nRain\\nRain\\nRain\\nClouds\\nClouds\\nRain\\n\\n## Weather In Kolkata [...] degrees Celsius on Thursday, 31 degrees Celsius on Friday, 32 degrees Celsius on Saturday, 33 degrees Celsius on Sunday, 33 degrees Celsius on Monday, 35 degrees Celsius on Tuesday and 33 degrees Celsius on Wednesday.', 'score': 0.903098, 'raw_content': None}, {'url': 'https://www.weather25.com/asia/india/west-bengal/kolkata?page=month&month=August', 'title': 'Kolkata weather in August 2025 - Weather25.com', 'content': '| 31 Light rain shower 33° /26° |  |  |  |  |  |  | [...] weather25.com\\nSearch\\nweather in India\\nRemove from your favorite locations\\nAdd to my locations\\nShare\\nweather in India\\n\\n# Kolkata weather in August 2025\\n\\nLight rain\\nLight rain shower\\nLight rain shower\\nLight rain shower\\nPatchy rain possible\\nPatchy rain possible\\nModerate rain at times\\nLight rain shower\\nModerate or heavy rain shower\\nLight rain shower\\nLight rain shower\\nLight rain shower\\nPatchy light drizzle\\nLight rain shower\\n\\n## The average weather in Kolkata in August [...] The temperatures in Kolkata during August are extremely high, between 27°C and hot as 33°C, drinking water regularly is advisable.\\n\\nThere’s going to be many days of rain during the month of August in Kolkata.\\n\\nKolkata should expect an average of 15 to 22 days of rain, so be sure to bring along a waterproof jacket to stay dry this month!\\n\\nOur weather forecast can give you a great sense of what weather to expect in Kolkata in August 2025.', 'score': 0.843393, 'raw_content': None}], 'response_time': 4.55, 'request_id': '506bcc45-315d-4e3a-8451-c1fa269fa956'})]}})\n",
      "----\n",
      "(('web_researcher:c62f7a89-7bb1-f4b5-8cd0-c4c68cface06',), {'agent': {'messages': [AIMessage(content='The current weather in Kolkata shows a minimum temperature of around 26°C and a maximum temperature reaching up to 31°C. The temperature is expected to hover around 27°C throughout the day, with a wind speed of approximately 6.16 km/h coming from 160 degrees and gusting up to 8.76 km/h. \\n\\nFor more detailed information, you can check the full forecast [here](https://www.indiatoday.in/weather/kolkata-weather-forecast-today).', additional_kwargs={'refusal': None}, response_metadata={'token_usage': {'completion_tokens': 102, 'prompt_tokens': 717, 'total_tokens': 819, 'completion_tokens_details': {'accepted_prediction_tokens': 0, 'audio_tokens': 0, 'reasoning_tokens': 0, 'rejected_prediction_tokens': 0}, 'prompt_tokens_details': {'audio_tokens': 0, 'cached_tokens': 0}}, 'model_name': 'gpt-4o-mini-2024-07-18', 'system_fingerprint': 'fp_560af6e559', 'id': 'chatcmpl-C9K4mrLknVMIyFNWFP8Clid7HADIA', 'service_tier': 'default', 'finish_reason': 'stop', 'logprobs': None}, id='run--60b91f12-edde-4f4a-b839-354d570d167f-0', usage_metadata={'input_tokens': 717, 'output_tokens': 102, 'total_tokens': 819, 'input_token_details': {'audio': 0, 'cache_read': 0}, 'output_token_details': {'audio': 0, 'reasoning': 0}})]}})\n",
      "----\n",
      "((), {'web_researcher': {'messages': [HumanMessage(content='The current weather in Kolkata shows a minimum temperature of around 26°C and a maximum temperature reaching up to 31°C. The temperature is expected to hover around 27°C throughout the day, with a wind speed of approximately 6.16 km/h coming from 160 degrees and gusting up to 8.76 km/h. \\n\\nFor more detailed information, you can check the full forecast [here](https://www.indiatoday.in/weather/kolkata-weather-forecast-today).', additional_kwargs={}, response_metadata={}, name='web_researcher')]}})\n",
      "----\n",
      "Next Worker: FINISH\n",
      "((), {'supervisor': None})\n",
      "----\n"
     ]
    }
   ],
   "source": [
    "question = \"what is the current weather in Kolkata\"\n",
    "config = {\"configurable\": {\"thread_id\": \"1\"}}\n",
    "\n",
    "for s in graph.stream(\n",
    "    {\"messages\": [(\"user\", question)]}, subgraphs=True, config=config\n",
    "):\n",
    "    print(s)\n",
    "    print(\"----\")"
   ]
  },
  {
   "cell_type": "code",
   "execution_count": 22,
   "id": "4e368034",
   "metadata": {},
   "outputs": [
    {
     "name": "stdout",
     "output_type": "stream",
     "text": [
      "================================\u001b[1m Human Message \u001b[0m=================================\n",
      "\n",
      "what is the current weather in Kolkata\n",
      "\n",
      "================================\u001b[1m Human Message \u001b[0m=================================\n",
      "Name: web_researcher\n",
      "\n",
      "The current weather in Kolkata shows a minimum temperature of around 26°C and a maximum temperature reaching up to 31°C. The temperature is expected to hover around 27°C throughout the day, with a wind speed of approximately 6.16 km/h coming from 160 degrees and gusting up to 8.76 km/h. \n",
      "\n",
      "For more detailed information, you can check the full forecast [here](https://www.indiatoday.in/weather/kolkata-weather-forecast-today).\n"
     ]
    }
   ],
   "source": [
    "state = graph.get_state(config)\n",
    "ChatPromptTemplate.from_messages(state.values[\"messages\"]).pretty_print()"
   ]
  },
  {
   "cell_type": "code",
   "execution_count": 23,
   "id": "c8a45e02",
   "metadata": {},
   "outputs": [
    {
     "name": "stdout",
     "output_type": "stream",
     "text": [
      "Next Worker: rag\n",
      "((), {'supervisor': None})\n",
      "----\n",
      "INSIDE RETRIEVER NODE(('rag:c2cc6c35-cbe5-cd47-d66a-b08c59cd3335',), {'agent': {'messages': [AIMessage(content='', additional_kwargs={'tool_calls': [{'id': 'call_Z79RcAZh7jWqqO55mqLEZFLc', 'function': {'arguments': '{\"question\":\"top 5 artists\"}', 'name': 'retriever_tool'}, 'type': 'function'}], 'refusal': None}, response_metadata={'token_usage': {'completion_tokens': 19, 'prompt_tokens': 190, 'total_tokens': 209, 'completion_tokens_details': {'accepted_prediction_tokens': 0, 'audio_tokens': 0, 'reasoning_tokens': 0, 'rejected_prediction_tokens': 0}, 'prompt_tokens_details': {'audio_tokens': 0, 'cached_tokens': 0}}, 'model_name': 'gpt-4o-mini-2024-07-18', 'system_fingerprint': 'fp_560af6e559', 'id': 'chatcmpl-C9K5RmxkPN3PkYx9H6A7cmWvFrqFT', 'service_tier': 'default', 'finish_reason': 'tool_calls', 'logprobs': None}, id='run--30d246db-da3a-432c-8a4b-6a2a89be6506-0', tool_calls=[{'name': 'retriever_tool', 'args': {'question': 'top 5 artists'}, 'id': 'call_Z79RcAZh7jWqqO55mqLEZFLc', 'type': 'tool_call'}], usage_metadata={'input_tokens': 190, 'output_tokens': 19, 'total_tokens': 209, 'input_token_details': {'audio': 0, 'cache_read': 0}, 'output_token_details': {'audio': 0, 'reasoning': 0}})]}})\n",
      "----\n",
      "\n",
      "(('rag:c2cc6c35-cbe5-cd47-d66a-b08c59cd3335',), {'tools': {'messages': [ToolMessage(content='25/08/2025, 11:47\\u202fPMMastering SQL with the Chinook Database: A Journey Through Music Data Analytics | by Chiamaka Okakpu | Medium\\nPage 7 of 12https://medium.com/@chizobaokakpu65/mastering-sql-with-the-chinook-database-a-journey-through-music-data-analytics-f1d01cd4455a\\nGroup by a.artist_id\\nOrder by TotalRock DESC;\\nResult: Led Zeppelin dominates the rock scene with 114 rock songs.\\n6. Revenue Leader Analysis\\nQuestion: Which artist has earned the most according to InvoiceLines?\\nResult: Iron Maiden tops the earnings chart with 138.6 in total revenue.\\nSelect a.name As ArtistName, Sum (il.Quantity * il.unit_price) as TotalRevenue\\nFrom public.\"Artist\" As a\\nJoin public.\"Album\" As al \\nOn a.artist_id = al.artist_id\\nJoin public.\"Track\" As t\\nOn al.album_id = t.album_id\\nJoin public.\"Invoiceline\" As il\\nOn t.track_id = il.track_id\\nGroup by a.artist_id\\nOrder by TotalRevenue DESC;\\n\\n25/08/2025, 11:47\\u202fPMMastering SQL with the Chinook Database: A Journey Through Music Data Analytics | by Chiamaka Okakpu | Medium\\nPage 8 of 12https://medium.com/@chizobaokakpu65/mastering-sql-with-the-chinook-database-a-journey-through-music-data-analytics-f1d01cd4455a\\n7. Fan Loyalty Investigation\\nQuestion: Find the customer who spent the most on the top-earning\\nartist.\\nWith ArtistEarning As (\\nSelect a.name As ArtistName, Round(Sum(il.Quantity * il.unit_price),2) as TotalRevenue\\nFrom public.\"Artist\" As a\\nJoin public.\"Album\" As al \\nOn a.artist_id = al.artist_id\\nJoin public.\"Track\" As t\\nOn al.album_id = t.album_id\\nJoin public.\"Invoiceline\" As il\\nOn t.track_id = il.track_id\\nJoin public.\"Invoice\" As i\\nOn il.invoice_id = i.invoice_id\\nGroup by a.name), TopArtist As ( Select ArtistName From ArtistEarning\\nOrder by TotalRevenue DESC\\nLimit 1), \\nCustomerSpending As ( \\nSelect c.Customer_id, c.firstname, c.lastname, Sum(il.unit_price * il.quantity) As TotalSpent\\nFrom public.\"Customer\" As c', name='retriever_tool', id='a64631d9-805f-4e96-9372-48671b08a56d', tool_call_id='call_Z79RcAZh7jWqqO55mqLEZFLc')]}})\n",
      "----\n",
      "INSIDE RETRIEVER NODE\n",
      "INSIDE RETRIEVER NODE\n",
      "INSIDE RETRIEVER NODE\n",
      "INSIDE RETRIEVER NODE\n",
      "(('rag:c2cc6c35-cbe5-cd47-d66a-b08c59cd3335',), {'agent': {'messages': [AIMessage(content='', additional_kwargs={'tool_calls': [{'id': 'call_gyG1AFe4Tk2x0HeoaHbEYRHJ', 'function': {'arguments': '{\"question\": \"Led Zeppelin\"}', 'name': 'retriever_tool'}, 'type': 'function'}, {'id': 'call_fUVbOCsFHL36mdqgPsdA8WD7', 'function': {'arguments': '{\"question\": \"Iron Maiden\"}', 'name': 'retriever_tool'}, 'type': 'function'}, {'id': 'call_CVJVm4GVbmuUOTG2tMIqXhqm', 'function': {'arguments': '{\"question\": \"Top 5 artists\"}', 'name': 'retriever_tool'}, 'type': 'function'}, {'id': 'call_jgQDIvTyvyqey1pxXSKeKFIN', 'function': {'arguments': '{\"question\": \"The Beatles\"}', 'name': 'retriever_tool'}, 'type': 'function'}, {'id': 'call_Ut68CHWBKvEv4utRjhLj0FKz', 'function': {'arguments': '{\"question\": \"Michael Jackson\"}', 'name': 'retriever_tool'}, 'type': 'function'}], 'refusal': None}, response_metadata={'token_usage': {'completion_tokens': 103, 'prompt_tokens': 743, 'total_tokens': 846, 'completion_tokens_details': {'accepted_prediction_tokens': 0, 'audio_tokens': 0, 'reasoning_tokens': 0, 'rejected_prediction_tokens': 0}, 'prompt_tokens_details': {'audio_tokens': 0, 'cached_tokens': 0}}, 'model_name': 'gpt-4o-mini-2024-07-18', 'system_fingerprint': 'fp_560af6e559', 'id': 'chatcmpl-C9K5Sr9PPsTG2aq3ZmrnNv1oTNcsc', 'service_tier': 'default', 'finish_reason': 'tool_calls', 'logprobs': None}, id='run--2af101a1-c2de-49f1-8b2c-0863069db4d0-0', tool_calls=[{'name': 'retriever_tool', 'args': {'question': 'Led Zeppelin'}, 'id': 'call_gyG1AFe4Tk2x0HeoaHbEYRHJ', 'type': 'tool_call'}, {'name': 'retriever_tool', 'args': {'question': 'Iron Maiden'}, 'id': 'call_fUVbOCsFHL36mdqgPsdA8WD7', 'type': 'tool_call'}, {'name': 'retriever_tool', 'args': {'question': 'Top 5 artists'}, 'id': 'call_CVJVm4GVbmuUOTG2tMIqXhqm', 'type': 'tool_call'}, {'name': 'retriever_tool', 'args': {'question': 'The Beatles'}, 'id': 'call_jgQDIvTyvyqey1pxXSKeKFIN', 'type': 'tool_call'}, {'name': 'retriever_tool', 'args': {'question': 'Michael Jackson'}, 'id': 'call_Ut68CHWBKvEv4utRjhLj0FKz', 'type': 'tool_call'}], usage_metadata={'input_tokens': 743, 'output_tokens': 103, 'total_tokens': 846, 'input_token_details': {'audio': 0, 'cache_read': 0}, 'output_token_details': {'audio': 0, 'reasoning': 0}})]}})\n",
      "----\n",
      "INSIDE RETRIEVER NODE\n",
      "(('rag:c2cc6c35-cbe5-cd47-d66a-b08c59cd3335',), {'tools': {'messages': [ToolMessage(content='25/08/2025, 11:47\\u202fPMMastering SQL with the Chinook Database: A Journey Through Music Data Analytics | by Chiamaka Okakpu | Medium\\nPage 7 of 12https://medium.com/@chizobaokakpu65/mastering-sql-with-the-chinook-database-a-journey-through-music-data-analytics-f1d01cd4455a\\nGroup by a.artist_id\\nOrder by TotalRock DESC;\\nResult: Led Zeppelin dominates the rock scene with 114 rock songs.\\n6. Revenue Leader Analysis\\nQuestion: Which artist has earned the most according to InvoiceLines?\\nResult: Iron Maiden tops the earnings chart with 138.6 in total revenue.\\nSelect a.name As ArtistName, Sum (il.Quantity * il.unit_price) as TotalRevenue\\nFrom public.\"Artist\" As a\\nJoin public.\"Album\" As al \\nOn a.artist_id = al.artist_id\\nJoin public.\"Track\" As t\\nOn al.album_id = t.album_id\\nJoin public.\"Invoiceline\" As il\\nOn t.track_id = il.track_id\\nGroup by a.artist_id\\nOrder by TotalRevenue DESC;\\n\\n25/08/2025, 11:47\\u202fPMMastering SQL with the Chinook Database: A Journey Through Music Data Analytics | by Chiamaka Okakpu | Medium\\nPage 10 of 12https://medium.com/@chizobaokakpu65/mastering-sql-with-the-chinook-database-a-journey-through-music-data-analytics-f1d01cd4455a\\nResult: USA shows a strong preference for Rock music with 157\\npurchases.\\n9. Track Length Analysis\\nQuestion: Return track names with song length longer than average.\\nSelect t.name As TrackName, milliseconds\\nFrom public.\"Track\" As t\\nWhere milliseconds >  ( Select Avg(milliseconds) As avg_length\\nFrom public.\"Track\")\\nOrder by milliseconds Desc;\\nResult: 494 tracks exceed the average length, with\\nJoin public.\"Track\" As t\\nOn il.track_id = t.track_id\\nJoin public.\"Genre\" As g\\nOn t.genre_id = g.genre_id\\nGroup by Country, Genre\\nOrder by TotalPurchased Desc;', name='retriever_tool', id='0959f41c-2502-4fe4-bf61-0a994b684466', tool_call_id='call_gyG1AFe4Tk2x0HeoaHbEYRHJ'), ToolMessage(content='25/08/2025, 11:47\\u202fPMMastering SQL with the Chinook Database: A Journey Through Music Data Analytics | by Chiamaka Okakpu | Medium\\nPage 7 of 12https://medium.com/@chizobaokakpu65/mastering-sql-with-the-chinook-database-a-journey-through-music-data-analytics-f1d01cd4455a\\nGroup by a.artist_id\\nOrder by TotalRock DESC;\\nResult: Led Zeppelin dominates the rock scene with 114 rock songs.\\n6. Revenue Leader Analysis\\nQuestion: Which artist has earned the most according to InvoiceLines?\\nResult: Iron Maiden tops the earnings chart with 138.6 in total revenue.\\nSelect a.name As ArtistName, Sum (il.Quantity * il.unit_price) as TotalRevenue\\nFrom public.\"Artist\" As a\\nJoin public.\"Album\" As al \\nOn a.artist_id = al.artist_id\\nJoin public.\"Track\" As t\\nOn al.album_id = t.album_id\\nJoin public.\"Invoiceline\" As il\\nOn t.track_id = il.track_id\\nGroup by a.artist_id\\nOrder by TotalRevenue DESC;\\n\\n25/08/2025, 11:47\\u202fPMMastering SQL with the Chinook Database: A Journey Through Music Data Analytics | by Chiamaka Okakpu | Medium\\nPage 9 of 12https://medium.com/@chizobaokakpu65/mastering-sql-with-the-chinook-database-a-journey-through-music-data-analytics-f1d01cd4455a\\nResult: Mark Taylor is Iron Maiden’s biggest fan in terms of spending.\\n8. Country-Specific Genre Preferences\\nQuestion: What’s the most popular music genre for each country?\\nOn i.invoice_id = il.invoice_id\\nJoin public.\"Track\" As t\\nOn il.track_id = t.track_id\\nJoin public.\"Album\" As al\\nOn t.album_id = al.album_id\\nJoin public.\"Artist\" As a\\nOn al.artist_id = a.artist_id\\nWhere a.name = (\\nSelect ArtistName From TopArtist)\\nGroup by \\nc.customer_id,\\nc.firstname,\\nc.lastname\\n)\\nSelect customer_id, firstname, lastname, TotalSpent\\nFrom CustomerSpending\\nOrder by TotalSpent Desc\\nLimit 1;\\nSelect i.billing_country As Country, g.name As Genre, Count(*) As TotalPurchased\\nFrom public.\"Invoice\" As i\\nJoin public.\"Invoiceline\" As il', name='retriever_tool', id='f7fce5e6-8cdb-4d11-ba01-2c40f08c7c83', tool_call_id='call_fUVbOCsFHL36mdqgPsdA8WD7'), ToolMessage(content='25/08/2025, 11:47\\u202fPMMastering SQL with the Chinook Database: A Journey Through Music Data Analytics | by Chiamaka Okakpu | Medium\\nPage 7 of 12https://medium.com/@chizobaokakpu65/mastering-sql-with-the-chinook-database-a-journey-through-music-data-analytics-f1d01cd4455a\\nGroup by a.artist_id\\nOrder by TotalRock DESC;\\nResult: Led Zeppelin dominates the rock scene with 114 rock songs.\\n6. Revenue Leader Analysis\\nQuestion: Which artist has earned the most according to InvoiceLines?\\nResult: Iron Maiden tops the earnings chart with 138.6 in total revenue.\\nSelect a.name As ArtistName, Sum (il.Quantity * il.unit_price) as TotalRevenue\\nFrom public.\"Artist\" As a\\nJoin public.\"Album\" As al \\nOn a.artist_id = al.artist_id\\nJoin public.\"Track\" As t\\nOn al.album_id = t.album_id\\nJoin public.\"Invoiceline\" As il\\nOn t.track_id = il.track_id\\nGroup by a.artist_id\\nOrder by TotalRevenue DESC;\\n\\n25/08/2025, 11:47\\u202fPMMastering SQL with the Chinook Database: A Journey Through Music Data Analytics | by Chiamaka Okakpu | Medium\\nPage 6 of 12https://medium.com/@chizobaokakpu65/mastering-sql-with-the-chinook-database-a-journey-through-music-data-analytics-f1d01cd4455a\\nResult: 59 rows and 4 columns of rock music enthusiasts, ordered\\nalphabetically by email.\\n5. Artist Productivity in Rock Genre\\nQuestion: Which artist has written the most ROCK songs?\\nSelect a.name As ArtistName, Count (t.name) as TotalRock\\nFrom public.\"Artist\" As a\\nJoin public.\"Album\" As al \\nOn a.artist_id = al.artist_id\\nJoin public.\"Track\" As t\\nOn al.album_id = t.album_id\\nJoin public.\"Genre\" As g\\nOn t.genre_id = g.genre_id\\nWhere g.name = \\'Rock\\'\\nSelect Distinct C.firstname, C.lastname,C.email, g.name As Genre\\nFrom public.\"Customer\" as C\\nJoin public.\"Invoice\" as i\\nOn c.customer_id = i.customer_id\\nJoin public.\"Invoiceline\" As il\\nOn i.invoice_id = il.invoice_id\\nJoin public.\"Track\" As t\\nOn il.track_id = t.track_id', name='retriever_tool', id='6cec2d82-dd79-478d-a0bb-b4fa7b1caff6', tool_call_id='call_CVJVm4GVbmuUOTG2tMIqXhqm'), ToolMessage(content='25/08/2025, 11:47\\u202fPMMastering SQL with the Chinook Database: A Journey Through Music Data Analytics | by Chiamaka Okakpu | Medium\\nPage 7 of 12https://medium.com/@chizobaokakpu65/mastering-sql-with-the-chinook-database-a-journey-through-music-data-analytics-f1d01cd4455a\\nGroup by a.artist_id\\nOrder by TotalRock DESC;\\nResult: Led Zeppelin dominates the rock scene with 114 rock songs.\\n6. Revenue Leader Analysis\\nQuestion: Which artist has earned the most according to InvoiceLines?\\nResult: Iron Maiden tops the earnings chart with 138.6 in total revenue.\\nSelect a.name As ArtistName, Sum (il.Quantity * il.unit_price) as TotalRevenue\\nFrom public.\"Artist\" As a\\nJoin public.\"Album\" As al \\nOn a.artist_id = al.artist_id\\nJoin public.\"Track\" As t\\nOn al.album_id = t.album_id\\nJoin public.\"Invoiceline\" As il\\nOn t.track_id = il.track_id\\nGroup by a.artist_id\\nOrder by TotalRevenue DESC;\\n\\n25/08/2025, 11:47\\u202fPMMastering SQL with the Chinook Database: A Journey Through Music Data Analytics | by Chiamaka Okakpu | Medium\\nPage 10 of 12https://medium.com/@chizobaokakpu65/mastering-sql-with-the-chinook-database-a-journey-through-music-data-analytics-f1d01cd4455a\\nResult: USA shows a strong preference for Rock music with 157\\npurchases.\\n9. Track Length Analysis\\nQuestion: Return track names with song length longer than average.\\nSelect t.name As TrackName, milliseconds\\nFrom public.\"Track\" As t\\nWhere milliseconds >  ( Select Avg(milliseconds) As avg_length\\nFrom public.\"Track\")\\nOrder by milliseconds Desc;\\nResult: 494 tracks exceed the average length, with\\nJoin public.\"Track\" As t\\nOn il.track_id = t.track_id\\nJoin public.\"Genre\" As g\\nOn t.genre_id = g.genre_id\\nGroup by Country, Genre\\nOrder by TotalPurchased Desc;', name='retriever_tool', id='0dbe0085-3a7c-4dff-9b63-7b7ecd564fe8', tool_call_id='call_jgQDIvTyvyqey1pxXSKeKFIN'), ToolMessage(content='25/08/2025, 11:47\\u202fPMMastering SQL with the Chinook Database: A Journey Through Music Data Analytics | by Chiamaka Okakpu | Medium\\nPage 11 of 12https://medium.com/@chizobaokakpu65/mastering-sql-with-the-chinook-database-a-journey-through-music-data-analytics-f1d01cd4455a\\n“Occupation/Precipice” leading at 5,286,953 milliseconds.\\n10. T op Spender by Country\\nQuestion: Determine the customer who spent the most on music for each\\ncountry.\\nResult: Helena Holy from Czech Republic leads with 49.62 in total\\nspending.\\nConclusion\\nWorking with the Chinook database has been an incredible learning\\nexperience that reinforced several important principles:\\nSQL is about logic and persistence. Every error message is an\\nopportunity to learn something new about your data and your tools. The\\nfrustration of encountering “relation doesn’t exist” errors transformed into\\nSelect C.firstname, C.lastname, C.country, sum (total) as Totalspent\\nFrom public.\"Customer\" as C\\nJoin public.\"Invoice\" as I\\n\\n25/08/2025, 11:47\\u202fPMMastering SQL with the Chinook Database: A Journey Through Music Data Analytics | by Chiamaka Okakpu | Medium\\nPage 1 of 12https://medium.com/@chizobaokakpu65/mastering-sql-with-the-chinook-database-a-journey-through-music-data-analytics-f1d01cd4455a\\nMastering SQL with the Chinook\\nDatabase: A Journey Through Music\\nData AnalyticsChiamaka Okakpu', name='retriever_tool', id='052f2835-678d-4644-bb76-8e0bf34a13e3', tool_call_id='call_Ut68CHWBKvEv4utRjhLj0FKz')]}})\n",
      "----\n",
      "(('rag:c2cc6c35-cbe5-cd47-d66a-b08c59cd3335',), {'agent': {'messages': [AIMessage(content='The top 5 artists based on the data retrieved are:\\n\\n1. **Led Zeppelin**\\n   - Known for dominating the rock scene with a significant number of rock songs, Led Zeppelin is a legendary British rock band formed in 1968. They are famous for their innovative sound and have produced classic albums like \"Led Zeppelin IV\" and \"Physical Graffiti.\"\\n\\n2. **Iron Maiden**\\n   - Iron Maiden is a British heavy metal band formed in 1975. They are recognized for their complex compositions and energetic performances. The band has a massive following and is known for albums like \"The Number of the Beast\" and \"Powerslave.\" They have also topped the earnings chart in the data retrieved.\\n\\n3. **The Beatles**\\n   - The Beatles, formed in Liverpool in 1960, are one of the most influential bands in the history of music. Their innovative songwriting and recording techniques changed the landscape of popular music. Iconic albums include \"Abbey Road\" and \"Sgt. Pepper\\'s Lonely Hearts Club Band.\"\\n\\n4. **Michael Jackson**\\n   - Often referred to as the \"King of Pop,\" Michael Jackson was an American singer, songwriter, and dancer. His contributions to music, dance, and fashion made him a global figure in popular culture. Notable albums include \"Thriller\" and \"Bad.\"\\n\\n5. **(Artist not specified in the retrieved data)**\\n\\nFor further research on these artists, I can look up more detailed information about their careers, discographies, and impact on music. Would you like me to do that?', additional_kwargs={'refusal': None}, response_metadata={'token_usage': {'completion_tokens': 317, 'prompt_tokens': 3280, 'total_tokens': 3597, 'completion_tokens_details': {'accepted_prediction_tokens': 0, 'audio_tokens': 0, 'reasoning_tokens': 0, 'rejected_prediction_tokens': 0}, 'prompt_tokens_details': {'audio_tokens': 0, 'cached_tokens': 0}}, 'model_name': 'gpt-4o-mini-2024-07-18', 'system_fingerprint': 'fp_560af6e559', 'id': 'chatcmpl-C9K5VSbiWbtjCFkfz9zQZb6UjVvOh', 'service_tier': 'default', 'finish_reason': 'stop', 'logprobs': None}, id='run--7469d781-8c31-4e94-baa4-f3ae8c89e9ef-0', usage_metadata={'input_tokens': 3280, 'output_tokens': 317, 'total_tokens': 3597, 'input_token_details': {'audio': 0, 'cache_read': 0}, 'output_token_details': {'audio': 0, 'reasoning': 0}})]}})\n",
      "----\n",
      "((), {'rag': {'messages': [HumanMessage(content='The top 5 artists based on the data retrieved are:\\n\\n1. **Led Zeppelin**\\n   - Known for dominating the rock scene with a significant number of rock songs, Led Zeppelin is a legendary British rock band formed in 1968. They are famous for their innovative sound and have produced classic albums like \"Led Zeppelin IV\" and \"Physical Graffiti.\"\\n\\n2. **Iron Maiden**\\n   - Iron Maiden is a British heavy metal band formed in 1975. They are recognized for their complex compositions and energetic performances. The band has a massive following and is known for albums like \"The Number of the Beast\" and \"Powerslave.\" They have also topped the earnings chart in the data retrieved.\\n\\n3. **The Beatles**\\n   - The Beatles, formed in Liverpool in 1960, are one of the most influential bands in the history of music. Their innovative songwriting and recording techniques changed the landscape of popular music. Iconic albums include \"Abbey Road\" and \"Sgt. Pepper\\'s Lonely Hearts Club Band.\"\\n\\n4. **Michael Jackson**\\n   - Often referred to as the \"King of Pop,\" Michael Jackson was an American singer, songwriter, and dancer. His contributions to music, dance, and fashion made him a global figure in popular culture. Notable albums include \"Thriller\" and \"Bad.\"\\n\\n5. **(Artist not specified in the retrieved data)**\\n\\nFor further research on these artists, I can look up more detailed information about their careers, discographies, and impact on music. Would you like me to do that?', additional_kwargs={}, response_metadata={}, name='rag')]}})\n",
      "----\n",
      "Next Worker: web_researcher\n",
      "((), {'supervisor': None})\n",
      "----\n",
      "(('web_researcher:bef70efa-2fdf-1bda-4ea0-a1b1ecd685dd',), {'agent': {'messages': [AIMessage(content='', additional_kwargs={'tool_calls': [{'id': 'call_meIIbEYBibh73eCGAmTVwKaK', 'function': {'arguments': '{\"query\": \"Led Zeppelin biography and impact on music\"}', 'name': 'tavily_search_results_json'}, 'type': 'function'}, {'id': 'call_MpiPT0O4B3kxF7030jYq1IMj', 'function': {'arguments': '{\"query\": \"Iron Maiden biography and impact on music\"}', 'name': 'tavily_search_results_json'}, 'type': 'function'}, {'id': 'call_R1m6D8VzXyH6J3uccGekTa4n', 'function': {'arguments': '{\"query\": \"The Beatles biography and impact on music\"}', 'name': 'tavily_search_results_json'}, 'type': 'function'}, {'id': 'call_7fHtFks0SdBpe1cxXiUkL1ul', 'function': {'arguments': '{\"query\": \"Michael Jackson biography and impact on music\"}', 'name': 'tavily_search_results_json'}, 'type': 'function'}], 'refusal': None}, response_metadata={'token_usage': {'completion_tokens': 112, 'prompt_tokens': 536, 'total_tokens': 648, 'completion_tokens_details': {'accepted_prediction_tokens': 0, 'audio_tokens': 0, 'reasoning_tokens': 0, 'rejected_prediction_tokens': 0}, 'prompt_tokens_details': {'audio_tokens': 0, 'cached_tokens': 0}}, 'model_name': 'gpt-4o-mini-2024-07-18', 'system_fingerprint': 'fp_560af6e559', 'id': 'chatcmpl-C9K5ZwxMWgRWg8glBSsLHLoAktDMH', 'service_tier': 'default', 'finish_reason': 'tool_calls', 'logprobs': None}, id='run--8b509a21-295f-4066-8c48-0907238a2193-0', tool_calls=[{'name': 'tavily_search_results_json', 'args': {'query': 'Led Zeppelin biography and impact on music'}, 'id': 'call_meIIbEYBibh73eCGAmTVwKaK', 'type': 'tool_call'}, {'name': 'tavily_search_results_json', 'args': {'query': 'Iron Maiden biography and impact on music'}, 'id': 'call_MpiPT0O4B3kxF7030jYq1IMj', 'type': 'tool_call'}, {'name': 'tavily_search_results_json', 'args': {'query': 'The Beatles biography and impact on music'}, 'id': 'call_R1m6D8VzXyH6J3uccGekTa4n', 'type': 'tool_call'}, {'name': 'tavily_search_results_json', 'args': {'query': 'Michael Jackson biography and impact on music'}, 'id': 'call_7fHtFks0SdBpe1cxXiUkL1ul', 'type': 'tool_call'}], usage_metadata={'input_tokens': 536, 'output_tokens': 112, 'total_tokens': 648, 'input_token_details': {'audio': 0, 'cache_read': 0}, 'output_token_details': {'audio': 0, 'reasoning': 0}})]}})\n",
      "----\n",
      "(('web_researcher:bef70efa-2fdf-1bda-4ea0-a1b1ecd685dd',), {'tools': {'messages': [ToolMessage(content='[{\"title\": \"Led Zeppelin Merges Hard Rock and Folk Music - EBSCO\", \"url\": \"https://www.ebsco.com/research-starters/history/led-zeppelin-merges-hard-rock-and-folk-music\", \"content\": \"Davis, Stephen. Hammer of the Gods: The Led Zeppelin Saga. 1985. Reprint. New York: Berkley Boulevard Books, 2001. Thoroughly researched, this is the definitive biography of the band. It makes the point that Led Zeppelin became just as famous for its excesses as for its music. The paperback edition includes a chapter concerning Led Zeppelin’s reunion at the Live Aid concert in 1985.\", \"score\": 0.70847535}, {\"title\": \"LED ZEPPELIN DOCUMENTARY: A Brief History | Off Beat - YouTube\", \"url\": \"https://www.youtube.com/watch?v=H6-C4grfWMU\", \"content\": \"Intro Led Zeppelin were an English rock band formed in London in 1968. the group comprised vocalist Robert Plant guitarist Jimmy Page bassist and keyboardist John Paul Jones and drummer John Bonner with a heavy guitar-driven sound they are cited as one of the progenitors of hard rock and heavy metal although their style Drew from a variety of influences including blues and folk music Led Zeppelin had been credited as significantly impacting the nature of the music industry particularly in the [...] development of album-oriented rock and Stadium Rock Rolling Stone magazine described them as the heaviest band of all time the biggest band of the 70s and unquestionably one of the most enduring bands in rock history they were inducted into the Rock and Roll Hall of Fame in 1995 the Museum\\'s biography of the band states that they were as influential during the 1970s as the Beatles were during the 1960s let\\'s take a look at where the story began Led Zeppelin\\'s Roots can be traced back to another [...] the US and when I\\'ve owned four acts to earn five or more Diamond albums they achieved eight consecutive number ones on UK album charts and the record from most consecutive UK number one albums shared Abba Led Zeppelin remain one of the greatest Acts ax of all time so we\\'ve made it to the end of this Led Zeppelin biography I hope you\\'ve enjoyed it and can take something away from it quite an ambitious undertaking for me that required a lot more work than usual so please do support the channel\", \"score\": 0.66621506}]', name='tavily_search_results_json', id='6e92a91b-0bb5-4534-a31a-1e26cba9574d', tool_call_id='call_meIIbEYBibh73eCGAmTVwKaK', artifact={'query': 'Led Zeppelin biography and impact on music', 'follow_up_questions': None, 'answer': None, 'images': [], 'results': [{'url': 'https://www.ebsco.com/research-starters/history/led-zeppelin-merges-hard-rock-and-folk-music', 'title': 'Led Zeppelin Merges Hard Rock and Folk Music - EBSCO', 'content': 'Davis, Stephen. Hammer of the Gods: The Led Zeppelin Saga. 1985. Reprint. New York: Berkley Boulevard Books, 2001. Thoroughly researched, this is the definitive biography of the band. It makes the point that Led Zeppelin became just as famous for its excesses as for its music. The paperback edition includes a chapter concerning Led Zeppelin’s reunion at the Live Aid concert in 1985.', 'score': 0.70847535, 'raw_content': None}, {'url': 'https://www.youtube.com/watch?v=H6-C4grfWMU', 'title': 'LED ZEPPELIN DOCUMENTARY: A Brief History | Off Beat - YouTube', 'content': \"Intro Led Zeppelin were an English rock band formed in London in 1968. the group comprised vocalist Robert Plant guitarist Jimmy Page bassist and keyboardist John Paul Jones and drummer John Bonner with a heavy guitar-driven sound they are cited as one of the progenitors of hard rock and heavy metal although their style Drew from a variety of influences including blues and folk music Led Zeppelin had been credited as significantly impacting the nature of the music industry particularly in the [...] development of album-oriented rock and Stadium Rock Rolling Stone magazine described them as the heaviest band of all time the biggest band of the 70s and unquestionably one of the most enduring bands in rock history they were inducted into the Rock and Roll Hall of Fame in 1995 the Museum's biography of the band states that they were as influential during the 1970s as the Beatles were during the 1960s let's take a look at where the story began Led Zeppelin's Roots can be traced back to another [...] the US and when I've owned four acts to earn five or more Diamond albums they achieved eight consecutive number ones on UK album charts and the record from most consecutive UK number one albums shared Abba Led Zeppelin remain one of the greatest Acts ax of all time so we've made it to the end of this Led Zeppelin biography I hope you've enjoyed it and can take something away from it quite an ambitious undertaking for me that required a lot more work than usual so please do support the channel\", 'score': 0.66621506, 'raw_content': None}], 'response_time': 2.22, 'request_id': '6471696b-a594-45ae-b165-0b08d5b7e334'}), ToolMessage(content='[{\"title\": \"Iron Maiden - Simple English Wikipedia, the free encyclopedia\", \"url\": \"https://simple.wikipedia.org/wiki/Iron_Maiden\", \"content\": \"### Books\\\\n\\\\n[change | change source]\\\\n\\\\n   Wall, Mick (2004). _Iron Maiden: Run to the Hills, the Authorised Biography_ (third ed.). Sanctuary Publishing. ISBN \\\\\"ISBN (identifier)\\\\\")1-86074-542-3.\\\\n   Shooman, Joe (2007). _Bruce Dickinson: Flashing Metal with Iron Maiden and Flying Solo_. Independent Music Press. ISBN \\\\\"ISBN (identifier)\\\\\")978-0-9552822-4-9.\\\\n\\\\nOther websites\\\\n\\\\n[change | change source]\\\\n\\\\n   Official website\\\\n\\\\nRetrieved from \\\\\"\", \"score\": 0.64639384}, {\"title\": \"The Band - Iron Maiden\", \"url\": \"https://www.ironmaiden.com/the-band/\", \"content\": \"Their story is about more than tours that have encircled the globe or chart-smashing records that have inspired a fan base that can be found in every time zone. The near mythical status and undeniable cultural impact of Iron Maiden cannot be overstated. Yet it’s the fact that theirs is a tale which is still unfolding to this day which is truly worthy of note. [...] It’s a story like no other – a sound that changed the world. In the 50 years since bassist Steve Harris’ vision was birthed in the humble working-class sprawl of East London Iron Maiden have grown to become nothing less than an institution, and this year’s Run For Your Lives World Tour will see them playing stadiums around Europe in celebration of a remarkable half-century milestone. [...] By 1980 Iron Maiden had already earned themselves a cast-iron reputation for ferocious live-shows and a fiercely loyal following to match. Inspired by heavy rock and tempered by the heat of the burgeoning New Wave of British Heavy Metal, theirs was an upward ascent that would culminate in a landmark self-titled album debut which would immediately elevate them above their peers and serve as the prologue to a truly remarkable story that has captured the imagination of music lovers of every\", \"score\": 0.6077801}]', name='tavily_search_results_json', tool_call_id='call_MpiPT0O4B3kxF7030jYq1IMj', artifact={'query': 'Iron Maiden biography and impact on music', 'follow_up_questions': None, 'answer': None, 'images': [], 'results': [{'url': 'https://simple.wikipedia.org/wiki/Iron_Maiden', 'title': 'Iron Maiden - Simple English Wikipedia, the free encyclopedia', 'content': '### Books\\n\\n[change | change source]\\n\\n   Wall, Mick (2004). _Iron Maiden: Run to the Hills, the Authorised Biography_ (third ed.). Sanctuary Publishing. ISBN \"ISBN (identifier)\")1-86074-542-3.\\n   Shooman, Joe (2007). _Bruce Dickinson: Flashing Metal with Iron Maiden and Flying Solo_. Independent Music Press. ISBN \"ISBN (identifier)\")978-0-9552822-4-9.\\n\\nOther websites\\n\\n[change | change source]\\n\\n   Official website\\n\\nRetrieved from \"', 'score': 0.64639384, 'raw_content': None}, {'url': 'https://www.ironmaiden.com/the-band/', 'title': 'The Band - Iron Maiden', 'content': 'Their story is about more than tours that have encircled the globe or chart-smashing records that have inspired a fan base that can be found in every time zone. The near mythical status and undeniable cultural impact of Iron Maiden cannot be overstated. Yet it’s the fact that theirs is a tale which is still unfolding to this day which is truly worthy of note. [...] It’s a story like no other – a sound that changed the world. In the 50 years since bassist Steve Harris’ vision was birthed in the humble working-class sprawl of East London Iron Maiden have grown to become nothing less than an institution, and this year’s Run For Your Lives World Tour will see them playing stadiums around Europe in celebration of a remarkable half-century milestone. [...] By 1980 Iron Maiden had already earned themselves a cast-iron reputation for ferocious live-shows and a fiercely loyal following to match. Inspired by heavy rock and tempered by the heat of the burgeoning New Wave of British Heavy Metal, theirs was an upward ascent that would culminate in a landmark self-titled album debut which would immediately elevate them above their peers and serve as the prologue to a truly remarkable story that has captured the imagination of music lovers of every', 'score': 0.6077801, 'raw_content': None}], 'response_time': 2.33, 'request_id': '38673482-23c9-4edb-8425-5f74c0537dee'}), ToolMessage(content='[{\"title\": \"What impact did The Beatles have on the music industry ... - Quora\", \"url\": \"https://www.quora.com/What-impact-did-The-Beatles-have-on-the-music-industry-Did-they-introduce-new-elements-or-simply-popularize-existing-ones-such-as-the-British-Invasion\", \"content\": \"To read a good bio of the Beatles is to read a saga of ups and downs, and many early disappointments and heart aches. (The death of Stu Sutcliffe for example.) Nonetheless, you could argue that they got the few key lucky breaks they needed. One was being discovered by Liverpool music-store owner Brian Epstein, who became their manager. Another was being signed with music-record producer George Martin, who became their most important collaborator by far.\\\\n\\\\nAnd the rest, they say, is history. [...] Not only did they introduce a new genre of music, they also revolutionized the industry with the use of innovative recording techniques and creative songwriting. Their influence on popular culture has been far-reaching and long-lasting, inspiring generations of musicians, writers, and fans alike.\\\\n\\\\nThe Beatles\\\\n\\\\nImage 4\\\\n\\\\nUpvote · \\\\n\\\\n99 11\\\\n\\\\n9 2\\\\n\\\\nImage 5: Profile photo for Lance LaSalle\\\\n\\\\nLance LaSalle [...] — Peter Townshend, The Who\\\\n   They completely turned the world upside down.\\\\n\\\\n— Phill Collins - Genesis\\\\n   The Beatles were the \\'on\\' switch to my life. I can\\'t even put into words the impact they had on my seven year old soul. John, Paul, George, and Ringo changed the entire planet like no one will ever again. They are and always be the greatest band of all time. \\\\n\\\\n— Steve Lukather - Toto\\\\n   That one performance [Ed Sullivan] changed my life…\", \"score\": 0.6917478}, {\"title\": \"The Beatles | EBSCO Research Starters\", \"url\": \"https://www.ebsco.com/research-starters/biography/beatles\", \"content\": \"Worldwide, the Beatles had a significant and lasting influence on music, fashion, and popular culture. World music changed dramatically as songs grew longer and more reflective, as production experiments and new recording technology proliferated, and as record packaging suddenly became an art form of its own. Decades after the band dissolved, the Beatles remain among the best-selling recording artists of all time, ranked alongside such musical greats as Elvis Presley and Michael Jackson. [...] The Beatles were known for their innovative songwriting and experimentation with musical styles, notably in albums like \\\\\"Rubber Soul,\\\\\" \\\\\"Sgt. Pepper\\'s Lonely Hearts Club Band,\\\\\" and \\\\\"The White Album.\\\\\" Their influence extended beyond music, impacting fashion and culture significantly. After disbanding in 1970, each member pursued solo careers, with Lennon tragically assassinated in 1980 and Harrison passing in 2001. Despite their disbandment, the Beatles\\' legacy continues to thrive, with ongoing [...] The Beatles were a British rock band formed in Liverpool in the early 1960s, consisting of John Lennon, Paul McCartney, George Harrison, and Ringo Starr. They played a pivotal role in the popularization of rock and roll, becoming one of the best-selling and most influential music groups in history. The band\\'s journey began with their initial formation as the Quarrymen and evolved through extensive performances in Hamburg, where they honed their skills and developed a large repertoire. Their\", \"score\": 0.65676886}]', name='tavily_search_results_json', tool_call_id='call_R1m6D8VzXyH6J3uccGekTa4n', artifact={'query': 'The Beatles biography and impact on music', 'follow_up_questions': None, 'answer': None, 'images': [], 'results': [{'url': 'https://www.quora.com/What-impact-did-The-Beatles-have-on-the-music-industry-Did-they-introduce-new-elements-or-simply-popularize-existing-ones-such-as-the-British-Invasion', 'title': 'What impact did The Beatles have on the music industry ... - Quora', 'content': \"To read a good bio of the Beatles is to read a saga of ups and downs, and many early disappointments and heart aches. (The death of Stu Sutcliffe for example.) Nonetheless, you could argue that they got the few key lucky breaks they needed. One was being discovered by Liverpool music-store owner Brian Epstein, who became their manager. Another was being signed with music-record producer George Martin, who became their most important collaborator by far.\\n\\nAnd the rest, they say, is history. [...] Not only did they introduce a new genre of music, they also revolutionized the industry with the use of innovative recording techniques and creative songwriting. Their influence on popular culture has been far-reaching and long-lasting, inspiring generations of musicians, writers, and fans alike.\\n\\nThe Beatles\\n\\nImage 4\\n\\nUpvote · \\n\\n99 11\\n\\n9 2\\n\\nImage 5: Profile photo for Lance LaSalle\\n\\nLance LaSalle [...] — Peter Townshend, The Who\\n   They completely turned the world upside down.\\n\\n— Phill Collins - Genesis\\n   The Beatles were the 'on' switch to my life. I can't even put into words the impact they had on my seven year old soul. John, Paul, George, and Ringo changed the entire planet like no one will ever again. They are and always be the greatest band of all time. \\n\\n— Steve Lukather - Toto\\n   That one performance [Ed Sullivan] changed my life…\", 'score': 0.6917478, 'raw_content': None}, {'url': 'https://www.ebsco.com/research-starters/biography/beatles', 'title': 'The Beatles | EBSCO Research Starters', 'content': 'Worldwide, the Beatles had a significant and lasting influence on music, fashion, and popular culture. World music changed dramatically as songs grew longer and more reflective, as production experiments and new recording technology proliferated, and as record packaging suddenly became an art form of its own. Decades after the band dissolved, the Beatles remain among the best-selling recording artists of all time, ranked alongside such musical greats as Elvis Presley and Michael Jackson. [...] The Beatles were known for their innovative songwriting and experimentation with musical styles, notably in albums like \"Rubber Soul,\" \"Sgt. Pepper\\'s Lonely Hearts Club Band,\" and \"The White Album.\" Their influence extended beyond music, impacting fashion and culture significantly. After disbanding in 1970, each member pursued solo careers, with Lennon tragically assassinated in 1980 and Harrison passing in 2001. Despite their disbandment, the Beatles\\' legacy continues to thrive, with ongoing [...] The Beatles were a British rock band formed in Liverpool in the early 1960s, consisting of John Lennon, Paul McCartney, George Harrison, and Ringo Starr. They played a pivotal role in the popularization of rock and roll, becoming one of the best-selling and most influential music groups in history. The band\\'s journey began with their initial formation as the Quarrymen and evolved through extensive performances in Hamburg, where they honed their skills and developed a large repertoire. Their', 'score': 0.65676886, 'raw_content': None}], 'response_time': 2.52, 'request_id': '7b5d8813-6931-4b9d-9cad-788675e9055f'}), ToolMessage(content='[{\"title\": \"Michael Jackson | Biography, Albums, Songs, Thriller, Beat It, & Facts\", \"url\": \"https://www.britannica.com/biography/Michael-Jackson\", \"content\": \"Michael Jackson (born August 29, 1958, Gary, Indiana, U.S.—died June 25, 2009, Los Angeles, California) was an American singer, songwriter, and dancer who was one of the most popular and influential entertainers in the world in the late 20th and early 21st centuries. Jackson transformed popular music in the 1980s, earning himself the title the “King of Pop.” His influence went beyond songwriting and singing to encompass revolutions in dance, concert touring, video presentation, and music\", \"score\": 0.8116913}, {\"title\": \"The Incredible Life of Michael Jackson | Biography & Fun ... - YouTube\", \"url\": \"https://www.youtube.com/watch?v=B3K2jm3W5Qk\", \"content\": \"#MichaelJackson #BiographyForKids #KingOfPop #storytimewithlittlebooknook \\\\nThis video tells the story of the jackson 5 and Michael Jackson, starting from his early days in Gary, Indiana, and follows his incredible journey to becoming the king of pop. It highlights his impact on music video and the world, showing both his struggles and his legendary achievements. Learn more about the biography michael jackson in this brief overview. [...] global phenomenon. His influence extended far beyond music, fashion, dance, popular culture. Michael\\'s fingerprints were everywhere. That single white glove, the red leather jacket from Thriller, the fedora. These weren\\'t just costume pieces. They were cultural touchston. But Michael\\'s impact wasn\\'t just about style. He broke down racial barriers in the music industry. MTV, which initially rarely played videos by black artists, couldn\\'t ignore Michael. His crossover appeal was unprecedented. [...] behavior, everything was under the microscope. And then came the allegations. Look, I\\'m not here to pass judgment, but there\\'s no denying that these controversies had a profound impact on Michael\\'s life and career. Despite these challenges, Michael continued to make music. Albums like Bad, Dangerous, and History might not have reached the stratospheric heights of Thriller, but they still produced hits and showcased Michael\\'s evolving artistry. Songs like Man in the Mirror, Black or White, and\", \"score\": 0.76847315}]', name='tavily_search_results_json', tool_call_id='call_7fHtFks0SdBpe1cxXiUkL1ul', artifact={'query': 'Michael Jackson biography and impact on music', 'follow_up_questions': None, 'answer': None, 'images': [], 'results': [{'url': 'https://www.britannica.com/biography/Michael-Jackson', 'title': 'Michael Jackson | Biography, Albums, Songs, Thriller, Beat It, & Facts', 'content': 'Michael Jackson (born August 29, 1958, Gary, Indiana, U.S.—died June 25, 2009, Los Angeles, California) was an American singer, songwriter, and dancer who was one of the most popular and influential entertainers in the world in the late 20th and early 21st centuries. Jackson transformed popular music in the 1980s, earning himself the title the “King of Pop.” His influence went beyond songwriting and singing to encompass revolutions in dance, concert touring, video presentation, and music', 'score': 0.8116913, 'raw_content': None}, {'url': 'https://www.youtube.com/watch?v=B3K2jm3W5Qk', 'title': 'The Incredible Life of Michael Jackson | Biography & Fun ... - YouTube', 'content': \"#MichaelJackson #BiographyForKids #KingOfPop #storytimewithlittlebooknook \\nThis video tells the story of the jackson 5 and Michael Jackson, starting from his early days in Gary, Indiana, and follows his incredible journey to becoming the king of pop. It highlights his impact on music video and the world, showing both his struggles and his legendary achievements. Learn more about the biography michael jackson in this brief overview. [...] global phenomenon. His influence extended far beyond music, fashion, dance, popular culture. Michael's fingerprints were everywhere. That single white glove, the red leather jacket from Thriller, the fedora. These weren't just costume pieces. They were cultural touchston. But Michael's impact wasn't just about style. He broke down racial barriers in the music industry. MTV, which initially rarely played videos by black artists, couldn't ignore Michael. His crossover appeal was unprecedented. [...] behavior, everything was under the microscope. And then came the allegations. Look, I'm not here to pass judgment, but there's no denying that these controversies had a profound impact on Michael's life and career. Despite these challenges, Michael continued to make music. Albums like Bad, Dangerous, and History might not have reached the stratospheric heights of Thriller, but they still produced hits and showcased Michael's evolving artistry. Songs like Man in the Mirror, Black or White, and\", 'score': 0.76847315, 'raw_content': None}], 'response_time': 2.68, 'request_id': 'b9b3bad7-cee1-4f23-bb75-0eff7defba28'})]}})\n",
      "----\n",
      "(('web_researcher:bef70efa-2fdf-1bda-4ea0-a1b1ecd685dd',), {'agent': {'messages': [AIMessage(content='Here is a detailed overview of the top 4 artists based on the data retrieved:\\n\\n### 1. Led Zeppelin\\n- **Overview**: Led Zeppelin is a legendary British rock band formed in 1968, known for their heavy guitar-driven sound and innovative blend of rock, blues, and folk music. They are often credited as one of the progenitors of hard rock and heavy metal.\\n- **Impact**: The band significantly influenced the music industry, particularly in the development of album-oriented rock and stadium rock. They were inducted into the Rock and Roll Hall of Fame in 1995 and are considered one of the most enduring bands in rock history.\\n- **Notable Works**: Albums like \"Led Zeppelin IV\" and \"Physical Graffiti\" are among their most acclaimed.\\n- **Further Reading**: [Led Zeppelin Merges Hard Rock and Folk Music - EBSCO](https://www.ebsco.com/research-starters/history/led-zeppelin-merges-hard-rock-and-folk-music)\\n\\n### 2. Iron Maiden\\n- **Overview**: Iron Maiden is a British heavy metal band formed in 1975, recognized for their complex compositions and energetic performances. They have a massive following and are known for their theatrical live shows.\\n- **Impact**: The band has become an institution in the music world, with a career spanning over 50 years. They are celebrated for their influence on the heavy metal genre and have inspired countless musicians.\\n- **Notable Works**: Albums like \"The Number of the Beast\" and \"Powerslave\" are iconic in the heavy metal genre.\\n- **Further Reading**: [Iron Maiden - Simple English Wikipedia](https://simple.wikipedia.org/wiki/Iron_Maiden)\\n\\n### 3. The Beatles\\n- **Overview**: Formed in Liverpool in 1960, The Beatles are one of the most influential bands in music history. Their innovative songwriting and recording techniques changed the landscape of popular music.\\n- **Impact**: They revolutionized the music industry with their creative approaches and are credited with popularizing rock and roll. Their influence extends beyond music to fashion and culture.\\n- **Notable Works**: Iconic albums include \"Abbey Road,\" \"Sgt. Pepper\\'s Lonely Hearts Club Band,\" and \"The White Album.\"\\n- **Further Reading**: [The Beatles | EBSCO Research Starters](https://www.ebsco.com/research-starters/biography/beatles)\\n\\n### 4. Michael Jackson\\n- **Overview**: Michael Jackson, known as the \"King of Pop,\" was an American singer, songwriter, and dancer. He was one of the most popular entertainers in the world during the late 20th century.\\n- **Impact**: Jackson transformed popular music and dance, breaking down racial barriers in the music industry. His music videos and performances set new standards for the industry.\\n- **Notable Works**: Albums like \"Thriller,\" \"Bad,\" and \"Dangerous\" are among his most famous.\\n- **Further Reading**: [Michael Jackson | Biography, Albums, Songs, Thriller, Beat It, & Facts - Britannica](https://www.britannica.com/biography/Michael-Jackson)\\n\\nIf you would like more information or details about any specific artist, feel free to ask!', additional_kwargs={'refusal': None}, response_metadata={'token_usage': {'completion_tokens': 676, 'prompt_tokens': 2890, 'total_tokens': 3566, 'completion_tokens_details': {'accepted_prediction_tokens': 0, 'audio_tokens': 0, 'reasoning_tokens': 0, 'rejected_prediction_tokens': 0}, 'prompt_tokens_details': {'audio_tokens': 0, 'cached_tokens': 0}}, 'model_name': 'gpt-4o-mini-2024-07-18', 'system_fingerprint': 'fp_560af6e559', 'id': 'chatcmpl-C9K5fpQXXBieeSgZpmQ7POJChkXwu', 'service_tier': 'default', 'finish_reason': 'stop', 'logprobs': None}, id='run--3532f307-122e-4491-b56c-8afe532cb51f-0', usage_metadata={'input_tokens': 2890, 'output_tokens': 676, 'total_tokens': 3566, 'input_token_details': {'audio': 0, 'cache_read': 0}, 'output_token_details': {'audio': 0, 'reasoning': 0}})]}})\n",
      "----\n",
      "((), {'web_researcher': {'messages': [HumanMessage(content='Here is a detailed overview of the top 4 artists based on the data retrieved:\\n\\n### 1. Led Zeppelin\\n- **Overview**: Led Zeppelin is a legendary British rock band formed in 1968, known for their heavy guitar-driven sound and innovative blend of rock, blues, and folk music. They are often credited as one of the progenitors of hard rock and heavy metal.\\n- **Impact**: The band significantly influenced the music industry, particularly in the development of album-oriented rock and stadium rock. They were inducted into the Rock and Roll Hall of Fame in 1995 and are considered one of the most enduring bands in rock history.\\n- **Notable Works**: Albums like \"Led Zeppelin IV\" and \"Physical Graffiti\" are among their most acclaimed.\\n- **Further Reading**: [Led Zeppelin Merges Hard Rock and Folk Music - EBSCO](https://www.ebsco.com/research-starters/history/led-zeppelin-merges-hard-rock-and-folk-music)\\n\\n### 2. Iron Maiden\\n- **Overview**: Iron Maiden is a British heavy metal band formed in 1975, recognized for their complex compositions and energetic performances. They have a massive following and are known for their theatrical live shows.\\n- **Impact**: The band has become an institution in the music world, with a career spanning over 50 years. They are celebrated for their influence on the heavy metal genre and have inspired countless musicians.\\n- **Notable Works**: Albums like \"The Number of the Beast\" and \"Powerslave\" are iconic in the heavy metal genre.\\n- **Further Reading**: [Iron Maiden - Simple English Wikipedia](https://simple.wikipedia.org/wiki/Iron_Maiden)\\n\\n### 3. The Beatles\\n- **Overview**: Formed in Liverpool in 1960, The Beatles are one of the most influential bands in music history. Their innovative songwriting and recording techniques changed the landscape of popular music.\\n- **Impact**: They revolutionized the music industry with their creative approaches and are credited with popularizing rock and roll. Their influence extends beyond music to fashion and culture.\\n- **Notable Works**: Iconic albums include \"Abbey Road,\" \"Sgt. Pepper\\'s Lonely Hearts Club Band,\" and \"The White Album.\"\\n- **Further Reading**: [The Beatles | EBSCO Research Starters](https://www.ebsco.com/research-starters/biography/beatles)\\n\\n### 4. Michael Jackson\\n- **Overview**: Michael Jackson, known as the \"King of Pop,\" was an American singer, songwriter, and dancer. He was one of the most popular entertainers in the world during the late 20th century.\\n- **Impact**: Jackson transformed popular music and dance, breaking down racial barriers in the music industry. His music videos and performances set new standards for the industry.\\n- **Notable Works**: Albums like \"Thriller,\" \"Bad,\" and \"Dangerous\" are among his most famous.\\n- **Further Reading**: [Michael Jackson | Biography, Albums, Songs, Thriller, Beat It, & Facts - Britannica](https://www.britannica.com/biography/Michael-Jackson)\\n\\nIf you would like more information or details about any specific artist, feel free to ask!', additional_kwargs={}, response_metadata={}, name='web_researcher')]}})\n",
      "----\n",
      "Next Worker: FINISH\n",
      "((), {'supervisor': None})\n",
      "----\n"
     ]
    }
   ],
   "source": [
    "question = \"Find the top-5 artists, and then do a web research on them\"\n",
    "\n",
    "for s in graph.stream(\n",
    "    {\"messages\": [(\"user\", question)]}, subgraphs=True, config=config\n",
    "):\n",
    "    print(s)\n",
    "    print(\"----\")"
   ]
  },
  {
   "cell_type": "code",
   "execution_count": 24,
   "id": "7c82bd47",
   "metadata": {},
   "outputs": [
    {
     "name": "stdout",
     "output_type": "stream",
     "text": [
      "================================\u001b[1m Human Message \u001b[0m=================================\n",
      "\n",
      "what is the current weather in Kolkata\n",
      "\n",
      "================================\u001b[1m Human Message \u001b[0m=================================\n",
      "Name: web_researcher\n",
      "\n",
      "The current weather in Kolkata shows a minimum temperature of around 26°C and a maximum temperature reaching up to 31°C. The temperature is expected to hover around 27°C throughout the day, with a wind speed of approximately 6.16 km/h coming from 160 degrees and gusting up to 8.76 km/h. \n",
      "\n",
      "For more detailed information, you can check the full forecast [here](https://www.indiatoday.in/weather/kolkata-weather-forecast-today).\n",
      "\n",
      "================================\u001b[1m Human Message \u001b[0m=================================\n",
      "\n",
      "Find the top-5 artists, and then do a web research on them\n",
      "\n",
      "================================\u001b[1m Human Message \u001b[0m=================================\n",
      "Name: rag\n",
      "\n",
      "The top 5 artists based on the data retrieved are:\n",
      "\n",
      "1. **Led Zeppelin**\n",
      "   - Known for dominating the rock scene with a significant number of rock songs, Led Zeppelin is a legendary British rock band formed in 1968. They are famous for their innovative sound and have produced classic albums like \"Led Zeppelin IV\" and \"Physical Graffiti.\"\n",
      "\n",
      "2. **Iron Maiden**\n",
      "   - Iron Maiden is a British heavy metal band formed in 1975. They are recognized for their complex compositions and energetic performances. The band has a massive following and is known for albums like \"The Number of the Beast\" and \"Powerslave.\" They have also topped the earnings chart in the data retrieved.\n",
      "\n",
      "3. **The Beatles**\n",
      "   - The Beatles, formed in Liverpool in 1960, are one of the most influential bands in the history of music. Their innovative songwriting and recording techniques changed the landscape of popular music. Iconic albums include \"Abbey Road\" and \"Sgt. Pepper's Lonely Hearts Club Band.\"\n",
      "\n",
      "4. **Michael Jackson**\n",
      "   - Often referred to as the \"King of Pop,\" Michael Jackson was an American singer, songwriter, and dancer. His contributions to music, dance, and fashion made him a global figure in popular culture. Notable albums include \"Thriller\" and \"Bad.\"\n",
      "\n",
      "5. **(Artist not specified in the retrieved data)**\n",
      "\n",
      "For further research on these artists, I can look up more detailed information about their careers, discographies, and impact on music. Would you like me to do that?\n",
      "\n",
      "================================\u001b[1m Human Message \u001b[0m=================================\n",
      "Name: web_researcher\n",
      "\n",
      "Here is a detailed overview of the top 4 artists based on the data retrieved:\n",
      "\n",
      "### 1. Led Zeppelin\n",
      "- **Overview**: Led Zeppelin is a legendary British rock band formed in 1968, known for their heavy guitar-driven sound and innovative blend of rock, blues, and folk music. They are often credited as one of the progenitors of hard rock and heavy metal.\n",
      "- **Impact**: The band significantly influenced the music industry, particularly in the development of album-oriented rock and stadium rock. They were inducted into the Rock and Roll Hall of Fame in 1995 and are considered one of the most enduring bands in rock history.\n",
      "- **Notable Works**: Albums like \"Led Zeppelin IV\" and \"Physical Graffiti\" are among their most acclaimed.\n",
      "- **Further Reading**: [Led Zeppelin Merges Hard Rock and Folk Music - EBSCO](https://www.ebsco.com/research-starters/history/led-zeppelin-merges-hard-rock-and-folk-music)\n",
      "\n",
      "### 2. Iron Maiden\n",
      "- **Overview**: Iron Maiden is a British heavy metal band formed in 1975, recognized for their complex compositions and energetic performances. They have a massive following and are known for their theatrical live shows.\n",
      "- **Impact**: The band has become an institution in the music world, with a career spanning over 50 years. They are celebrated for their influence on the heavy metal genre and have inspired countless musicians.\n",
      "- **Notable Works**: Albums like \"The Number of the Beast\" and \"Powerslave\" are iconic in the heavy metal genre.\n",
      "- **Further Reading**: [Iron Maiden - Simple English Wikipedia](https://simple.wikipedia.org/wiki/Iron_Maiden)\n",
      "\n",
      "### 3. The Beatles\n",
      "- **Overview**: Formed in Liverpool in 1960, The Beatles are one of the most influential bands in music history. Their innovative songwriting and recording techniques changed the landscape of popular music.\n",
      "- **Impact**: They revolutionized the music industry with their creative approaches and are credited with popularizing rock and roll. Their influence extends beyond music to fashion and culture.\n",
      "- **Notable Works**: Iconic albums include \"Abbey Road,\" \"Sgt. Pepper's Lonely Hearts Club Band,\" and \"The White Album.\"\n",
      "- **Further Reading**: [The Beatles | EBSCO Research Starters](https://www.ebsco.com/research-starters/biography/beatles)\n",
      "\n",
      "### 4. Michael Jackson\n",
      "- **Overview**: Michael Jackson, known as the \"King of Pop,\" was an American singer, songwriter, and dancer. He was one of the most popular entertainers in the world during the late 20th century.\n",
      "- **Impact**: Jackson transformed popular music and dance, breaking down racial barriers in the music industry. His music videos and performances set new standards for the industry.\n",
      "- **Notable Works**: Albums like \"Thriller,\" \"Bad,\" and \"Dangerous\" are among his most famous.\n",
      "- **Further Reading**: [Michael Jackson | Biography, Albums, Songs, Thriller, Beat It, & Facts - Britannica](https://www.britannica.com/biography/Michael-Jackson)\n",
      "\n",
      "If you would like more information or details about any specific artist, feel free to ask!\n"
     ]
    }
   ],
   "source": [
    "state = graph.get_state(config)\n",
    "ChatPromptTemplate.from_messages(state.values[\"messages\"]).pretty_print()"
   ]
  },
  {
   "cell_type": "code",
   "execution_count": 25,
   "id": "2ab08500",
   "metadata": {},
   "outputs": [
    {
     "data": {
      "text/plain": [
       "'Here is a detailed overview of the top 4 artists based on the data retrieved:\\n\\n### 1. Led Zeppelin\\n- **Overview**: Led Zeppelin is a legendary British rock band formed in 1968, known for their heavy guitar-driven sound and innovative blend of rock, blues, and folk music. They are often credited as one of the progenitors of hard rock and heavy metal.\\n- **Impact**: The band significantly influenced the music industry, particularly in the development of album-oriented rock and stadium rock. They were inducted into the Rock and Roll Hall of Fame in 1995 and are considered one of the most enduring bands in rock history.\\n- **Notable Works**: Albums like \"Led Zeppelin IV\" and \"Physical Graffiti\" are among their most acclaimed.\\n- **Further Reading**: [Led Zeppelin Merges Hard Rock and Folk Music - EBSCO](https://www.ebsco.com/research-starters/history/led-zeppelin-merges-hard-rock-and-folk-music)\\n\\n### 2. Iron Maiden\\n- **Overview**: Iron Maiden is a British heavy metal band formed in 1975, recognized for their complex compositions and energetic performances. They have a massive following and are known for their theatrical live shows.\\n- **Impact**: The band has become an institution in the music world, with a career spanning over 50 years. They are celebrated for their influence on the heavy metal genre and have inspired countless musicians.\\n- **Notable Works**: Albums like \"The Number of the Beast\" and \"Powerslave\" are iconic in the heavy metal genre.\\n- **Further Reading**: [Iron Maiden - Simple English Wikipedia](https://simple.wikipedia.org/wiki/Iron_Maiden)\\n\\n### 3. The Beatles\\n- **Overview**: Formed in Liverpool in 1960, The Beatles are one of the most influential bands in music history. Their innovative songwriting and recording techniques changed the landscape of popular music.\\n- **Impact**: They revolutionized the music industry with their creative approaches and are credited with popularizing rock and roll. Their influence extends beyond music to fashion and culture.\\n- **Notable Works**: Iconic albums include \"Abbey Road,\" \"Sgt. Pepper\\'s Lonely Hearts Club Band,\" and \"The White Album.\"\\n- **Further Reading**: [The Beatles | EBSCO Research Starters](https://www.ebsco.com/research-starters/biography/beatles)\\n\\n### 4. Michael Jackson\\n- **Overview**: Michael Jackson, known as the \"King of Pop,\" was an American singer, songwriter, and dancer. He was one of the most popular entertainers in the world during the late 20th century.\\n- **Impact**: Jackson transformed popular music and dance, breaking down racial barriers in the music industry. His music videos and performances set new standards for the industry.\\n- **Notable Works**: Albums like \"Thriller,\" \"Bad,\" and \"Dangerous\" are among his most famous.\\n- **Further Reading**: [Michael Jackson | Biography, Albums, Songs, Thriller, Beat It, & Facts - Britannica](https://www.britannica.com/biography/Michael-Jackson)\\n\\nIf you would like more information or details about any specific artist, feel free to ask!'"
      ]
     },
     "execution_count": 25,
     "metadata": {},
     "output_type": "execute_result"
    }
   ],
   "source": [
    "state.values[\"messages\"][-1].content"
   ]
  },
  {
   "cell_type": "code",
   "execution_count": 28,
   "id": "2f7574b2",
   "metadata": {},
   "outputs": [
    {
     "data": {
      "text/markdown": [
       "Here is the information I found about the top two artists, Led Zeppelin and Iron Maiden:\n",
       "\n",
       "### 1. Led Zeppelin\n",
       "- **Overview**: Led Zeppelin is one of the best-selling music artists of all time, with estimated record sales of between 200 and 300 million units worldwide. They achieved eight consecutive UK number-one albums and six number-one albums on the US Billboard 200, with five of their albums certified Diamond in the US by the Recording Industry Association of America (RIAA).\n",
       "- **Influence**: They are often described as \"the heaviest band of all time\" and \"the biggest band of the seventies.\" Their music style drew from various influences, including blues and folk music, and they are credited with significantly impacting the music industry.\n",
       "- **More Information**: You can read more about them on their [Wikipedia page](https://en.wikipedia.org/wiki/Led_Zeppelin) or watch a [documentary](https://www.youtube.com/watch?v=H6-C4grfWMU) about their history.\n",
       "\n",
       "### 2. Iron Maiden\n",
       "- **Overview**: Iron Maiden is an English heavy metal band formed in 1975 by bassist and primary songwriter Steve Harris. The band is known for its pioneering role in the new wave of British heavy metal movement.\n",
       "- **Line-up**: The most recognized line-up includes Harris, lead vocalist Bruce Dickinson, drummer Nicko McBrain, and guitarists Dave Murray, Adrian Smith, and Janick Gers.\n",
       "- **Notable Works**: They released their self-titled album in 1980, which debuted at number 4 in the UK Albums Chart and included popular tracks like \"Running Free\" and \"Phantom of the Opera.\"\n",
       "- **More Information**: For further details, visit their [Wikipedia page](https://en.wikipedia.org/wiki/Iron_Maiden).\n",
       "\n",
       "If you would like to find information on the other three artists or need anything else, please let me know!"
      ],
      "text/plain": [
       "<IPython.core.display.Markdown object>"
      ]
     },
     "metadata": {},
     "output_type": "display_data"
    }
   ],
   "source": [
    "# response = graph.invoke({\"messages\": [(\"user\", question)]})\n",
    "# display(Markdown(response[\"messages\"][-1].content))\n",
    "display(Markdown(state.values[\"messages\"][-1].content))"
   ]
  },
  {
   "cell_type": "markdown",
   "id": "d68b36fb",
   "metadata": {},
   "source": [
    "---"
   ]
  },
  {
   "cell_type": "markdown",
   "id": "8b15ae8b",
   "metadata": {},
   "source": [
    "Alternatively, you can try the prebuilt templates provided by Langgraph:\n",
    "* https://github.com/langchain-ai/react-agent\n",
    "* https://github.com/langchain-ai/langgraph-supervisor-py"
   ]
  },
  {
   "cell_type": "markdown",
   "id": "83dad088",
   "metadata": {},
   "source": []
  }
 ],
 "metadata": {
  "kernelspec": {
   "display_name": "ia_desde_cero",
   "language": "python",
   "name": "python3"
  },
  "language_info": {
   "codemirror_mode": {
    "name": "ipython",
    "version": 3
   },
   "file_extension": ".py",
   "mimetype": "text/x-python",
   "name": "python",
   "nbconvert_exporter": "python",
   "pygments_lexer": "ipython3",
   "version": "3.11.13"
  }
 },
 "nbformat": 4,
 "nbformat_minor": 5
}
