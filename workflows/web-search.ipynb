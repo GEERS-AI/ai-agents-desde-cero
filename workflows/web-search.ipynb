{
 "cells": [
  {
   "cell_type": "markdown",
   "metadata": {},
   "source": [
    "# LangGraph doing a web search plus sentiment analysis\n",
    "\n",
    "* Sign up to: https://app.tavily.com/home\n",
    "* Tavily search tool: https://python.langchain.com/docs/integrations/tools/tavily_search\n",
    "* LangGraph persistence: https://langchain-ai.github.io/langgraph/concepts/persistence/"
   ]
  },
  {
   "cell_type": "code",
   "execution_count": 2,
   "metadata": {},
   "outputs": [],
   "source": [
    "%%capture --no-stderr\n",
    "%pip install langchain langchain-openai langchain_experimental python-dotenv matplotlib numpy pandas langgraph langchain-community langchain_tavily"
   ]
  },
  {
   "cell_type": "code",
   "execution_count": 3,
   "metadata": {},
   "outputs": [],
   "source": [
    "import json\n",
    "from dotenv import load_dotenv\n",
    "\n",
    "load_dotenv()\n",
    "\n",
    "def pp(data):\n",
    "    print(json.dumps(data, indent=2, default=str))\n"
   ]
  },
  {
   "cell_type": "markdown",
   "metadata": {},
   "source": [
    "## Tavily Search Tool"
   ]
  },
  {
   "cell_type": "code",
   "execution_count": 4,
   "metadata": {},
   "outputs": [],
   "source": [
    "from langchain_tavily import TavilySearch\n",
    "\n",
    "tavily_search = TavilySearch(\n",
    "    max_results=5,\n",
    "    topic=\"general\", # Can be \"general\", \"news\", or \"finance\"\n",
    "    # include_answer=False,\n",
    "    # include_raw_content=False,\n",
    "    include_images=False,\n",
    "    include_image_descriptions=False,\n",
    "    search_depth=\"basic\",\n",
    "    time_range=\"day\",\n",
    "    # include_domains=None,\n",
    "    # exclude_domains=None\n",
    ")\n",
    "\n",
    "response = tavily_search.invoke(\"Is people buying Bitcoin on the last month?\")\n"
   ]
  },
  {
   "cell_type": "code",
   "execution_count": 5,
   "metadata": {},
   "outputs": [
    {
     "data": {
      "text/plain": [
       "[{'url': 'https://www.reddit.com/r/Bitcoin/',\n",
       "  'title': 'Bitcoin - The Currency of the Internet',\n",
       "  'content': 'Bitcoin is up 80% over the past year, more than any other major asset.',\n",
       "  'score': 0.98571,\n",
       "  'raw_content': None},\n",
       " {'url': 'https://www.youtube.com/watch?v=nf8ssn7Clp8',\n",
       "  'title': 'Bitcoin Tumbles to $115K! Can The Rally Continue?',\n",
       "  'content': \"#Bitcoin #Crypto #Finance Is the Bitcoin cycle top already in, or are we gearing up for another leg higher? Today's livestream breaks down the latest\",\n",
       "  'score': 0.98352,\n",
       "  'raw_content': None},\n",
       " {'url': 'https://www.youtube.com/watch?v=w9s7Ukrxcpk',\n",
       "  'title': 'BTC About To Break? Sol, LINK & TOP ETH Tokens ...',\n",
       "  'content': \"BTC Hits ATH, Then Crashes | SOL Struggles | ETH Ecosystem Heating Up | Fed, SEC & DOGE ETF Bitcoin's wild ride continues — blasting past $100K to a new\",\n",
       "  'score': 0.9788,\n",
       "  'raw_content': None},\n",
       " {'url': 'https://pintu.co.id/en/news/195423-crypto-market-correction-bitcoin-price-plunges-to-115000-what-happened',\n",
       "  'title': 'Crypto Market Correction, Bitcoin Price Plunges to ...',\n",
       "  'content': 'Bitcoin plummeted to $115000 after the latest US economic data. Check out this in-depth analysis of the current crypto market correction.',\n",
       "  'score': 0.97417,\n",
       "  'raw_content': None},\n",
       " {'url': 'https://99bitcoins.com/news/altcoins/live-latest-crypto-news-august-19-bitcoin-price-struggles-to-hold-115k-xrp-reclaims-3-best-altcoins-to-buy-right-now/',\n",
       "  'title': '[LIVE] Latest Crypto News, August 19 – Bitcoin Price ...',\n",
       "  'content': 'The crypto market remains under pressure as Bitcoin slipped below $115,000, testing key support levels and dragging sentiment lower.',\n",
       "  'score': 0.97038,\n",
       "  'raw_content': None}]"
      ]
     },
     "execution_count": 5,
     "metadata": {},
     "output_type": "execute_result"
    }
   ],
   "source": [
    "response['results']"
   ]
  },
  {
   "cell_type": "markdown",
   "metadata": {},
   "source": [
    "## LangGraph Basics"
   ]
  },
  {
   "cell_type": "code",
   "execution_count": null,
   "metadata": {},
   "outputs": [
    {
     "data": {
      "image/png": "[encoded data removed]",
      "text/plain": [
       "<IPython.core.display.Image object>"
      ]
     },
     "metadata": {},
     "output_type": "display_data"
    }
   ],
   "source": [
    "from langgraph.graph import START, END, StateGraph\n",
    "from IPython.display import Image, display\n",
    "from typing_extensions import TypedDict\n",
    "from langchain.chat_models import init_chat_model\n",
    "\n",
    "llm = init_chat_model(\"openai:gpt-5-nano\")\n",
    "\n",
    "class TypedDictState(TypedDict):\n",
    "    user_query: str\n",
    "    refined_query: str\n",
    "    trending_topics: str\n",
    "    sentiment_analysis: str\n",
    "\n",
    "def refine_user_query(state: TypedDictState) -> TypedDictState:\n",
    "    user_query = state['user_query']\n",
    "\n",
    "    prompt = f\"\"\"\n",
    "    Given the user query, your job is to rewrite it to make it more specific and clear.\n",
    "\n",
    "    User query: {user_query}\n",
    "\n",
    "    Revised query:\"\"\"\n",
    "\n",
    "    response = llm.invoke(prompt)\n",
    "\n",
    "    return { \"refined_query\": response.content.strip() }\n",
    "\n",
    "def search_trending_topics(state: TypedDictState) -> TypedDictState:\n",
    "    refined_query = state['refined_query']\n",
    "\n",
    "    prompt = f\"\"\"\n",
    "    Given the refined user query, your job is to search for trending topics related to it.\n",
    "\n",
    "    Refined query: {refined_query}\n",
    "\n",
    "    Trending topics:\"\"\"\n",
    "\n",
    "    response = llm.bind_tools([tavily_search]).invoke(prompt)\n",
    "\n",
    "    return { \"trending_topics\": response.content.strip() }\n",
    "\n",
    "def analyze_sentiment(state: TypedDictState) -> TypedDictState:\n",
    "\n",
    "    trending_topics = state['trending_topics']\n",
    "\n",
    "    prompt = f\"\"\"\n",
    "    Given the trending topics, your job is to analyze their sentiment.\n",
    "\n",
    "    Trending topics: {trending_topics}\n",
    "\n",
    "    Sentiment analysis:\"\"\"\n",
    "\n",
    "    response = llm.invoke(prompt)\n",
    "\n",
    "    return { \"sentiment_analysis\": response.content.strip() }\n",
    "\n",
    "builder = StateGraph(TypedDictState)\n",
    "\n",
    "builder.add_node(\"refine_user_query\", refine_user_query)\n",
    "builder.add_node(\"search_trending_topics\", search_trending_topics)\n",
    "builder.add_node(\"analyze_sentiment\", analyze_sentiment)\n",
    "\n",
    "builder.add_edge(START, \"refine_user_query\")\n",
    "builder.add_edge(\"refine_user_query\", \"search_trending_topics\")\n",
    "builder.add_edge(\"search_trending_topics\", \"analyze_sentiment\")\n",
    "builder.add_edge(\"analyze_sentiment\", END)\n",
    "\n",
    "graph = builder.compile()\n",
    "\n",
    "display(Image(graph.get_graph(xray=True).draw_mermaid_png()))"
   ]
  },
  {
   "cell_type": "code",
   "execution_count": 7,
   "metadata": {},
   "outputs": [],
   "source": [
    "initial_state : TypedDictState = {\n",
    "    \"user_query\": \"Is people buying ETH on the last month?\",\n",
    "    \"refined_query\": \"\",\n",
    "    \"trending_topics\": \"\",\n",
    "    \"sentiment_analysis\": \"\"\n",
    "}\n",
    "\n",
    "state = graph.invoke(input=initial_state)"
   ]
  },
  {
   "cell_type": "code",
   "execution_count": 8,
   "metadata": {},
   "outputs": [
    {
     "data": {
      "text/plain": [
       "{'user_query': 'Is people buying ETH on the last month?',\n",
       " 'refined_query': 'Revised query: What was the total buy volume of Ethereum (ETH) on major exchanges in the last 30 days, and how did it compare to the previous 30 days?',\n",
       " 'trending_topics': '',\n",
       " 'sentiment_analysis': 'I don’t have the actual trending topics yet. Please provide the list of topics you want analyzed (and optionally a few recent posts for each topic). I’ll return a sentiment analysis for each.\\n\\nWhat I’ll deliver for each topic:\\n- Topic name\\n- Overall sentiment: Positive / Neutral / Negative\\n- Polarity score: -1.0 (very negative) to +1.0 (very positive)\\n- Confidence (how sure the analysis is)\\n- Top sentiment drivers (keywords or themes pulling the sentiment)\\n- 2–3 representative posts or quotes illustrating the sentiment\\n- Quick notes on any caveats (e.g., mixed feelings, sarcasm, topic ambiguity)\\n\\nOptional: specify the time window (e.g., past 24 hours, past week) and sources (Twitter/X, Reddit, news, forums).\\n\\nIf you’d like, I can also show a quick example with placeholder topics just to demonstrate the format. For example:\\n- Topic: “Product X launch”\\n  - Overall sentiment: Positive\\n  - Polarity score: +0.62\\n  - Confidence: 0.78\\n  - Top drivers: “new features,” “pricing,” “availability”\\n  - Quotes: “Impressive features at this price,” “waiting for reviews”\\n  - Notes: Some sarcasm around launch delays noted\\n\\nPlease paste the trending topics (and any sample posts), and I’ll analyze them.'}"
      ]
     },
     "execution_count": 8,
     "metadata": {},
     "output_type": "execute_result"
    }
   ],
   "source": [
    "state"
   ]
  },
  {
   "cell_type": "code",
   "execution_count": 9,
   "metadata": {},
   "outputs": [
    {
     "data": {
      "text/markdown": [
       "**Sentiment Analysis:**\n",
       "\n",
       "I don’t have the actual trending topics yet. Please provide the list of topics you want analyzed (and optionally a few recent posts for each topic). I’ll return a sentiment analysis for each.\n",
       "\n",
       "What I’ll deliver for each topic:\n",
       "- Topic name\n",
       "- Overall sentiment: Positive / Neutral / Negative\n",
       "- Polarity score: -1.0 (very negative) to +1.0 (very positive)\n",
       "- Confidence (how sure the analysis is)\n",
       "- Top sentiment drivers (keywords or themes pulling the sentiment)\n",
       "- 2–3 representative posts or quotes illustrating the sentiment\n",
       "- Quick notes on any caveats (e.g., mixed feelings, sarcasm, topic ambiguity)\n",
       "\n",
       "Optional: specify the time window (e.g., past 24 hours, past week) and sources (Twitter/X, Reddit, news, forums).\n",
       "\n",
       "If you’d like, I can also show a quick example with placeholder topics just to demonstrate the format. For example:\n",
       "- Topic: “Product X launch”\n",
       "  - Overall sentiment: Positive\n",
       "  - Polarity score: +0.62\n",
       "  - Confidence: 0.78\n",
       "  - Top drivers: “new features,” “pricing,” “availability”\n",
       "  - Quotes: “Impressive features at this price,” “waiting for reviews”\n",
       "  - Notes: Some sarcasm around launch delays noted\n",
       "\n",
       "Please paste the trending topics (and any sample posts), and I’ll analyze them."
      ],
      "text/plain": [
       "<IPython.core.display.Markdown object>"
      ]
     },
     "metadata": {},
     "output_type": "display_data"
    }
   ],
   "source": [
    "from IPython.display import Markdown, display\n",
    "\n",
    "display(Markdown(f\"**Sentiment Analysis:**\\n\\n{state['sentiment_analysis']}\"))\n"
   ]
  },
  {
   "cell_type": "markdown",
   "metadata": {},
   "source": [
    "## Ejecución secuencial utilizando iteradores (aka stream)"
   ]
  },
  {
   "cell_type": "code",
   "execution_count": 10,
   "metadata": {},
   "outputs": [
    {
     "name": "stdout",
     "output_type": "stream",
     "text": [
      "\u001b[1m[values]\u001b[0m {'user_query': 'Is people buying ETH on the last month?', 'refined_query': '', 'trending_topics': '', 'sentiment_analysis': ''}\n",
      "\u001b[1m[updates]\u001b[0m {'refine_user_query': {'refined_query': 'Revised query: What has been the buying activity for Ethereum (ETH) over the past 30 days?'}}\n",
      "{'refine_user_query': {'refined_query': 'Revised query: What has been the buying activity for Ethereum (ETH) over the past 30 days?'}}\n",
      "\u001b[1m[values]\u001b[0m {'user_query': 'Is people buying ETH on the last month?', 'refined_query': 'Revised query: What has been the buying activity for Ethereum (ETH) over the past 30 days?', 'trending_topics': '', 'sentiment_analysis': ''}\n",
      "\u001b[1m[updates]\u001b[0m {'search_trending_topics': {'trending_topics': ''}}\n",
      "{'search_trending_topics': {'trending_topics': ''}}\n",
      "\u001b[1m[values]\u001b[0m {'user_query': 'Is people buying ETH on the last month?', 'refined_query': 'Revised query: What has been the buying activity for Ethereum (ETH) over the past 30 days?', 'trending_topics': '', 'sentiment_analysis': ''}\n",
      "\u001b[1m[updates]\u001b[0m {'analyze_sentiment': {'sentiment_analysis': 'I can do that, but I need the list of trending topics to analyze. Please paste the topics (one per line or comma-separated).\\n\\nIf you’d like, I can also fetch current trends from a platform you name (e.g., Twitter, Google Trends) and analyze them—just confirm the source and time window.\\n\\nHere’s the format I’ll return for each topic (you’ll see a bullet per topic):\\n\\n- Topic: [topic text]\\n  - Overall sentiment: Positive / Negative / Neutral\\n  - Confidence: High / Medium / Low\\n  - Score: [-1 to 1] (where -1 is strongly negative, 0 is neutral, +1 is strongly positive)\\n  - Rationale: brief note on why this sentiment is assigned\\n  - Key themes: [concise keywords or phrases driving the sentiment]\\n\\nIf you provide the topics, I’ll generate the analysis right away.'}}\n",
      "{'analyze_sentiment': {'sentiment_analysis': 'I can do that, but I need the list of trending topics to analyze. Please paste the topics (one per line or comma-separated).\\n\\nIf you’d like, I can also fetch current trends from a platform you name (e.g., Twitter, Google Trends) and analyze them—just confirm the source and time window.\\n\\nHere’s the format I’ll return for each topic (you’ll see a bullet per topic):\\n\\n- Topic: [topic text]\\n  - Overall sentiment: Positive / Negative / Neutral\\n  - Confidence: High / Medium / Low\\n  - Score: [-1 to 1] (where -1 is strongly negative, 0 is neutral, +1 is strongly positive)\\n  - Rationale: brief note on why this sentiment is assigned\\n  - Key themes: [concise keywords or phrases driving the sentiment]\\n\\nIf you provide the topics, I’ll generate the analysis right away.'}}\n",
      "\u001b[1m[values]\u001b[0m {'user_query': 'Is people buying ETH on the last month?', 'refined_query': 'Revised query: What has been the buying activity for Ethereum (ETH) over the past 30 days?', 'trending_topics': '', 'sentiment_analysis': 'I can do that, but I need the list of trending topics to analyze. Please paste the topics (one per line or comma-separated).\\n\\nIf you’d like, I can also fetch current trends from a platform you name (e.g., Twitter, Google Trends) and analyze them—just confirm the source and time window.\\n\\nHere’s the format I’ll return for each topic (you’ll see a bullet per topic):\\n\\n- Topic: [topic text]\\n  - Overall sentiment: Positive / Negative / Neutral\\n  - Confidence: High / Medium / Low\\n  - Score: [-1 to 1] (where -1 is strongly negative, 0 is neutral, +1 is strongly positive)\\n  - Rationale: brief note on why this sentiment is assigned\\n  - Key themes: [concise keywords or phrases driving the sentiment]\\n\\nIf you provide the topics, I’ll generate the analysis right away.'}\n"
     ]
    }
   ],
   "source": [
    "from langchain_core.runnables import RunnableConfig\n",
    "from langgraph.checkpoint.memory import InMemorySaver\n",
    "\n",
    "initial_state : TypedDictState = {\n",
    "    \"user_query\": \"Is people buying ETH on the last month?\",\n",
    "    \"refined_query\": \"\",\n",
    "    \"trending_topics\": \"\",\n",
    "    \"sentiment_analysis\": \"\"\n",
    "}\n",
    "\n",
    "# Configuración para poder disponer del estado de la ejecución\n",
    "config : RunnableConfig = {\n",
    "    \"configurable\": {\n",
    "        # Esto funciona como una key para la corriga que voy a monitorear\n",
    "        \"thread_id\": \"web_search_run_1234\",\n",
    "    }\n",
    "}\n",
    "\n",
    "# Funciona como un logger en memoria\n",
    "memory = InMemorySaver()\n",
    "\n",
    "# Conecto el checkpointer al grafo\n",
    "graph = builder.compile(checkpointer=memory)\n",
    "\n",
    "# stream_mode disponibles => https://langchain-ai.github.io/langgraph/how-tos/streaming/\n",
    "iter = graph.stream(initial_state, config=config, debug=True, stream_mode=\"updates\")\n",
    "\n",
    "for state in iter:\n",
    "    print(state)\n"
   ]
  },
  {
   "cell_type": "code",
   "execution_count": 11,
   "metadata": {},
   "outputs": [
    {
     "name": "stdout",
     "output_type": "stream",
     "text": [
      "\u001b[1m[values]\u001b[0m {'user_query': 'Is people buying ETH on the last month?', 'refined_query': '', 'trending_topics': '', 'sentiment_analysis': ''}\n",
      "\u001b[1m[updates]\u001b[0m {'refine_user_query': {'refined_query': 'Have people been buying Ethereum (ETH) in the past month?'}}\n",
      "{'refine_user_query': {'refined_query': 'Have people been buying Ethereum (ETH) in the past month?'}}\n",
      "\u001b[1m[values]\u001b[0m {'user_query': 'Is people buying ETH on the last month?', 'refined_query': 'Have people been buying Ethereum (ETH) in the past month?', 'trending_topics': '', 'sentiment_analysis': ''}\n",
      "\u001b[1m[updates]\u001b[0m {'__interrupt__': ()}\n",
      "{'__interrupt__': ()}\n"
     ]
    }
   ],
   "source": [
    "initial_state : TypedDictState = {\n",
    "    \"user_query\": \"Is people buying ETH on the last month?\",\n",
    "    \"refined_query\": \"\",\n",
    "    \"trending_topics\": \"\",\n",
    "    \"sentiment_analysis\": \"\"\n",
    "}\n",
    "\n",
    "iter = graph.stream(initial_state, interrupt_before=\"search_trending_topics\", debug=True, config=config, stream_mode=\"updates\")\n",
    "\n",
    "for state in iter:\n",
    "    print(state)"
   ]
  },
  {
   "cell_type": "code",
   "execution_count": 12,
   "metadata": {},
   "outputs": [],
   "source": [
    "snapshot = graph.get_state(config=config)"
   ]
  },
  {
   "cell_type": "code",
   "execution_count": 13,
   "metadata": {},
   "outputs": [
    {
     "name": "stdout",
     "output_type": "stream",
     "text": [
      "{\n",
      "  \"user_query\": \"Is people buying ETH on the last month?\",\n",
      "  \"refined_query\": \"Have people been buying Ethereum (ETH) in the past month?\",\n",
      "  \"trending_topics\": \"\",\n",
      "  \"sentiment_analysis\": \"\"\n",
      "}\n"
     ]
    }
   ],
   "source": [
    "pp(snapshot.values)"
   ]
  },
  {
   "cell_type": "code",
   "execution_count": 14,
   "metadata": {},
   "outputs": [
    {
     "data": {
      "text/plain": [
       "{'__start__': <langgraph.pregel._read.PregelNode at 0x109511070>,\n",
       " 'refine_user_query': <langgraph.pregel._read.PregelNode at 0x109511130>,\n",
       " 'search_trending_topics': <langgraph.pregel._read.PregelNode at 0x1095110a0>,\n",
       " 'analyze_sentiment': <langgraph.pregel._read.PregelNode at 0x1095111f0>}"
      ]
     },
     "execution_count": 14,
     "metadata": {},
     "output_type": "execute_result"
    }
   ],
   "source": [
    "graph.nodes"
   ]
  },
  {
   "cell_type": "code",
   "execution_count": 15,
   "metadata": {},
   "outputs": [],
   "source": [
    "next_state = graph.nodes['search_trending_topics'].invoke(snapshot.values)"
   ]
  },
  {
   "cell_type": "code",
   "execution_count": 16,
   "metadata": {},
   "outputs": [
    {
     "data": {
      "text/plain": [
       "{'trending_topics': ''}"
      ]
     },
     "execution_count": 16,
     "metadata": {},
     "output_type": "execute_result"
    }
   ],
   "source": [
    "next_state"
   ]
  },
  {
   "cell_type": "code",
   "execution_count": 17,
   "metadata": {},
   "outputs": [
    {
     "name": "stdout",
     "output_type": "stream",
     "text": [
      "[\n",
      "  {\n",
      "    \"name\": \"tavily_search\",\n",
      "    \"args\": {\n",
      "      \"query\": \"Ethereum net inflows to exchanges last 30 days\",\n",
      "      \"search_depth\": \"advanced\",\n",
      "      \"time_range\": \"month\"\n",
      "    },\n",
      "    \"id\": \"call_Z2xwYisVY2Ax1GYFRXIKtMTt\",\n",
      "    \"type\": \"tool_call\"\n",
      "  },\n",
      "  {\n",
      "    \"name\": \"tavily_search\",\n",
      "    \"args\": {\n",
      "      \"query\": \"ETH buying activity last 30 days\",\n",
      "      \"search_depth\": \"advanced\",\n",
      "      \"time_range\": \"month\"\n",
      "    },\n",
      "    \"id\": \"call_AlrPeUkNkHIiPmIRbhk0LhEI\",\n",
      "    \"type\": \"tool_call\"\n",
      "  },\n",
      "  {\n",
      "    \"name\": \"tavily_search\",\n",
      "    \"args\": {\n",
      "      \"query\": \"Ethereum wallet activity last month trends\",\n",
      "      \"search_depth\": \"advanced\",\n",
      "      \"time_range\": \"month\"\n",
      "    },\n",
      "    \"id\": \"call_NSiPl8YrnWgKTHwYi0S3nuyN\",\n",
      "    \"type\": \"tool_call\"\n",
      "  },\n",
      "  {\n",
      "    \"name\": \"tavily_search\",\n",
      "    \"args\": {\n",
      "      \"query\": \"ETH price vs. on-chain metrics last 30 days\",\n",
      "      \"search_depth\": \"advanced\",\n",
      "      \"time_range\": \"month\"\n",
      "    },\n",
      "    \"id\": \"call_Rbd0he8eNxgN0GvDAWjbUQi6\",\n",
      "    \"type\": \"tool_call\"\n",
      "  }\n",
      "]\n"
     ]
    },
    {
     "data": {
      "text/plain": [
       "{'trending_topics': ''}"
      ]
     },
     "execution_count": 17,
     "metadata": {},
     "output_type": "execute_result"
    }
   ],
   "source": [
    "def search_trending_topics(state: TypedDictState) -> TypedDictState:\n",
    "    refined_query = state['refined_query']\n",
    "\n",
    "    prompt = f\"\"\"\n",
    "    Given the refined user query, your job is to search for trending topics related to it.\n",
    "\n",
    "    Refined query: {refined_query}\n",
    "\n",
    "    Trending topics:\"\"\"\n",
    "\n",
    "    response = llm.bind_tools([tavily_search]).invoke(prompt)\n",
    "\n",
    "    pp(response.tool_calls)\n",
    "\n",
    "    return { \"trending_topics\": response.content.strip() }\n",
    "\n",
    "search_trending_topics(snapshot.values)"
   ]
  },
  {
   "cell_type": "markdown",
   "metadata": {},
   "source": [
    "# Quien ejecuta la Tool Call?"
   ]
  }
 ],
 "metadata": {
  "kernelspec": {
   "display_name": ".venv",
   "language": "python",
   "name": "python3"
  },
  "language_info": {
   "codemirror_mode": {
    "name": "ipython",
    "version": 3
   },
   "file_extension": ".py",
   "mimetype": "text/x-python",
   "name": "python",
   "nbconvert_exporter": "python",
   "pygments_lexer": "ipython3",
   "version": "3.12.9"
  }
 },
 "nbformat": 4,
 "nbformat_minor": 2
}
