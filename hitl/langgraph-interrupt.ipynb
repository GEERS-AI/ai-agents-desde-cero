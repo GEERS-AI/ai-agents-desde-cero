{
 "cells": [
  {
   "cell_type": "markdown",
   "id": "73725802",
   "metadata": {},
   "source": [
    "# Human in the Loop"
   ]
  },
  {
   "cell_type": "markdown",
   "id": "d07b8f14",
   "metadata": {},
   "source": [
    "Langgraph supports different ways of interrumpting the control flow of a graph and allow for human intervention. The interruption of the states "
   ]
  },
  {
   "cell_type": "markdown",
   "id": "5054c68c",
   "metadata": {},
   "source": [
    "---"
   ]
  },
  {
   "cell_type": "code",
   "execution_count": 7,
   "id": "9ed1534e",
   "metadata": {},
   "outputs": [],
   "source": [
    "from dotenv import load_dotenv\n",
    "import pandas as pd\n",
    "from pathlib import Path\n",
    "import json\n",
    "from dotenv import load_dotenv\n",
    "import os \n",
    "import pprint\n",
    "from IPython.display import Image, display\n",
    "from typing import TypedDict, Annotated, Literal, Dict, Any\n",
    "from rich.console import Console\n",
    "from rich.markdown import Markdown"
   ]
  },
  {
   "cell_type": "markdown",
   "id": "48241fd2",
   "metadata": {},
   "source": [
    "Import the necessary classes from **Langchain** and **Langgraph**"
   ]
  },
  {
   "cell_type": "code",
   "execution_count": 2,
   "id": "ab382d0e",
   "metadata": {},
   "outputs": [],
   "source": [
    "from langgraph.graph import StateGraph, END\n",
    "from langchain.chat_models import init_chat_model\n",
    "from langgraph.checkpoint.memory import MemorySaver\n"
   ]
  },
  {
   "cell_type": "code",
   "execution_count": 61,
   "id": "32d6b770",
   "metadata": {},
   "outputs": [],
   "source": [
    "# %pip install rich"
   ]
  },
  {
   "cell_type": "code",
   "execution_count": 3,
   "id": "5e946d54",
   "metadata": {},
   "outputs": [
    {
     "data": {
      "text/plain": [
       "True"
      ]
     },
     "execution_count": 3,
     "metadata": {},
     "output_type": "execute_result"
    }
   ],
   "source": [
    "# Load environment variables from .env file\n",
    "load_dotenv()"
   ]
  },
  {
   "cell_type": "markdown",
   "id": "87285b30",
   "metadata": {},
   "source": [
    "We define an LLM model to use in a zero-shot mode to answer user questions"
   ]
  },
  {
   "cell_type": "code",
   "execution_count": 4,
   "id": "59919f98",
   "metadata": {},
   "outputs": [
    {
     "name": "stdout",
     "output_type": "stream",
     "text": [
      "openai:gpt-4o-mini\n"
     ]
    }
   ],
   "source": [
    "llm_model = \"openai:\"+os.getenv(\"OPENAI_MODEL\")\n",
    "print(llm_model)\n",
    "llm = init_chat_model(llm_model, temperature=0)"
   ]
  },
  {
   "cell_type": "code",
   "execution_count": 5,
   "id": "3a6f6c71",
   "metadata": {},
   "outputs": [],
   "source": [
    "# Define the state schema\n",
    "class HumanInTheLoopState(TypedDict):\n",
    "    question: str  # User's original question\n",
    "    ai_draft: str  # AI's initial response draft\n",
    "    human_feedback: str  # Human reviewer's feedback\n",
    "    final_response: str  # Final response after incorporating feedback"
   ]
  },
  {
   "cell_type": "markdown",
   "id": "c4a34fab",
   "metadata": {},
   "source": [
    "Definition of the nodes for the graph"
   ]
  },
  {
   "cell_type": "code",
   "execution_count": 8,
   "id": "5f2a42d4",
   "metadata": {},
   "outputs": [],
   "source": [
    "def draft_response(state: Dict[str, Any]) -> Dict[str, Any]:\n",
    "    \"\"\"AI drafts an initial response to the user's question\"\"\"\n",
    "    question = state[\"question\"]\n",
    "    \n",
    "    # In a real application, this would use an LLM to generate a response\n",
    "    # draft = f\"DRAFT: Here's my initial answer to: '{question}'\"\n",
    "    draft = llm.invoke(\"Answer the following question: \"+question)\n",
    "    \n",
    "    print(f\"\\n🤖 AI has drafted an initial response\")\n",
    "    # pprint.pprint(f\"{draft.content}\\n\")\n",
    "    return {\"ai_draft\": draft.content}\n",
    "\n",
    "def get_human_feedback(state: Dict[str, Any]) -> Dict[str, Any]:\n",
    "    \"\"\"Collect feedback from a human reviewer\"\"\"\n",
    "    # In a real application, this would be implemented with a UI\n",
    "    # or messaging platform to collect human input\n",
    "    print(\"\\n👋 HUMAN REVIEW REQUIRED!\\n\")\n",
    "    print(f\"Original question: {state['question']}\")\n",
    "    # print(f\"AI draft: {state['ai_draft']}\")\n",
    "    renderable_markup = Markdown(f\"**AI draft:** {state['ai_draft']}\")\n",
    "    console.print(renderable_markup)\n",
    "\n",
    "    # Simulating human input via console\n",
    "    feedback = input(\"\\nPlease provide feedback or type 'approve' to accept: \")\n",
    "    \n",
    "    print(f\"\\n👤 Human provided feedback: {feedback}\\n\")\n",
    "    return {\"human_feedback\": feedback}\n",
    "\n",
    "def decide_next_step(state: Dict[str, Any]) -> Literal[\"revise\", \"finalize\"]:\n",
    "    \"\"\"Decide whether to revise the response or finalize it\"\"\"\n",
    "    if state[\"human_feedback\"].lower() == \"approve\":\n",
    "        return \"finalize\"\n",
    "    else:\n",
    "        return \"revise\"\n",
    "\n",
    "def revise_response(state: Dict[str, Any]) -> Dict[str, Any]:\n",
    "    \"\"\"Revise the response based on human feedback\"\"\"\n",
    "    # In a real application, this would use an LLM to incorporate feedback\n",
    "    old_draft = \"For the following question: \"+ state['question']+ \", you previously provided this answer: \"+ state['ai_draft']\n",
    "    revised_response = llm.invoke(old_draft + \". The user provided feedback: \"+ state['human_feedback']+ \". Please revisit it and provide a new answer.\")\n",
    "    # revised_response = f\"REVISED: I've updated my answer based on feedback: '{state['human_feedback']}'\"\n",
    "    \n",
    "    print(f\"\\n🤖 AI has revised the response.\")\n",
    "    # pprint.pprint(f\"{revised_response.content}\\n\")\n",
    "    return {\"ai_draft\": revised_response.content}\n",
    "\n",
    "def finalize_response(state: Dict[str, Any]) -> Dict[str, Any]:\n",
    "    \"\"\"Finalize the response and return to the user\"\"\"\n",
    "    \n",
    "    print(f\"\\n✅ Final response ready:\")\n",
    "    renderable_markup = Markdown(f\"{state['ai_draft']}\\n\")\n",
    "    console.print(renderable_markup)\n",
    "\n",
    "    return {\"final_response\": state['ai_draft']}"
   ]
  },
  {
   "cell_type": "markdown",
   "id": "a6b000fe",
   "metadata": {},
   "source": [
    "Assembling the graph"
   ]
  },
  {
   "cell_type": "code",
   "execution_count": 9,
   "id": "f43eab32",
   "metadata": {},
   "outputs": [
    {
     "data": {
      "image/png": "[encoded data removed]",
      "text/plain": [
       "<IPython.core.display.Image object>"
      ]
     },
     "metadata": {},
     "output_type": "display_data"
    }
   ],
   "source": [
    "# Initialize the graph\n",
    "graph = StateGraph(HumanInTheLoopState)\n",
    "\n",
    "# Add nodes\n",
    "graph.add_node(\"draft\", draft_response)\n",
    "graph.add_node(\"human_review\", get_human_feedback)  # Renamed from \"human_feedback\"\n",
    "graph.add_node(\"revise\", revise_response)\n",
    "graph.add_node(\"finalize\", finalize_response)\n",
    "\n",
    "# Define the flow\n",
    "graph.add_edge(\"draft\", \"human_review\")\n",
    "graph.add_conditional_edges(\n",
    "    \"human_review\",\n",
    "    decide_next_step,\n",
    "    {\n",
    "        \"revise\": \"revise\",\n",
    "        \"finalize\": \"finalize\"\n",
    "    }\n",
    ")\n",
    "graph.add_edge(\"revise\", \"human_review\")\n",
    "graph.add_edge(\"finalize\", END)\n",
    "\n",
    "# Set the entry point\n",
    "graph.set_entry_point(\"draft\")\n",
    "\n",
    "checkpointer = MemorySaver()\n",
    "workflow = graph.compile(checkpointer=checkpointer)\n",
    "\n",
    "display(Image(workflow.get_graph().draw_mermaid_png()))"
   ]
  },
  {
   "cell_type": "code",
   "execution_count": 10,
   "id": "b0f6bf28",
   "metadata": {},
   "outputs": [],
   "source": [
    "from rich.console import Console\n",
    "from rich.markdown import Markdown\n",
    "\n",
    "# This console is only for rendering Markup content nicely\n",
    "console = Console()"
   ]
  },
  {
   "cell_type": "markdown",
   "id": "7e36aa3f",
   "metadata": {},
   "source": [
    "Testing a simple \"approve\" interruption"
   ]
  },
  {
   "cell_type": "code",
   "execution_count": 11,
   "id": "45f00ea8",
   "metadata": {},
   "outputs": [
    {
     "name": "stdout",
     "output_type": "stream",
     "text": [
      "\n",
      "🤖 AI has drafted an initial response\n",
      "\n",
      "👋 HUMAN REVIEW REQUIRED!\n",
      "\n",
      "Original question: What's the best way to implement HITL systems?\n"
     ]
    },
    {
     "data": {
      "text/html": [
       "<pre style=\"white-space:pre;overflow-x:auto;line-height:normal;font-family:Menlo,'DejaVu Sans Mono',consolas,'Courier New',monospace\"><span style=\"font-weight: bold\">AI draft:</span> Implementing Human-in-the-Loop (HITL) systems effectively involves several key steps and considerations. \n",
       "Here’s a structured approach to ensure successful implementation:                                                  \n",
       "\n",
       "<span style=\"color: #808000; text-decoration-color: #808000; font-weight: bold\">  1 </span><span style=\"font-weight: bold\">Define Objectives and Use Cases</span>:                                                                               \n",
       "<span style=\"color: #808000; text-decoration-color: #808000; font-weight: bold\">     • </span>Clearly outline the goals of the HITL system. Identify specific tasks where human input is necessary, such  \n",
       "<span style=\"color: #808000; text-decoration-color: #808000; font-weight: bold\">       </span>as data labeling, decision-making, or quality assurance.                                                    \n",
       "<span style=\"color: #808000; text-decoration-color: #808000; font-weight: bold\">     • </span>Determine the scenarios in which human intervention will enhance the system's performance.                  \n",
       "<span style=\"color: #808000; text-decoration-color: #808000; font-weight: bold\">  2 </span><span style=\"font-weight: bold\">Select Appropriate Technology</span>:                                                                                 \n",
       "<span style=\"color: #808000; text-decoration-color: #808000; font-weight: bold\">     • </span>Choose the right tools and platforms that support HITL processes. This may include machine learning         \n",
       "<span style=\"color: #808000; text-decoration-color: #808000; font-weight: bold\">       </span>frameworks, data annotation tools, and user interfaces for human operators.                                 \n",
       "<span style=\"color: #808000; text-decoration-color: #808000; font-weight: bold\">     • </span>Ensure that the technology can seamlessly integrate with existing systems.                                  \n",
       "<span style=\"color: #808000; text-decoration-color: #808000; font-weight: bold\">  3 </span><span style=\"font-weight: bold\">Design the Workflow</span>:                                                                                           \n",
       "<span style=\"color: #808000; text-decoration-color: #808000; font-weight: bold\">     • </span>Create a workflow that defines how humans will interact with the system. This includes specifying when and  \n",
       "<span style=\"color: #808000; text-decoration-color: #808000; font-weight: bold\">       </span>how human input is solicited, as well as how feedback is incorporated into the system.                      \n",
       "<span style=\"color: #808000; text-decoration-color: #808000; font-weight: bold\">     • </span>Consider using iterative processes where human feedback can continuously improve the model.                 \n",
       "<span style=\"color: #808000; text-decoration-color: #808000; font-weight: bold\">  4 </span><span style=\"font-weight: bold\">User Interface and Experience</span>:                                                                                 \n",
       "<span style=\"color: #808000; text-decoration-color: #808000; font-weight: bold\">     • </span>Develop an intuitive user interface that allows human operators to easily provide input and feedback. The   \n",
       "<span style=\"color: #808000; text-decoration-color: #808000; font-weight: bold\">       </span>design should minimize cognitive load and facilitate quick decision-making.                                 \n",
       "<span style=\"color: #808000; text-decoration-color: #808000; font-weight: bold\">     • </span>Provide clear instructions and context for tasks to ensure that users understand their role.                \n",
       "<span style=\"color: #808000; text-decoration-color: #808000; font-weight: bold\">  5 </span><span style=\"font-weight: bold\">Training and Onboarding</span>:                                                                                       \n",
       "<span style=\"color: #808000; text-decoration-color: #808000; font-weight: bold\">     • </span>Train human operators on the system, including how to use the interface and the importance of their         \n",
       "<span style=\"color: #808000; text-decoration-color: #808000; font-weight: bold\">       </span>contributions.                                                                                              \n",
       "<span style=\"color: #808000; text-decoration-color: #808000; font-weight: bold\">     • </span>Offer ongoing support and resources to help users adapt to the system and improve their performance.        \n",
       "<span style=\"color: #808000; text-decoration-color: #808000; font-weight: bold\">  6 </span><span style=\"font-weight: bold\">Feedback Mechanisms</span>:                                                                                           \n",
       "<span style=\"color: #808000; text-decoration-color: #808000; font-weight: bold\">     • </span>Implement mechanisms for collecting feedback from human operators about the system’s performance and        \n",
       "<span style=\"color: #808000; text-decoration-color: #808000; font-weight: bold\">       </span>usability.                                                                                                  \n",
       "<span style=\"color: #808000; text-decoration-color: #808000; font-weight: bold\">     • </span>Use this feedback to make iterative improvements to both the technology and the workflow.                   \n",
       "<span style=\"color: #808000; text-decoration-color: #808000; font-weight: bold\">  7 </span><span style=\"font-weight: bold\">Monitoring and Evaluation</span>:                                                                                     \n",
       "<span style=\"color: #808000; text-decoration-color: #808000; font-weight: bold\">     • </span>Continuously monitor the performance of the HITL system. Analyze the impact of human input on the overall   \n",
       "<span style=\"color: #808000; text-decoration-color: #808000; font-weight: bold\">       </span>outcomes.                                                                                                   \n",
       "<span style=\"color: #808000; text-decoration-color: #808000; font-weight: bold\">     • </span>Evaluate the effectiveness of the system regularly and make adjustments as needed.                          \n",
       "<span style=\"color: #808000; text-decoration-color: #808000; font-weight: bold\">  8 </span><span style=\"font-weight: bold\">Ethical Considerations</span>:                                                                                        \n",
       "<span style=\"color: #808000; text-decoration-color: #808000; font-weight: bold\">     • </span>Address ethical concerns related to data privacy, bias, and the role of human judgment in decision-making.  \n",
       "<span style=\"color: #808000; text-decoration-color: #808000; font-weight: bold\">     • </span>Ensure transparency in how human input is used and maintain accountability for decisions made by the system.\n",
       "<span style=\"color: #808000; text-decoration-color: #808000; font-weight: bold\">  9 </span><span style=\"font-weight: bold\">Scalability and Adaptability</span>:                                                                                  \n",
       "<span style=\"color: #808000; text-decoration-color: #808000; font-weight: bold\">     • </span>Design the HITL system to be scalable, allowing for the integration of more human operators or the expansion\n",
       "<span style=\"color: #808000; text-decoration-color: #808000; font-weight: bold\">       </span>of use cases as needed.                                                                                     \n",
       "<span style=\"color: #808000; text-decoration-color: #808000; font-weight: bold\">     • </span>Ensure that the system can adapt to changes in technology, user needs, and operational requirements.        \n",
       "<span style=\"color: #808000; text-decoration-color: #808000; font-weight: bold\"> 10 </span><span style=\"font-weight: bold\">Documentation and Knowledge Sharing</span>:                                                                           \n",
       "<span style=\"color: #808000; text-decoration-color: #808000; font-weight: bold\">     • </span>Maintain thorough documentation of the system’s design, workflows, and user feedback.                       \n",
       "<span style=\"color: #808000; text-decoration-color: #808000; font-weight: bold\">     • </span>Encourage knowledge sharing among team members to foster a culture of continuous improvement.               \n",
       "\n",
       "By following these steps, organizations can effectively implement HITL systems that leverage human expertise to    \n",
       "enhance machine learning models and decision-making processes.                                                     \n",
       "</pre>\n"
      ],
      "text/plain": [
       "\u001b[1mAI draft:\u001b[0m Implementing Human-in-the-Loop (HITL) systems effectively involves several key steps and considerations. \n",
       "Here’s a structured approach to ensure successful implementation:                                                  \n",
       "\n",
       "\u001b[1;33m  1 \u001b[0m\u001b[1mDefine Objectives and Use Cases\u001b[0m:                                                                               \n",
       "\u001b[1;33m    \u001b[0m\u001b[1;33m • \u001b[0mClearly outline the goals of the HITL system. Identify specific tasks where human input is necessary, such  \n",
       "\u001b[1;33m    \u001b[0m\u001b[1;33m   \u001b[0mas data labeling, decision-making, or quality assurance.                                                    \n",
       "\u001b[1;33m    \u001b[0m\u001b[1;33m • \u001b[0mDetermine the scenarios in which human intervention will enhance the system's performance.                  \n",
       "\u001b[1;33m  2 \u001b[0m\u001b[1mSelect Appropriate Technology\u001b[0m:                                                                                 \n",
       "\u001b[1;33m    \u001b[0m\u001b[1;33m • \u001b[0mChoose the right tools and platforms that support HITL processes. This may include machine learning         \n",
       "\u001b[1;33m    \u001b[0m\u001b[1;33m   \u001b[0mframeworks, data annotation tools, and user interfaces for human operators.                                 \n",
       "\u001b[1;33m    \u001b[0m\u001b[1;33m • \u001b[0mEnsure that the technology can seamlessly integrate with existing systems.                                  \n",
       "\u001b[1;33m  3 \u001b[0m\u001b[1mDesign the Workflow\u001b[0m:                                                                                           \n",
       "\u001b[1;33m    \u001b[0m\u001b[1;33m • \u001b[0mCreate a workflow that defines how humans will interact with the system. This includes specifying when and  \n",
       "\u001b[1;33m    \u001b[0m\u001b[1;33m   \u001b[0mhow human input is solicited, as well as how feedback is incorporated into the system.                      \n",
       "\u001b[1;33m    \u001b[0m\u001b[1;33m • \u001b[0mConsider using iterative processes where human feedback can continuously improve the model.                 \n",
       "\u001b[1;33m  4 \u001b[0m\u001b[1mUser Interface and Experience\u001b[0m:                                                                                 \n",
       "\u001b[1;33m    \u001b[0m\u001b[1;33m • \u001b[0mDevelop an intuitive user interface that allows human operators to easily provide input and feedback. The   \n",
       "\u001b[1;33m    \u001b[0m\u001b[1;33m   \u001b[0mdesign should minimize cognitive load and facilitate quick decision-making.                                 \n",
       "\u001b[1;33m    \u001b[0m\u001b[1;33m • \u001b[0mProvide clear instructions and context for tasks to ensure that users understand their role.                \n",
       "\u001b[1;33m  5 \u001b[0m\u001b[1mTraining and Onboarding\u001b[0m:                                                                                       \n",
       "\u001b[1;33m    \u001b[0m\u001b[1;33m • \u001b[0mTrain human operators on the system, including how to use the interface and the importance of their         \n",
       "\u001b[1;33m    \u001b[0m\u001b[1;33m   \u001b[0mcontributions.                                                                                              \n",
       "\u001b[1;33m    \u001b[0m\u001b[1;33m • \u001b[0mOffer ongoing support and resources to help users adapt to the system and improve their performance.        \n",
       "\u001b[1;33m  6 \u001b[0m\u001b[1mFeedback Mechanisms\u001b[0m:                                                                                           \n",
       "\u001b[1;33m    \u001b[0m\u001b[1;33m • \u001b[0mImplement mechanisms for collecting feedback from human operators about the system’s performance and        \n",
       "\u001b[1;33m    \u001b[0m\u001b[1;33m   \u001b[0musability.                                                                                                  \n",
       "\u001b[1;33m    \u001b[0m\u001b[1;33m • \u001b[0mUse this feedback to make iterative improvements to both the technology and the workflow.                   \n",
       "\u001b[1;33m  7 \u001b[0m\u001b[1mMonitoring and Evaluation\u001b[0m:                                                                                     \n",
       "\u001b[1;33m    \u001b[0m\u001b[1;33m • \u001b[0mContinuously monitor the performance of the HITL system. Analyze the impact of human input on the overall   \n",
       "\u001b[1;33m    \u001b[0m\u001b[1;33m   \u001b[0moutcomes.                                                                                                   \n",
       "\u001b[1;33m    \u001b[0m\u001b[1;33m • \u001b[0mEvaluate the effectiveness of the system regularly and make adjustments as needed.                          \n",
       "\u001b[1;33m  8 \u001b[0m\u001b[1mEthical Considerations\u001b[0m:                                                                                        \n",
       "\u001b[1;33m    \u001b[0m\u001b[1;33m • \u001b[0mAddress ethical concerns related to data privacy, bias, and the role of human judgment in decision-making.  \n",
       "\u001b[1;33m    \u001b[0m\u001b[1;33m • \u001b[0mEnsure transparency in how human input is used and maintain accountability for decisions made by the system.\n",
       "\u001b[1;33m  9 \u001b[0m\u001b[1mScalability and Adaptability\u001b[0m:                                                                                  \n",
       "\u001b[1;33m    \u001b[0m\u001b[1;33m • \u001b[0mDesign the HITL system to be scalable, allowing for the integration of more human operators or the expansion\n",
       "\u001b[1;33m    \u001b[0m\u001b[1;33m   \u001b[0mof use cases as needed.                                                                                     \n",
       "\u001b[1;33m    \u001b[0m\u001b[1;33m • \u001b[0mEnsure that the system can adapt to changes in technology, user needs, and operational requirements.        \n",
       "\u001b[1;33m 10 \u001b[0m\u001b[1mDocumentation and Knowledge Sharing\u001b[0m:                                                                           \n",
       "\u001b[1;33m    \u001b[0m\u001b[1;33m • \u001b[0mMaintain thorough documentation of the system’s design, workflows, and user feedback.                       \n",
       "\u001b[1;33m    \u001b[0m\u001b[1;33m • \u001b[0mEncourage knowledge sharing among team members to foster a culture of continuous improvement.               \n",
       "\n",
       "By following these steps, organizations can effectively implement HITL systems that leverage human expertise to    \n",
       "enhance machine learning models and decision-making processes.                                                     \n"
      ]
     },
     "metadata": {},
     "output_type": "display_data"
    },
    {
     "name": "stdout",
     "output_type": "stream",
     "text": [
      "\n",
      "👤 Human provided feedback: I need a Langraph example\n",
      "\n",
      "\n",
      "🤖 AI has revised the response.\n",
      "\n",
      "👋 HUMAN REVIEW REQUIRED!\n",
      "\n",
      "Original question: What's the best way to implement HITL systems?\n"
     ]
    },
    {
     "data": {
      "text/html": [
       "<pre style=\"white-space:pre;overflow-x:auto;line-height:normal;font-family:Menlo,'DejaVu Sans Mono',consolas,'Courier New',monospace\"><span style=\"font-weight: bold\">AI draft:</span> Implementing Human-in-the-Loop (HITL) systems can be greatly enhanced by using a Langraph example, which \n",
       "illustrates how to structure the interaction between humans and machines in a specific context. Below is a revised \n",
       "answer that incorporates a Langraph example to clarify the implementation process:                                 \n",
       "\n",
       "                      <span style=\"font-weight: bold\">Implementing HITL Systems: A Structured Approach with Langraph Example</span>                       \n",
       "\n",
       "<span style=\"color: #808000; text-decoration-color: #808000; font-weight: bold\">  1 </span><span style=\"font-weight: bold\">Define Objectives and Use Cases</span>:                                                                               \n",
       "<span style=\"color: #808000; text-decoration-color: #808000; font-weight: bold\">     • </span><span style=\"font-weight: bold\">Example</span>: In a medical imaging application, the objective is to improve the accuracy of disease detection in \n",
       "<span style=\"color: #808000; text-decoration-color: #808000; font-weight: bold\">       </span>X-ray images. The use case involves radiologists reviewing and annotating images flagged by an AI model.    \n",
       "<span style=\"color: #808000; text-decoration-color: #808000; font-weight: bold\">  2 </span><span style=\"font-weight: bold\">Select Appropriate Technology</span>:                                                                                 \n",
       "<span style=\"color: #808000; text-decoration-color: #808000; font-weight: bold\">     • </span>Choose tools that support image processing and annotation. For instance, use a machine learning framework   \n",
       "<span style=\"color: #808000; text-decoration-color: #808000; font-weight: bold\">       </span>like TensorFlow for model training and a user-friendly annotation tool like Labelbox for human input.       \n",
       "<span style=\"color: #808000; text-decoration-color: #808000; font-weight: bold\">  3 </span><span style=\"font-weight: bold\">Design the Workflow</span>:                                                                                           \n",
       "<span style=\"color: #808000; text-decoration-color: #808000; font-weight: bold\">     • </span><span style=\"font-weight: bold\">Langraph Example</span>: Create a flowchart that outlines the process:                                             \n",
       "<span style=\"color: #808000; text-decoration-color: #808000; font-weight: bold\">        • </span><span style=\"font-weight: bold\">Step 1</span>: AI model analyzes X-ray images and flags potential anomalies.                                    \n",
       "<span style=\"color: #808000; text-decoration-color: #808000; font-weight: bold\">        • </span><span style=\"font-weight: bold\">Step 2</span>: Images are sent to a dashboard for radiologists to review.                                       \n",
       "<span style=\"color: #808000; text-decoration-color: #808000; font-weight: bold\">        • </span><span style=\"font-weight: bold\">Step 3</span>: Radiologists confirm or correct the AI's findings.                                               \n",
       "<span style=\"color: #808000; text-decoration-color: #808000; font-weight: bold\">        • </span><span style=\"font-weight: bold\">Step 4</span>: Feedback is sent back to the AI model for retraining.                                            \n",
       "<span style=\"color: #808000; text-decoration-color: #808000; font-weight: bold\">  4 </span><span style=\"font-weight: bold\">User Interface and Experience</span>:                                                                                 \n",
       "<span style=\"color: #808000; text-decoration-color: #808000; font-weight: bold\">     • </span>Develop an intuitive dashboard where radiologists can easily view flagged images, provide feedback, and     \n",
       "<span style=\"color: #808000; text-decoration-color: #808000; font-weight: bold\">       </span>access relevant patient information. Ensure the interface highlights key areas of concern identified by the \n",
       "<span style=\"color: #808000; text-decoration-color: #808000; font-weight: bold\">       </span>AI.                                                                                                         \n",
       "<span style=\"color: #808000; text-decoration-color: #808000; font-weight: bold\">  5 </span><span style=\"font-weight: bold\">Training and Onboarding</span>:                                                                                       \n",
       "<span style=\"color: #808000; text-decoration-color: #808000; font-weight: bold\">     • </span>Conduct training sessions for radiologists on how to use the dashboard, interpret AI suggestions, and       \n",
       "<span style=\"color: #808000; text-decoration-color: #808000; font-weight: bold\">       </span>understand the importance of their feedback in improving model accuracy.                                    \n",
       "<span style=\"color: #808000; text-decoration-color: #808000; font-weight: bold\">  6 </span><span style=\"font-weight: bold\">Feedback Mechanisms</span>:                                                                                           \n",
       "<span style=\"color: #808000; text-decoration-color: #808000; font-weight: bold\">     • </span>Implement a feedback loop where radiologists can rate the AI's suggestions and provide comments. This       \n",
       "<span style=\"color: #808000; text-decoration-color: #808000; font-weight: bold\">       </span>feedback can be collected through the dashboard and analyzed to identify areas for model improvement.       \n",
       "<span style=\"color: #808000; text-decoration-color: #808000; font-weight: bold\">  7 </span><span style=\"font-weight: bold\">Monitoring and Evaluation</span>:                                                                                     \n",
       "<span style=\"color: #808000; text-decoration-color: #808000; font-weight: bold\">     • </span>Continuously monitor the accuracy of the AI model based on radiologist feedback. Use metrics such as        \n",
       "<span style=\"color: #808000; text-decoration-color: #808000; font-weight: bold\">       </span>precision, recall, and F1 score to evaluate the model's performance over time.                              \n",
       "<span style=\"color: #808000; text-decoration-color: #808000; font-weight: bold\">  8 </span><span style=\"font-weight: bold\">Ethical Considerations</span>:                                                                                        \n",
       "<span style=\"color: #808000; text-decoration-color: #808000; font-weight: bold\">     • </span>Address concerns about data privacy by ensuring that patient data is anonymized. Discuss the implications of\n",
       "<span style=\"color: #808000; text-decoration-color: #808000; font-weight: bold\">       </span>human judgment in critical medical decisions and maintain transparency about how AI suggestions are used.   \n",
       "<span style=\"color: #808000; text-decoration-color: #808000; font-weight: bold\">  9 </span><span style=\"font-weight: bold\">Scalability and Adaptability</span>:                                                                                  \n",
       "<span style=\"color: #808000; text-decoration-color: #808000; font-weight: bold\">     • </span>Design the system to accommodate more radiologists as the workload increases. Ensure that the model can be  \n",
       "<span style=\"color: #808000; text-decoration-color: #808000; font-weight: bold\">       </span>retrained with new data and feedback to adapt to evolving medical standards.                                \n",
       "<span style=\"color: #808000; text-decoration-color: #808000; font-weight: bold\"> 10 </span><span style=\"font-weight: bold\">Documentation and Knowledge Sharing</span>:                                                                           \n",
       "<span style=\"color: #808000; text-decoration-color: #808000; font-weight: bold\">     • </span>Maintain comprehensive documentation of the workflow, user feedback, and model performance. Create a shared \n",
       "<span style=\"color: #808000; text-decoration-color: #808000; font-weight: bold\">       </span>knowledge base where radiologists can access best practices and lessons learned from the HITL process.      \n",
       "\n",
       "                                             <span style=\"font-weight: bold\">Langraph Example Summary</span>                                              \n",
       "\n",
       "In this example, the Langraph illustrates the interaction between the AI model and human radiologists in a medical \n",
       "imaging context. The workflow clearly defines how human input is integrated into the system, emphasizing the       \n",
       "importance of collaboration between AI and human expertise to enhance diagnostic accuracy.                         \n",
       "\n",
       "By following this structured approach and utilizing a Langraph example, organizations can effectively implement    \n",
       "HITL systems that leverage human expertise to improve machine learning models and decision-making processes.       \n",
       "</pre>\n"
      ],
      "text/plain": [
       "\u001b[1mAI draft:\u001b[0m Implementing Human-in-the-Loop (HITL) systems can be greatly enhanced by using a Langraph example, which \n",
       "illustrates how to structure the interaction between humans and machines in a specific context. Below is a revised \n",
       "answer that incorporates a Langraph example to clarify the implementation process:                                 \n",
       "\n",
       "                      \u001b[1mImplementing HITL Systems: A Structured Approach with Langraph Example\u001b[0m                       \n",
       "\n",
       "\u001b[1;33m  1 \u001b[0m\u001b[1mDefine Objectives and Use Cases\u001b[0m:                                                                               \n",
       "\u001b[1;33m    \u001b[0m\u001b[1;33m • \u001b[0m\u001b[1mExample\u001b[0m: In a medical imaging application, the objective is to improve the accuracy of disease detection in \n",
       "\u001b[1;33m    \u001b[0m\u001b[1;33m   \u001b[0mX-ray images. The use case involves radiologists reviewing and annotating images flagged by an AI model.    \n",
       "\u001b[1;33m  2 \u001b[0m\u001b[1mSelect Appropriate Technology\u001b[0m:                                                                                 \n",
       "\u001b[1;33m    \u001b[0m\u001b[1;33m • \u001b[0mChoose tools that support image processing and annotation. For instance, use a machine learning framework   \n",
       "\u001b[1;33m    \u001b[0m\u001b[1;33m   \u001b[0mlike TensorFlow for model training and a user-friendly annotation tool like Labelbox for human input.       \n",
       "\u001b[1;33m  3 \u001b[0m\u001b[1mDesign the Workflow\u001b[0m:                                                                                           \n",
       "\u001b[1;33m    \u001b[0m\u001b[1;33m • \u001b[0m\u001b[1mLangraph Example\u001b[0m: Create a flowchart that outlines the process:                                             \n",
       "\u001b[1;33m    \u001b[0m\u001b[1;33m   \u001b[0m\u001b[1;33m • \u001b[0m\u001b[1mStep 1\u001b[0m: AI model analyzes X-ray images and flags potential anomalies.                                    \n",
       "\u001b[1;33m    \u001b[0m\u001b[1;33m   \u001b[0m\u001b[1;33m • \u001b[0m\u001b[1mStep 2\u001b[0m: Images are sent to a dashboard for radiologists to review.                                       \n",
       "\u001b[1;33m    \u001b[0m\u001b[1;33m   \u001b[0m\u001b[1;33m • \u001b[0m\u001b[1mStep 3\u001b[0m: Radiologists confirm or correct the AI's findings.                                               \n",
       "\u001b[1;33m    \u001b[0m\u001b[1;33m   \u001b[0m\u001b[1;33m • \u001b[0m\u001b[1mStep 4\u001b[0m: Feedback is sent back to the AI model for retraining.                                            \n",
       "\u001b[1;33m  4 \u001b[0m\u001b[1mUser Interface and Experience\u001b[0m:                                                                                 \n",
       "\u001b[1;33m    \u001b[0m\u001b[1;33m • \u001b[0mDevelop an intuitive dashboard where radiologists can easily view flagged images, provide feedback, and     \n",
       "\u001b[1;33m    \u001b[0m\u001b[1;33m   \u001b[0maccess relevant patient information. Ensure the interface highlights key areas of concern identified by the \n",
       "\u001b[1;33m    \u001b[0m\u001b[1;33m   \u001b[0mAI.                                                                                                         \n",
       "\u001b[1;33m  5 \u001b[0m\u001b[1mTraining and Onboarding\u001b[0m:                                                                                       \n",
       "\u001b[1;33m    \u001b[0m\u001b[1;33m • \u001b[0mConduct training sessions for radiologists on how to use the dashboard, interpret AI suggestions, and       \n",
       "\u001b[1;33m    \u001b[0m\u001b[1;33m   \u001b[0munderstand the importance of their feedback in improving model accuracy.                                    \n",
       "\u001b[1;33m  6 \u001b[0m\u001b[1mFeedback Mechanisms\u001b[0m:                                                                                           \n",
       "\u001b[1;33m    \u001b[0m\u001b[1;33m • \u001b[0mImplement a feedback loop where radiologists can rate the AI's suggestions and provide comments. This       \n",
       "\u001b[1;33m    \u001b[0m\u001b[1;33m   \u001b[0mfeedback can be collected through the dashboard and analyzed to identify areas for model improvement.       \n",
       "\u001b[1;33m  7 \u001b[0m\u001b[1mMonitoring and Evaluation\u001b[0m:                                                                                     \n",
       "\u001b[1;33m    \u001b[0m\u001b[1;33m • \u001b[0mContinuously monitor the accuracy of the AI model based on radiologist feedback. Use metrics such as        \n",
       "\u001b[1;33m    \u001b[0m\u001b[1;33m   \u001b[0mprecision, recall, and F1 score to evaluate the model's performance over time.                              \n",
       "\u001b[1;33m  8 \u001b[0m\u001b[1mEthical Considerations\u001b[0m:                                                                                        \n",
       "\u001b[1;33m    \u001b[0m\u001b[1;33m • \u001b[0mAddress concerns about data privacy by ensuring that patient data is anonymized. Discuss the implications of\n",
       "\u001b[1;33m    \u001b[0m\u001b[1;33m   \u001b[0mhuman judgment in critical medical decisions and maintain transparency about how AI suggestions are used.   \n",
       "\u001b[1;33m  9 \u001b[0m\u001b[1mScalability and Adaptability\u001b[0m:                                                                                  \n",
       "\u001b[1;33m    \u001b[0m\u001b[1;33m • \u001b[0mDesign the system to accommodate more radiologists as the workload increases. Ensure that the model can be  \n",
       "\u001b[1;33m    \u001b[0m\u001b[1;33m   \u001b[0mretrained with new data and feedback to adapt to evolving medical standards.                                \n",
       "\u001b[1;33m 10 \u001b[0m\u001b[1mDocumentation and Knowledge Sharing\u001b[0m:                                                                           \n",
       "\u001b[1;33m    \u001b[0m\u001b[1;33m • \u001b[0mMaintain comprehensive documentation of the workflow, user feedback, and model performance. Create a shared \n",
       "\u001b[1;33m    \u001b[0m\u001b[1;33m   \u001b[0mknowledge base where radiologists can access best practices and lessons learned from the HITL process.      \n",
       "\n",
       "                                             \u001b[1mLangraph Example Summary\u001b[0m                                              \n",
       "\n",
       "In this example, the Langraph illustrates the interaction between the AI model and human radiologists in a medical \n",
       "imaging context. The workflow clearly defines how human input is integrated into the system, emphasizing the       \n",
       "importance of collaboration between AI and human expertise to enhance diagnostic accuracy.                         \n",
       "\n",
       "By following this structured approach and utilizing a Langraph example, organizations can effectively implement    \n",
       "HITL systems that leverage human expertise to improve machine learning models and decision-making processes.       \n"
      ]
     },
     "metadata": {},
     "output_type": "display_data"
    },
    {
     "name": "stdout",
     "output_type": "stream",
     "text": [
      "\n",
      "👤 Human provided feedback: approve\n",
      "\n",
      "\n",
      "✅ Final response ready:\n"
     ]
    },
    {
     "data": {
      "text/html": [
       "<pre style=\"white-space:pre;overflow-x:auto;line-height:normal;font-family:Menlo,'DejaVu Sans Mono',consolas,'Courier New',monospace\">Implementing Human-in-the-Loop (HITL) systems can be greatly enhanced by using a Langraph example, which           \n",
       "illustrates how to structure the interaction between humans and machines in a specific context. Below is a revised \n",
       "answer that incorporates a Langraph example to clarify the implementation process:                                 \n",
       "\n",
       "                      <span style=\"font-weight: bold\">Implementing HITL Systems: A Structured Approach with Langraph Example</span>                       \n",
       "\n",
       "<span style=\"color: #808000; text-decoration-color: #808000; font-weight: bold\">  1 </span><span style=\"font-weight: bold\">Define Objectives and Use Cases</span>:                                                                               \n",
       "<span style=\"color: #808000; text-decoration-color: #808000; font-weight: bold\">     • </span><span style=\"font-weight: bold\">Example</span>: In a medical imaging application, the objective is to improve the accuracy of disease detection in \n",
       "<span style=\"color: #808000; text-decoration-color: #808000; font-weight: bold\">       </span>X-ray images. The use case involves radiologists reviewing and annotating images flagged by an AI model.    \n",
       "<span style=\"color: #808000; text-decoration-color: #808000; font-weight: bold\">  2 </span><span style=\"font-weight: bold\">Select Appropriate Technology</span>:                                                                                 \n",
       "<span style=\"color: #808000; text-decoration-color: #808000; font-weight: bold\">     • </span>Choose tools that support image processing and annotation. For instance, use a machine learning framework   \n",
       "<span style=\"color: #808000; text-decoration-color: #808000; font-weight: bold\">       </span>like TensorFlow for model training and a user-friendly annotation tool like Labelbox for human input.       \n",
       "<span style=\"color: #808000; text-decoration-color: #808000; font-weight: bold\">  3 </span><span style=\"font-weight: bold\">Design the Workflow</span>:                                                                                           \n",
       "<span style=\"color: #808000; text-decoration-color: #808000; font-weight: bold\">     • </span><span style=\"font-weight: bold\">Langraph Example</span>: Create a flowchart that outlines the process:                                             \n",
       "<span style=\"color: #808000; text-decoration-color: #808000; font-weight: bold\">        • </span><span style=\"font-weight: bold\">Step 1</span>: AI model analyzes X-ray images and flags potential anomalies.                                    \n",
       "<span style=\"color: #808000; text-decoration-color: #808000; font-weight: bold\">        • </span><span style=\"font-weight: bold\">Step 2</span>: Images are sent to a dashboard for radiologists to review.                                       \n",
       "<span style=\"color: #808000; text-decoration-color: #808000; font-weight: bold\">        • </span><span style=\"font-weight: bold\">Step 3</span>: Radiologists confirm or correct the AI's findings.                                               \n",
       "<span style=\"color: #808000; text-decoration-color: #808000; font-weight: bold\">        • </span><span style=\"font-weight: bold\">Step 4</span>: Feedback is sent back to the AI model for retraining.                                            \n",
       "<span style=\"color: #808000; text-decoration-color: #808000; font-weight: bold\">  4 </span><span style=\"font-weight: bold\">User Interface and Experience</span>:                                                                                 \n",
       "<span style=\"color: #808000; text-decoration-color: #808000; font-weight: bold\">     • </span>Develop an intuitive dashboard where radiologists can easily view flagged images, provide feedback, and     \n",
       "<span style=\"color: #808000; text-decoration-color: #808000; font-weight: bold\">       </span>access relevant patient information. Ensure the interface highlights key areas of concern identified by the \n",
       "<span style=\"color: #808000; text-decoration-color: #808000; font-weight: bold\">       </span>AI.                                                                                                         \n",
       "<span style=\"color: #808000; text-decoration-color: #808000; font-weight: bold\">  5 </span><span style=\"font-weight: bold\">Training and Onboarding</span>:                                                                                       \n",
       "<span style=\"color: #808000; text-decoration-color: #808000; font-weight: bold\">     • </span>Conduct training sessions for radiologists on how to use the dashboard, interpret AI suggestions, and       \n",
       "<span style=\"color: #808000; text-decoration-color: #808000; font-weight: bold\">       </span>understand the importance of their feedback in improving model accuracy.                                    \n",
       "<span style=\"color: #808000; text-decoration-color: #808000; font-weight: bold\">  6 </span><span style=\"font-weight: bold\">Feedback Mechanisms</span>:                                                                                           \n",
       "<span style=\"color: #808000; text-decoration-color: #808000; font-weight: bold\">     • </span>Implement a feedback loop where radiologists can rate the AI's suggestions and provide comments. This       \n",
       "<span style=\"color: #808000; text-decoration-color: #808000; font-weight: bold\">       </span>feedback can be collected through the dashboard and analyzed to identify areas for model improvement.       \n",
       "<span style=\"color: #808000; text-decoration-color: #808000; font-weight: bold\">  7 </span><span style=\"font-weight: bold\">Monitoring and Evaluation</span>:                                                                                     \n",
       "<span style=\"color: #808000; text-decoration-color: #808000; font-weight: bold\">     • </span>Continuously monitor the accuracy of the AI model based on radiologist feedback. Use metrics such as        \n",
       "<span style=\"color: #808000; text-decoration-color: #808000; font-weight: bold\">       </span>precision, recall, and F1 score to evaluate the model's performance over time.                              \n",
       "<span style=\"color: #808000; text-decoration-color: #808000; font-weight: bold\">  8 </span><span style=\"font-weight: bold\">Ethical Considerations</span>:                                                                                        \n",
       "<span style=\"color: #808000; text-decoration-color: #808000; font-weight: bold\">     • </span>Address concerns about data privacy by ensuring that patient data is anonymized. Discuss the implications of\n",
       "<span style=\"color: #808000; text-decoration-color: #808000; font-weight: bold\">       </span>human judgment in critical medical decisions and maintain transparency about how AI suggestions are used.   \n",
       "<span style=\"color: #808000; text-decoration-color: #808000; font-weight: bold\">  9 </span><span style=\"font-weight: bold\">Scalability and Adaptability</span>:                                                                                  \n",
       "<span style=\"color: #808000; text-decoration-color: #808000; font-weight: bold\">     • </span>Design the system to accommodate more radiologists as the workload increases. Ensure that the model can be  \n",
       "<span style=\"color: #808000; text-decoration-color: #808000; font-weight: bold\">       </span>retrained with new data and feedback to adapt to evolving medical standards.                                \n",
       "<span style=\"color: #808000; text-decoration-color: #808000; font-weight: bold\"> 10 </span><span style=\"font-weight: bold\">Documentation and Knowledge Sharing</span>:                                                                           \n",
       "<span style=\"color: #808000; text-decoration-color: #808000; font-weight: bold\">     • </span>Maintain comprehensive documentation of the workflow, user feedback, and model performance. Create a shared \n",
       "<span style=\"color: #808000; text-decoration-color: #808000; font-weight: bold\">       </span>knowledge base where radiologists can access best practices and lessons learned from the HITL process.      \n",
       "\n",
       "                                             <span style=\"font-weight: bold\">Langraph Example Summary</span>                                              \n",
       "\n",
       "In this example, the Langraph illustrates the interaction between the AI model and human radiologists in a medical \n",
       "imaging context. The workflow clearly defines how human input is integrated into the system, emphasizing the       \n",
       "importance of collaboration between AI and human expertise to enhance diagnostic accuracy.                         \n",
       "\n",
       "By following this structured approach and utilizing a Langraph example, organizations can effectively implement    \n",
       "HITL systems that leverage human expertise to improve machine learning models and decision-making processes.       \n",
       "</pre>\n"
      ],
      "text/plain": [
       "Implementing Human-in-the-Loop (HITL) systems can be greatly enhanced by using a Langraph example, which           \n",
       "illustrates how to structure the interaction between humans and machines in a specific context. Below is a revised \n",
       "answer that incorporates a Langraph example to clarify the implementation process:                                 \n",
       "\n",
       "                      \u001b[1mImplementing HITL Systems: A Structured Approach with Langraph Example\u001b[0m                       \n",
       "\n",
       "\u001b[1;33m  1 \u001b[0m\u001b[1mDefine Objectives and Use Cases\u001b[0m:                                                                               \n",
       "\u001b[1;33m    \u001b[0m\u001b[1;33m • \u001b[0m\u001b[1mExample\u001b[0m: In a medical imaging application, the objective is to improve the accuracy of disease detection in \n",
       "\u001b[1;33m    \u001b[0m\u001b[1;33m   \u001b[0mX-ray images. The use case involves radiologists reviewing and annotating images flagged by an AI model.    \n",
       "\u001b[1;33m  2 \u001b[0m\u001b[1mSelect Appropriate Technology\u001b[0m:                                                                                 \n",
       "\u001b[1;33m    \u001b[0m\u001b[1;33m • \u001b[0mChoose tools that support image processing and annotation. For instance, use a machine learning framework   \n",
       "\u001b[1;33m    \u001b[0m\u001b[1;33m   \u001b[0mlike TensorFlow for model training and a user-friendly annotation tool like Labelbox for human input.       \n",
       "\u001b[1;33m  3 \u001b[0m\u001b[1mDesign the Workflow\u001b[0m:                                                                                           \n",
       "\u001b[1;33m    \u001b[0m\u001b[1;33m • \u001b[0m\u001b[1mLangraph Example\u001b[0m: Create a flowchart that outlines the process:                                             \n",
       "\u001b[1;33m    \u001b[0m\u001b[1;33m   \u001b[0m\u001b[1;33m • \u001b[0m\u001b[1mStep 1\u001b[0m: AI model analyzes X-ray images and flags potential anomalies.                                    \n",
       "\u001b[1;33m    \u001b[0m\u001b[1;33m   \u001b[0m\u001b[1;33m • \u001b[0m\u001b[1mStep 2\u001b[0m: Images are sent to a dashboard for radiologists to review.                                       \n",
       "\u001b[1;33m    \u001b[0m\u001b[1;33m   \u001b[0m\u001b[1;33m • \u001b[0m\u001b[1mStep 3\u001b[0m: Radiologists confirm or correct the AI's findings.                                               \n",
       "\u001b[1;33m    \u001b[0m\u001b[1;33m   \u001b[0m\u001b[1;33m • \u001b[0m\u001b[1mStep 4\u001b[0m: Feedback is sent back to the AI model for retraining.                                            \n",
       "\u001b[1;33m  4 \u001b[0m\u001b[1mUser Interface and Experience\u001b[0m:                                                                                 \n",
       "\u001b[1;33m    \u001b[0m\u001b[1;33m • \u001b[0mDevelop an intuitive dashboard where radiologists can easily view flagged images, provide feedback, and     \n",
       "\u001b[1;33m    \u001b[0m\u001b[1;33m   \u001b[0maccess relevant patient information. Ensure the interface highlights key areas of concern identified by the \n",
       "\u001b[1;33m    \u001b[0m\u001b[1;33m   \u001b[0mAI.                                                                                                         \n",
       "\u001b[1;33m  5 \u001b[0m\u001b[1mTraining and Onboarding\u001b[0m:                                                                                       \n",
       "\u001b[1;33m    \u001b[0m\u001b[1;33m • \u001b[0mConduct training sessions for radiologists on how to use the dashboard, interpret AI suggestions, and       \n",
       "\u001b[1;33m    \u001b[0m\u001b[1;33m   \u001b[0munderstand the importance of their feedback in improving model accuracy.                                    \n",
       "\u001b[1;33m  6 \u001b[0m\u001b[1mFeedback Mechanisms\u001b[0m:                                                                                           \n",
       "\u001b[1;33m    \u001b[0m\u001b[1;33m • \u001b[0mImplement a feedback loop where radiologists can rate the AI's suggestions and provide comments. This       \n",
       "\u001b[1;33m    \u001b[0m\u001b[1;33m   \u001b[0mfeedback can be collected through the dashboard and analyzed to identify areas for model improvement.       \n",
       "\u001b[1;33m  7 \u001b[0m\u001b[1mMonitoring and Evaluation\u001b[0m:                                                                                     \n",
       "\u001b[1;33m    \u001b[0m\u001b[1;33m • \u001b[0mContinuously monitor the accuracy of the AI model based on radiologist feedback. Use metrics such as        \n",
       "\u001b[1;33m    \u001b[0m\u001b[1;33m   \u001b[0mprecision, recall, and F1 score to evaluate the model's performance over time.                              \n",
       "\u001b[1;33m  8 \u001b[0m\u001b[1mEthical Considerations\u001b[0m:                                                                                        \n",
       "\u001b[1;33m    \u001b[0m\u001b[1;33m • \u001b[0mAddress concerns about data privacy by ensuring that patient data is anonymized. Discuss the implications of\n",
       "\u001b[1;33m    \u001b[0m\u001b[1;33m   \u001b[0mhuman judgment in critical medical decisions and maintain transparency about how AI suggestions are used.   \n",
       "\u001b[1;33m  9 \u001b[0m\u001b[1mScalability and Adaptability\u001b[0m:                                                                                  \n",
       "\u001b[1;33m    \u001b[0m\u001b[1;33m • \u001b[0mDesign the system to accommodate more radiologists as the workload increases. Ensure that the model can be  \n",
       "\u001b[1;33m    \u001b[0m\u001b[1;33m   \u001b[0mretrained with new data and feedback to adapt to evolving medical standards.                                \n",
       "\u001b[1;33m 10 \u001b[0m\u001b[1mDocumentation and Knowledge Sharing\u001b[0m:                                                                           \n",
       "\u001b[1;33m    \u001b[0m\u001b[1;33m • \u001b[0mMaintain comprehensive documentation of the workflow, user feedback, and model performance. Create a shared \n",
       "\u001b[1;33m    \u001b[0m\u001b[1;33m   \u001b[0mknowledge base where radiologists can access best practices and lessons learned from the HITL process.      \n",
       "\n",
       "                                             \u001b[1mLangraph Example Summary\u001b[0m                                              \n",
       "\n",
       "In this example, the Langraph illustrates the interaction between the AI model and human radiologists in a medical \n",
       "imaging context. The workflow clearly defines how human input is integrated into the system, emphasizing the       \n",
       "importance of collaboration between AI and human expertise to enhance diagnostic accuracy.                         \n",
       "\n",
       "By following this structured approach and utilizing a Langraph example, organizations can effectively implement    \n",
       "HITL systems that leverage human expertise to improve machine learning models and decision-making processes.       \n"
      ]
     },
     "metadata": {},
     "output_type": "display_data"
    },
    {
     "name": "stdout",
     "output_type": "stream",
     "text": [
      "\n",
      "=== WORKFLOW COMPLETED ===\n"
     ]
    }
   ],
   "source": [
    "# Initial state with a user question\n",
    "query = \"What's the best way to implement HITL systems?\"\n",
    "\n",
    "initial_state = {\n",
    "    \"question\": query,\n",
    "    \"ai_draft\": \"\",\n",
    "    \"human_feedback\": \"\",\n",
    "    \"final_response\": \"\",\n",
    "    \"thread_id\": 1\n",
    "}\n",
    "\n",
    "# Run the workflow\n",
    "config = {\"configurable\": {\"thread_id\": 1}}\n",
    "for output in workflow.stream(initial_state, config):\n",
    "    # In a production application, you would handle these events appropriately\n",
    "    pass\n",
    "    \n",
    "# Final state contains the complete conversation\n",
    "print(\"\\n=== WORKFLOW COMPLETED ===\")"
   ]
  },
  {
   "cell_type": "markdown",
   "id": "8dcd2c77",
   "metadata": {},
   "source": [
    "---"
   ]
  },
  {
   "cell_type": "markdown",
   "id": "91d60608",
   "metadata": {},
   "source": [
    "In general, when a graph is interrupted, its state is persisted until the graph is resumed (from the interrupted node)."
   ]
  },
  {
   "cell_type": "code",
   "execution_count": 79,
   "id": "6bfc36f3",
   "metadata": {},
   "outputs": [
    {
     "data": {
      "text/plain": [
       "()"
      ]
     },
     "execution_count": 79,
     "metadata": {},
     "output_type": "execute_result"
    }
   ],
   "source": [
    "# If the graph is interrumpted, the status per thread can be checked with:\n",
    "\n",
    "# workflow.get_state(thread_config).tasks[0].interrupts[0].value"
   ]
  }
 ],
 "metadata": {
  "kernelspec": {
   "display_name": "ia_desde_cero",
   "language": "python",
   "name": "python3"
  },
  "language_info": {
   "codemirror_mode": {
    "name": "ipython",
    "version": 3
   },
   "file_extension": ".py",
   "mimetype": "text/x-python",
   "name": "python",
   "nbconvert_exporter": "python",
   "pygments_lexer": "ipython3",
   "version": "3.11.13"
  }
 },
 "nbformat": 4,
 "nbformat_minor": 5
}
