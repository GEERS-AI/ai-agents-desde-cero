{
 "cells": [
  {
   "cell_type": "markdown",
   "id": "73725802",
   "metadata": {},
   "source": [
    "# Human in the Loop"
   ]
  },
  {
   "cell_type": "markdown",
   "id": "d07b8f14",
   "metadata": {},
   "source": [
    "Langgraph supports different ways of interrumpting the control flow of a graph and allow for human intervention. The interruption of the states "
   ]
  },
  {
   "cell_type": "markdown",
   "id": "5054c68c",
   "metadata": {},
   "source": [
    "---"
   ]
  },
  {
   "cell_type": "code",
   "execution_count": null,
   "id": "9ed1534e",
   "metadata": {},
   "outputs": [],
   "source": [
    "from dotenv import load_dotenv\n",
    "import pandas as pd\n",
    "from pathlib import Path\n",
    "import json\n",
    "from dotenv import load_dotenv\n",
    "import os \n",
    "import pprint\n",
    "from IPython.display import Image, display\n",
    "from typing import TypedDict, Annotated, Literal, Dict, Any"
   ]
  },
  {
   "cell_type": "markdown",
   "id": "48241fd2",
   "metadata": {},
   "source": [
    "Import the necessary classes from **Langchain** and **Langgraph**"
   ]
  },
  {
   "cell_type": "code",
   "execution_count": 60,
   "id": "ab382d0e",
   "metadata": {},
   "outputs": [],
   "source": [
    "from langgraph.graph import StateGraph, END\n",
    "from langchain.chat_models import init_chat_model\n",
    "from langgraph.checkpoint.memory import MemorySaver\n"
   ]
  },
  {
   "cell_type": "code",
   "execution_count": 61,
   "id": "32d6b770",
   "metadata": {},
   "outputs": [],
   "source": [
    "# %pip install rich"
   ]
  },
  {
   "cell_type": "code",
   "execution_count": 62,
   "id": "5e946d54",
   "metadata": {},
   "outputs": [
    {
     "data": {
      "text/plain": [
       "True"
      ]
     },
     "execution_count": 62,
     "metadata": {},
     "output_type": "execute_result"
    }
   ],
   "source": [
    "# Load environment variables from .env file\n",
    "load_dotenv()"
   ]
  },
  {
   "cell_type": "markdown",
   "id": "87285b30",
   "metadata": {},
   "source": [
    "We define an LLM model to use in a zero-shot mode to answer user questions"
   ]
  },
  {
   "cell_type": "code",
   "execution_count": 63,
   "id": "59919f98",
   "metadata": {},
   "outputs": [
    {
     "name": "stdout",
     "output_type": "stream",
     "text": [
      "openai:gpt-4o-mini\n"
     ]
    }
   ],
   "source": [
    "llm_model = \"openai:\"+os.getenv(\"OPENAI_MODEL\")\n",
    "print(llm_model)\n",
    "llm = init_chat_model(llm_model, temperature=0)"
   ]
  },
  {
   "cell_type": "code",
   "execution_count": 64,
   "id": "3a6f6c71",
   "metadata": {},
   "outputs": [],
   "source": [
    "# Define the state schema\n",
    "class HumanInTheLoopState(TypedDict):\n",
    "    question: str  # User's original question\n",
    "    ai_draft: str  # AI's initial response draft\n",
    "    human_feedback: str  # Human reviewer's feedback\n",
    "    final_response: str  # Final response after incorporating feedback"
   ]
  },
  {
   "cell_type": "markdown",
   "id": "c4a34fab",
   "metadata": {},
   "source": [
    "Definition of the nodes for the graph"
   ]
  },
  {
   "cell_type": "code",
   "execution_count": 73,
   "id": "5f2a42d4",
   "metadata": {},
   "outputs": [],
   "source": [
    "def draft_response(state: Dict[str, Any]) -> Dict[str, Any]:\n",
    "    \"\"\"AI drafts an initial response to the user's question\"\"\"\n",
    "    question = state[\"question\"]\n",
    "    \n",
    "    # In a real application, this would use an LLM to generate a response\n",
    "    # draft = f\"DRAFT: Here's my initial answer to: '{question}'\"\n",
    "    draft = llm.invoke(\"Answer the following question: \"+question)\n",
    "    \n",
    "    print(f\"\\n🤖 AI has drafted an initial response\")\n",
    "    # pprint.pprint(f\"{draft.content}\\n\")\n",
    "    return {\"ai_draft\": draft.content}\n",
    "\n",
    "def get_human_feedback(state: Dict[str, Any]) -> Dict[str, Any]:\n",
    "    \"\"\"Collect feedback from a human reviewer\"\"\"\n",
    "    # In a real application, this would be implemented with a UI\n",
    "    # or messaging platform to collect human input\n",
    "    print(\"\\n👋 HUMAN REVIEW REQUIRED!\\n\")\n",
    "    print(f\"Original question: {state['question']}\")\n",
    "    # print(f\"AI draft: {state['ai_draft']}\")\n",
    "    renderable_markup = Markdown(f\"**AI draft:** {state['ai_draft']}\")\n",
    "    console.print(renderable_markup)\n",
    "\n",
    "    # Simulating human input via console\n",
    "    feedback = input(\"\\nPlease provide feedback or type 'approve' to accept: \")\n",
    "    \n",
    "    print(f\"\\n👤 Human provided feedback: {feedback}\\n\")\n",
    "    return {\"human_feedback\": feedback}\n",
    "\n",
    "def decide_next_step(state: Dict[str, Any]) -> Literal[\"revise\", \"finalize\"]:\n",
    "    \"\"\"Decide whether to revise the response or finalize it\"\"\"\n",
    "    if state[\"human_feedback\"].lower() == \"approve\":\n",
    "        return \"finalize\"\n",
    "    else:\n",
    "        return \"revise\"\n",
    "\n",
    "def revise_response(state: Dict[str, Any]) -> Dict[str, Any]:\n",
    "    \"\"\"Revise the response based on human feedback\"\"\"\n",
    "    # In a real application, this would use an LLM to incorporate feedback\n",
    "    old_draft = \"For the following question: \"+ state['question']+ \", you previously provided this answer: \"+ state['ai_draft']\n",
    "    revised_response = llm.invoke(old_draft + \". The user provided feedback: \"+ state['human_feedback']+ \". Please revisit it and provide a new answer.\")\n",
    "    # revised_response = f\"REVISED: I've updated my answer based on feedback: '{state['human_feedback']}'\"\n",
    "    \n",
    "    print(f\"\\n🤖 AI has revised the response.\")\n",
    "    # pprint.pprint(f\"{revised_response.content}\\n\")\n",
    "    return {\"ai_draft\": revised_response.content}\n",
    "\n",
    "def finalize_response(state: Dict[str, Any]) -> Dict[str, Any]:\n",
    "    \"\"\"Finalize the response and return to the user\"\"\"\n",
    "    \n",
    "    print(f\"\\n✅ Final response ready:\")\n",
    "    renderable_markup = Markdown(f\"{state['ai_draft']}\\n\")\n",
    "    console.print(renderable_markup)\n",
    "\n",
    "    return {\"final_response\": state['ai_draft']}"
   ]
  },
  {
   "cell_type": "markdown",
   "id": "a6b000fe",
   "metadata": {},
   "source": [
    "Assembling the graph"
   ]
  },
  {
   "cell_type": "code",
   "execution_count": 74,
   "id": "f43eab32",
   "metadata": {},
   "outputs": [
    {
     "data": {
      "image/png": "[encoded data removed]",
      "text/plain": [
       "<IPython.core.display.Image object>"
      ]
     },
     "metadata": {},
     "output_type": "display_data"
    }
   ],
   "source": [
    "# Initialize the graph\n",
    "graph = StateGraph(HumanInTheLoopState)\n",
    "\n",
    "# Add nodes\n",
    "graph.add_node(\"draft\", draft_response)\n",
    "graph.add_node(\"human_review\", get_human_feedback)  # Renamed from \"human_feedback\"\n",
    "graph.add_node(\"revise\", revise_response)\n",
    "graph.add_node(\"finalize\", finalize_response)\n",
    "\n",
    "# Define the flow\n",
    "graph.add_edge(\"draft\", \"human_review\")\n",
    "graph.add_conditional_edges(\n",
    "    \"human_review\",\n",
    "    decide_next_step,\n",
    "    {\n",
    "        \"revise\": \"revise\",\n",
    "        \"finalize\": \"finalize\"\n",
    "    }\n",
    ")\n",
    "graph.add_edge(\"revise\", \"human_review\")\n",
    "graph.add_edge(\"finalize\", END)\n",
    "\n",
    "# Set the entry point\n",
    "graph.set_entry_point(\"draft\")\n",
    "\n",
    "checkpointer = MemorySaver()\n",
    "workflow = graph.compile(checkpointer=checkpointer)\n",
    "\n",
    "display(Image(workflow.get_graph().draw_mermaid_png()))"
   ]
  },
  {
   "cell_type": "code",
   "execution_count": 75,
   "id": "b0f6bf28",
   "metadata": {},
   "outputs": [],
   "source": [
    "from rich.console import Console\n",
    "from rich.markdown import Markdown\n",
    "\n",
    "# This console is only for rendering Markup content nicely\n",
    "console = Console()"
   ]
  },
  {
   "cell_type": "markdown",
   "id": "7e36aa3f",
   "metadata": {},
   "source": [
    "Testing a simple \"approve\" interruption"
   ]
  },
  {
   "cell_type": "code",
   "execution_count": 76,
   "id": "45f00ea8",
   "metadata": {},
   "outputs": [
    {
     "name": "stdout",
     "output_type": "stream",
     "text": [
      "\n",
      "🤖 AI has drafted an initial response\n",
      "\n",
      "👋 HUMAN REVIEW REQUIRED!\n",
      "\n",
      "Original question: What's the best way to implement HITL systems?\n"
     ]
    },
    {
     "data": {
      "text/html": [
       "<pre style=\"white-space:pre;overflow-x:auto;line-height:normal;font-family:Menlo,'DejaVu Sans Mono',consolas,'Courier New',monospace\"><span style=\"font-weight: bold\">AI draft:</span> Implementing Human-in-the-Loop (HITL) systems effectively involves several key steps and considerations. \n",
       "Here’s a structured approach to ensure successful implementation:                                                  \n",
       "\n",
       "<span style=\"color: #808000; text-decoration-color: #808000; font-weight: bold\">  1 </span><span style=\"font-weight: bold\">Define Objectives and Use Cases</span>:                                                                               \n",
       "<span style=\"color: #808000; text-decoration-color: #808000; font-weight: bold\">     • </span>Clearly outline the goals of the HITL system. Identify specific tasks where human input is necessary, such  \n",
       "<span style=\"color: #808000; text-decoration-color: #808000; font-weight: bold\">       </span>as data labeling, decision-making, or quality assurance.                                                    \n",
       "<span style=\"color: #808000; text-decoration-color: #808000; font-weight: bold\">     • </span>Determine the use cases where HITL can add value, such as in machine learning model training, real-time     \n",
       "<span style=\"color: #808000; text-decoration-color: #808000; font-weight: bold\">       </span>decision support, or error correction.                                                                      \n",
       "<span style=\"color: #808000; text-decoration-color: #808000; font-weight: bold\">  2 </span><span style=\"font-weight: bold\">Select Appropriate Technology</span>:                                                                                 \n",
       "<span style=\"color: #808000; text-decoration-color: #808000; font-weight: bold\">     • </span>Choose the right tools and platforms that support HITL workflows. This may include machine learning         \n",
       "<span style=\"color: #808000; text-decoration-color: #808000; font-weight: bold\">       </span>frameworks, data annotation tools, or custom software solutions.                                            \n",
       "<span style=\"color: #808000; text-decoration-color: #808000; font-weight: bold\">     • </span>Ensure that the technology can facilitate seamless interaction between humans and machines.                 \n",
       "<span style=\"color: #808000; text-decoration-color: #808000; font-weight: bold\">  3 </span><span style=\"font-weight: bold\">Design the Workflow</span>:                                                                                           \n",
       "<span style=\"color: #808000; text-decoration-color: #808000; font-weight: bold\">     • </span>Create a clear workflow that integrates human input at critical points. Define how tasks will be assigned to\n",
       "<span style=\"color: #808000; text-decoration-color: #808000; font-weight: bold\">       </span>humans, how feedback will be collected, and how the system will learn from human input.                     \n",
       "<span style=\"color: #808000; text-decoration-color: #808000; font-weight: bold\">     • </span>Consider using iterative processes where human feedback can continuously improve the system.                \n",
       "<span style=\"color: #808000; text-decoration-color: #808000; font-weight: bold\">  4 </span><span style=\"font-weight: bold\">User Interface and Experience</span>:                                                                                 \n",
       "<span style=\"color: #808000; text-decoration-color: #808000; font-weight: bold\">     • </span>Develop an intuitive user interface that allows human operators to interact with the system easily. The     \n",
       "<span style=\"color: #808000; text-decoration-color: #808000; font-weight: bold\">       </span>interface should minimize cognitive load and provide clear instructions.                                    \n",
       "<span style=\"color: #808000; text-decoration-color: #808000; font-weight: bold\">     • </span>Ensure that the system provides relevant context and information to assist human decision-making.           \n",
       "<span style=\"color: #808000; text-decoration-color: #808000; font-weight: bold\">  5 </span><span style=\"font-weight: bold\">Training and Onboarding</span>:                                                                                       \n",
       "<span style=\"color: #808000; text-decoration-color: #808000; font-weight: bold\">     • </span>Provide comprehensive training for users who will interact with the HITL system. This should cover both the \n",
       "<span style=\"color: #808000; text-decoration-color: #808000; font-weight: bold\">       </span>technical aspects and the rationale behind the system’s design.                                             \n",
       "<span style=\"color: #808000; text-decoration-color: #808000; font-weight: bold\">     • </span>Offer ongoing support and resources to help users adapt to the system.                                      \n",
       "<span style=\"color: #808000; text-decoration-color: #808000; font-weight: bold\">  6 </span><span style=\"font-weight: bold\">Feedback Mechanisms</span>:                                                                                           \n",
       "<span style=\"color: #808000; text-decoration-color: #808000; font-weight: bold\">     • </span>Implement robust feedback loops where human input can be used to refine and improve the system. This may    \n",
       "<span style=\"color: #808000; text-decoration-color: #808000; font-weight: bold\">       </span>involve collecting data on user interactions and outcomes.                                                  \n",
       "<span style=\"color: #808000; text-decoration-color: #808000; font-weight: bold\">     • </span>Regularly review and analyze feedback to identify areas for improvement.                                    \n",
       "<span style=\"color: #808000; text-decoration-color: #808000; font-weight: bold\">  7 </span><span style=\"font-weight: bold\">Monitoring and Evaluation</span>:                                                                                     \n",
       "<span style=\"color: #808000; text-decoration-color: #808000; font-weight: bold\">     • </span>Continuously monitor the performance of the HITL system. Evaluate how well it meets its objectives and the  \n",
       "<span style=\"color: #808000; text-decoration-color: #808000; font-weight: bold\">       </span>quality of human contributions.                                                                             \n",
       "<span style=\"color: #808000; text-decoration-color: #808000; font-weight: bold\">     • </span>Use metrics to assess the effectiveness of the system, such as accuracy, efficiency, and user satisfaction. \n",
       "<span style=\"color: #808000; text-decoration-color: #808000; font-weight: bold\">  8 </span><span style=\"font-weight: bold\">Iterate and Improve</span>:                                                                                           \n",
       "<span style=\"color: #808000; text-decoration-color: #808000; font-weight: bold\">     • </span>Treat the HITL system as a living project that requires regular updates and improvements based on user      \n",
       "<span style=\"color: #808000; text-decoration-color: #808000; font-weight: bold\">       </span>feedback and performance data.                                                                              \n",
       "<span style=\"color: #808000; text-decoration-color: #808000; font-weight: bold\">     • </span>Be open to making changes to the workflow, technology, or user interface as needed.                         \n",
       "<span style=\"color: #808000; text-decoration-color: #808000; font-weight: bold\">  9 </span><span style=\"font-weight: bold\">Ethical Considerations</span>:                                                                                        \n",
       "<span style=\"color: #808000; text-decoration-color: #808000; font-weight: bold\">     • </span>Address ethical concerns related to the use of HITL systems, such as bias, transparency, and accountability.\n",
       "<span style=\"color: #808000; text-decoration-color: #808000; font-weight: bold\">       </span>Ensure that human input is valued and that the system operates fairly.                                      \n",
       "<span style=\"color: #808000; text-decoration-color: #808000; font-weight: bold\"> 10 </span><span style=\"font-weight: bold\">Scalability</span>:                                                                                                   \n",
       "<span style=\"color: #808000; text-decoration-color: #808000; font-weight: bold\">     • </span>Plan for scalability from the outset. Consider how the HITL system can grow and adapt to increasing data    \n",
       "<span style=\"color: #808000; text-decoration-color: #808000; font-weight: bold\">       </span>volumes or more complex tasks over time.                                                                    \n",
       "\n",
       "By following these steps, organizations can effectively implement HITL systems that leverage human expertise to    \n",
       "enhance machine performance, leading to better outcomes and more reliable systems.                                 \n",
       "</pre>\n"
      ],
      "text/plain": [
       "\u001b[1mAI draft:\u001b[0m Implementing Human-in-the-Loop (HITL) systems effectively involves several key steps and considerations. \n",
       "Here’s a structured approach to ensure successful implementation:                                                  \n",
       "\n",
       "\u001b[1;33m  1 \u001b[0m\u001b[1mDefine Objectives and Use Cases\u001b[0m:                                                                               \n",
       "\u001b[1;33m    \u001b[0m\u001b[1;33m • \u001b[0mClearly outline the goals of the HITL system. Identify specific tasks where human input is necessary, such  \n",
       "\u001b[1;33m    \u001b[0m\u001b[1;33m   \u001b[0mas data labeling, decision-making, or quality assurance.                                                    \n",
       "\u001b[1;33m    \u001b[0m\u001b[1;33m • \u001b[0mDetermine the use cases where HITL can add value, such as in machine learning model training, real-time     \n",
       "\u001b[1;33m    \u001b[0m\u001b[1;33m   \u001b[0mdecision support, or error correction.                                                                      \n",
       "\u001b[1;33m  2 \u001b[0m\u001b[1mSelect Appropriate Technology\u001b[0m:                                                                                 \n",
       "\u001b[1;33m    \u001b[0m\u001b[1;33m • \u001b[0mChoose the right tools and platforms that support HITL workflows. This may include machine learning         \n",
       "\u001b[1;33m    \u001b[0m\u001b[1;33m   \u001b[0mframeworks, data annotation tools, or custom software solutions.                                            \n",
       "\u001b[1;33m    \u001b[0m\u001b[1;33m • \u001b[0mEnsure that the technology can facilitate seamless interaction between humans and machines.                 \n",
       "\u001b[1;33m  3 \u001b[0m\u001b[1mDesign the Workflow\u001b[0m:                                                                                           \n",
       "\u001b[1;33m    \u001b[0m\u001b[1;33m • \u001b[0mCreate a clear workflow that integrates human input at critical points. Define how tasks will be assigned to\n",
       "\u001b[1;33m    \u001b[0m\u001b[1;33m   \u001b[0mhumans, how feedback will be collected, and how the system will learn from human input.                     \n",
       "\u001b[1;33m    \u001b[0m\u001b[1;33m • \u001b[0mConsider using iterative processes where human feedback can continuously improve the system.                \n",
       "\u001b[1;33m  4 \u001b[0m\u001b[1mUser Interface and Experience\u001b[0m:                                                                                 \n",
       "\u001b[1;33m    \u001b[0m\u001b[1;33m • \u001b[0mDevelop an intuitive user interface that allows human operators to interact with the system easily. The     \n",
       "\u001b[1;33m    \u001b[0m\u001b[1;33m   \u001b[0minterface should minimize cognitive load and provide clear instructions.                                    \n",
       "\u001b[1;33m    \u001b[0m\u001b[1;33m • \u001b[0mEnsure that the system provides relevant context and information to assist human decision-making.           \n",
       "\u001b[1;33m  5 \u001b[0m\u001b[1mTraining and Onboarding\u001b[0m:                                                                                       \n",
       "\u001b[1;33m    \u001b[0m\u001b[1;33m • \u001b[0mProvide comprehensive training for users who will interact with the HITL system. This should cover both the \n",
       "\u001b[1;33m    \u001b[0m\u001b[1;33m   \u001b[0mtechnical aspects and the rationale behind the system’s design.                                             \n",
       "\u001b[1;33m    \u001b[0m\u001b[1;33m • \u001b[0mOffer ongoing support and resources to help users adapt to the system.                                      \n",
       "\u001b[1;33m  6 \u001b[0m\u001b[1mFeedback Mechanisms\u001b[0m:                                                                                           \n",
       "\u001b[1;33m    \u001b[0m\u001b[1;33m • \u001b[0mImplement robust feedback loops where human input can be used to refine and improve the system. This may    \n",
       "\u001b[1;33m    \u001b[0m\u001b[1;33m   \u001b[0minvolve collecting data on user interactions and outcomes.                                                  \n",
       "\u001b[1;33m    \u001b[0m\u001b[1;33m • \u001b[0mRegularly review and analyze feedback to identify areas for improvement.                                    \n",
       "\u001b[1;33m  7 \u001b[0m\u001b[1mMonitoring and Evaluation\u001b[0m:                                                                                     \n",
       "\u001b[1;33m    \u001b[0m\u001b[1;33m • \u001b[0mContinuously monitor the performance of the HITL system. Evaluate how well it meets its objectives and the  \n",
       "\u001b[1;33m    \u001b[0m\u001b[1;33m   \u001b[0mquality of human contributions.                                                                             \n",
       "\u001b[1;33m    \u001b[0m\u001b[1;33m • \u001b[0mUse metrics to assess the effectiveness of the system, such as accuracy, efficiency, and user satisfaction. \n",
       "\u001b[1;33m  8 \u001b[0m\u001b[1mIterate and Improve\u001b[0m:                                                                                           \n",
       "\u001b[1;33m    \u001b[0m\u001b[1;33m • \u001b[0mTreat the HITL system as a living project that requires regular updates and improvements based on user      \n",
       "\u001b[1;33m    \u001b[0m\u001b[1;33m   \u001b[0mfeedback and performance data.                                                                              \n",
       "\u001b[1;33m    \u001b[0m\u001b[1;33m • \u001b[0mBe open to making changes to the workflow, technology, or user interface as needed.                         \n",
       "\u001b[1;33m  9 \u001b[0m\u001b[1mEthical Considerations\u001b[0m:                                                                                        \n",
       "\u001b[1;33m    \u001b[0m\u001b[1;33m • \u001b[0mAddress ethical concerns related to the use of HITL systems, such as bias, transparency, and accountability.\n",
       "\u001b[1;33m    \u001b[0m\u001b[1;33m   \u001b[0mEnsure that human input is valued and that the system operates fairly.                                      \n",
       "\u001b[1;33m 10 \u001b[0m\u001b[1mScalability\u001b[0m:                                                                                                   \n",
       "\u001b[1;33m    \u001b[0m\u001b[1;33m • \u001b[0mPlan for scalability from the outset. Consider how the HITL system can grow and adapt to increasing data    \n",
       "\u001b[1;33m    \u001b[0m\u001b[1;33m   \u001b[0mvolumes or more complex tasks over time.                                                                    \n",
       "\n",
       "By following these steps, organizations can effectively implement HITL systems that leverage human expertise to    \n",
       "enhance machine performance, leading to better outcomes and more reliable systems.                                 \n"
      ]
     },
     "metadata": {},
     "output_type": "display_data"
    },
    {
     "name": "stdout",
     "output_type": "stream",
     "text": [
      "\n",
      "👤 Human provided feedback: approve\n",
      "\n",
      "\n",
      "✅ Final response ready:\n"
     ]
    },
    {
     "data": {
      "text/html": [
       "<pre style=\"white-space:pre;overflow-x:auto;line-height:normal;font-family:Menlo,'DejaVu Sans Mono',consolas,'Courier New',monospace\">Implementing Human-in-the-Loop (HITL) systems effectively involves several key steps and considerations. Here’s a  \n",
       "structured approach to ensure successful implementation:                                                           \n",
       "\n",
       "<span style=\"color: #808000; text-decoration-color: #808000; font-weight: bold\">  1 </span><span style=\"font-weight: bold\">Define Objectives and Use Cases</span>:                                                                               \n",
       "<span style=\"color: #808000; text-decoration-color: #808000; font-weight: bold\">     • </span>Clearly outline the goals of the HITL system. Identify specific tasks where human input is necessary, such  \n",
       "<span style=\"color: #808000; text-decoration-color: #808000; font-weight: bold\">       </span>as data labeling, decision-making, or quality assurance.                                                    \n",
       "<span style=\"color: #808000; text-decoration-color: #808000; font-weight: bold\">     • </span>Determine the use cases where HITL can add value, such as in machine learning model training, real-time     \n",
       "<span style=\"color: #808000; text-decoration-color: #808000; font-weight: bold\">       </span>decision support, or error correction.                                                                      \n",
       "<span style=\"color: #808000; text-decoration-color: #808000; font-weight: bold\">  2 </span><span style=\"font-weight: bold\">Select Appropriate Technology</span>:                                                                                 \n",
       "<span style=\"color: #808000; text-decoration-color: #808000; font-weight: bold\">     • </span>Choose the right tools and platforms that support HITL workflows. This may include machine learning         \n",
       "<span style=\"color: #808000; text-decoration-color: #808000; font-weight: bold\">       </span>frameworks, data annotation tools, or custom software solutions.                                            \n",
       "<span style=\"color: #808000; text-decoration-color: #808000; font-weight: bold\">     • </span>Ensure that the technology can facilitate seamless interaction between humans and machines.                 \n",
       "<span style=\"color: #808000; text-decoration-color: #808000; font-weight: bold\">  3 </span><span style=\"font-weight: bold\">Design the Workflow</span>:                                                                                           \n",
       "<span style=\"color: #808000; text-decoration-color: #808000; font-weight: bold\">     • </span>Create a clear workflow that integrates human input at critical points. Define how tasks will be assigned to\n",
       "<span style=\"color: #808000; text-decoration-color: #808000; font-weight: bold\">       </span>humans, how feedback will be collected, and how the system will learn from human input.                     \n",
       "<span style=\"color: #808000; text-decoration-color: #808000; font-weight: bold\">     • </span>Consider using iterative processes where human feedback can continuously improve the system.                \n",
       "<span style=\"color: #808000; text-decoration-color: #808000; font-weight: bold\">  4 </span><span style=\"font-weight: bold\">User Interface and Experience</span>:                                                                                 \n",
       "<span style=\"color: #808000; text-decoration-color: #808000; font-weight: bold\">     • </span>Develop an intuitive user interface that allows human operators to interact with the system easily. The     \n",
       "<span style=\"color: #808000; text-decoration-color: #808000; font-weight: bold\">       </span>interface should minimize cognitive load and provide clear instructions.                                    \n",
       "<span style=\"color: #808000; text-decoration-color: #808000; font-weight: bold\">     • </span>Ensure that the system provides relevant context and information to assist human decision-making.           \n",
       "<span style=\"color: #808000; text-decoration-color: #808000; font-weight: bold\">  5 </span><span style=\"font-weight: bold\">Training and Onboarding</span>:                                                                                       \n",
       "<span style=\"color: #808000; text-decoration-color: #808000; font-weight: bold\">     • </span>Provide comprehensive training for users who will interact with the HITL system. This should cover both the \n",
       "<span style=\"color: #808000; text-decoration-color: #808000; font-weight: bold\">       </span>technical aspects and the rationale behind the system’s design.                                             \n",
       "<span style=\"color: #808000; text-decoration-color: #808000; font-weight: bold\">     • </span>Offer ongoing support and resources to help users adapt to the system.                                      \n",
       "<span style=\"color: #808000; text-decoration-color: #808000; font-weight: bold\">  6 </span><span style=\"font-weight: bold\">Feedback Mechanisms</span>:                                                                                           \n",
       "<span style=\"color: #808000; text-decoration-color: #808000; font-weight: bold\">     • </span>Implement robust feedback loops where human input can be used to refine and improve the system. This may    \n",
       "<span style=\"color: #808000; text-decoration-color: #808000; font-weight: bold\">       </span>involve collecting data on user interactions and outcomes.                                                  \n",
       "<span style=\"color: #808000; text-decoration-color: #808000; font-weight: bold\">     • </span>Regularly review and analyze feedback to identify areas for improvement.                                    \n",
       "<span style=\"color: #808000; text-decoration-color: #808000; font-weight: bold\">  7 </span><span style=\"font-weight: bold\">Monitoring and Evaluation</span>:                                                                                     \n",
       "<span style=\"color: #808000; text-decoration-color: #808000; font-weight: bold\">     • </span>Continuously monitor the performance of the HITL system. Evaluate how well it meets its objectives and the  \n",
       "<span style=\"color: #808000; text-decoration-color: #808000; font-weight: bold\">       </span>quality of human contributions.                                                                             \n",
       "<span style=\"color: #808000; text-decoration-color: #808000; font-weight: bold\">     • </span>Use metrics to assess the effectiveness of the system, such as accuracy, efficiency, and user satisfaction. \n",
       "<span style=\"color: #808000; text-decoration-color: #808000; font-weight: bold\">  8 </span><span style=\"font-weight: bold\">Iterate and Improve</span>:                                                                                           \n",
       "<span style=\"color: #808000; text-decoration-color: #808000; font-weight: bold\">     • </span>Treat the HITL system as a living project that requires regular updates and improvements based on user      \n",
       "<span style=\"color: #808000; text-decoration-color: #808000; font-weight: bold\">       </span>feedback and performance data.                                                                              \n",
       "<span style=\"color: #808000; text-decoration-color: #808000; font-weight: bold\">     • </span>Be open to making changes to the workflow, technology, or user interface as needed.                         \n",
       "<span style=\"color: #808000; text-decoration-color: #808000; font-weight: bold\">  9 </span><span style=\"font-weight: bold\">Ethical Considerations</span>:                                                                                        \n",
       "<span style=\"color: #808000; text-decoration-color: #808000; font-weight: bold\">     • </span>Address ethical concerns related to the use of HITL systems, such as bias, transparency, and accountability.\n",
       "<span style=\"color: #808000; text-decoration-color: #808000; font-weight: bold\">       </span>Ensure that human input is valued and that the system operates fairly.                                      \n",
       "<span style=\"color: #808000; text-decoration-color: #808000; font-weight: bold\"> 10 </span><span style=\"font-weight: bold\">Scalability</span>:                                                                                                   \n",
       "<span style=\"color: #808000; text-decoration-color: #808000; font-weight: bold\">     • </span>Plan for scalability from the outset. Consider how the HITL system can grow and adapt to increasing data    \n",
       "<span style=\"color: #808000; text-decoration-color: #808000; font-weight: bold\">       </span>volumes or more complex tasks over time.                                                                    \n",
       "\n",
       "By following these steps, organizations can effectively implement HITL systems that leverage human expertise to    \n",
       "enhance machine performance, leading to better outcomes and more reliable systems.                                 \n",
       "</pre>\n"
      ],
      "text/plain": [
       "Implementing Human-in-the-Loop (HITL) systems effectively involves several key steps and considerations. Here’s a  \n",
       "structured approach to ensure successful implementation:                                                           \n",
       "\n",
       "\u001b[1;33m  1 \u001b[0m\u001b[1mDefine Objectives and Use Cases\u001b[0m:                                                                               \n",
       "\u001b[1;33m    \u001b[0m\u001b[1;33m • \u001b[0mClearly outline the goals of the HITL system. Identify specific tasks where human input is necessary, such  \n",
       "\u001b[1;33m    \u001b[0m\u001b[1;33m   \u001b[0mas data labeling, decision-making, or quality assurance.                                                    \n",
       "\u001b[1;33m    \u001b[0m\u001b[1;33m • \u001b[0mDetermine the use cases where HITL can add value, such as in machine learning model training, real-time     \n",
       "\u001b[1;33m    \u001b[0m\u001b[1;33m   \u001b[0mdecision support, or error correction.                                                                      \n",
       "\u001b[1;33m  2 \u001b[0m\u001b[1mSelect Appropriate Technology\u001b[0m:                                                                                 \n",
       "\u001b[1;33m    \u001b[0m\u001b[1;33m • \u001b[0mChoose the right tools and platforms that support HITL workflows. This may include machine learning         \n",
       "\u001b[1;33m    \u001b[0m\u001b[1;33m   \u001b[0mframeworks, data annotation tools, or custom software solutions.                                            \n",
       "\u001b[1;33m    \u001b[0m\u001b[1;33m • \u001b[0mEnsure that the technology can facilitate seamless interaction between humans and machines.                 \n",
       "\u001b[1;33m  3 \u001b[0m\u001b[1mDesign the Workflow\u001b[0m:                                                                                           \n",
       "\u001b[1;33m    \u001b[0m\u001b[1;33m • \u001b[0mCreate a clear workflow that integrates human input at critical points. Define how tasks will be assigned to\n",
       "\u001b[1;33m    \u001b[0m\u001b[1;33m   \u001b[0mhumans, how feedback will be collected, and how the system will learn from human input.                     \n",
       "\u001b[1;33m    \u001b[0m\u001b[1;33m • \u001b[0mConsider using iterative processes where human feedback can continuously improve the system.                \n",
       "\u001b[1;33m  4 \u001b[0m\u001b[1mUser Interface and Experience\u001b[0m:                                                                                 \n",
       "\u001b[1;33m    \u001b[0m\u001b[1;33m • \u001b[0mDevelop an intuitive user interface that allows human operators to interact with the system easily. The     \n",
       "\u001b[1;33m    \u001b[0m\u001b[1;33m   \u001b[0minterface should minimize cognitive load and provide clear instructions.                                    \n",
       "\u001b[1;33m    \u001b[0m\u001b[1;33m • \u001b[0mEnsure that the system provides relevant context and information to assist human decision-making.           \n",
       "\u001b[1;33m  5 \u001b[0m\u001b[1mTraining and Onboarding\u001b[0m:                                                                                       \n",
       "\u001b[1;33m    \u001b[0m\u001b[1;33m • \u001b[0mProvide comprehensive training for users who will interact with the HITL system. This should cover both the \n",
       "\u001b[1;33m    \u001b[0m\u001b[1;33m   \u001b[0mtechnical aspects and the rationale behind the system’s design.                                             \n",
       "\u001b[1;33m    \u001b[0m\u001b[1;33m • \u001b[0mOffer ongoing support and resources to help users adapt to the system.                                      \n",
       "\u001b[1;33m  6 \u001b[0m\u001b[1mFeedback Mechanisms\u001b[0m:                                                                                           \n",
       "\u001b[1;33m    \u001b[0m\u001b[1;33m • \u001b[0mImplement robust feedback loops where human input can be used to refine and improve the system. This may    \n",
       "\u001b[1;33m    \u001b[0m\u001b[1;33m   \u001b[0minvolve collecting data on user interactions and outcomes.                                                  \n",
       "\u001b[1;33m    \u001b[0m\u001b[1;33m • \u001b[0mRegularly review and analyze feedback to identify areas for improvement.                                    \n",
       "\u001b[1;33m  7 \u001b[0m\u001b[1mMonitoring and Evaluation\u001b[0m:                                                                                     \n",
       "\u001b[1;33m    \u001b[0m\u001b[1;33m • \u001b[0mContinuously monitor the performance of the HITL system. Evaluate how well it meets its objectives and the  \n",
       "\u001b[1;33m    \u001b[0m\u001b[1;33m   \u001b[0mquality of human contributions.                                                                             \n",
       "\u001b[1;33m    \u001b[0m\u001b[1;33m • \u001b[0mUse metrics to assess the effectiveness of the system, such as accuracy, efficiency, and user satisfaction. \n",
       "\u001b[1;33m  8 \u001b[0m\u001b[1mIterate and Improve\u001b[0m:                                                                                           \n",
       "\u001b[1;33m    \u001b[0m\u001b[1;33m • \u001b[0mTreat the HITL system as a living project that requires regular updates and improvements based on user      \n",
       "\u001b[1;33m    \u001b[0m\u001b[1;33m   \u001b[0mfeedback and performance data.                                                                              \n",
       "\u001b[1;33m    \u001b[0m\u001b[1;33m • \u001b[0mBe open to making changes to the workflow, technology, or user interface as needed.                         \n",
       "\u001b[1;33m  9 \u001b[0m\u001b[1mEthical Considerations\u001b[0m:                                                                                        \n",
       "\u001b[1;33m    \u001b[0m\u001b[1;33m • \u001b[0mAddress ethical concerns related to the use of HITL systems, such as bias, transparency, and accountability.\n",
       "\u001b[1;33m    \u001b[0m\u001b[1;33m   \u001b[0mEnsure that human input is valued and that the system operates fairly.                                      \n",
       "\u001b[1;33m 10 \u001b[0m\u001b[1mScalability\u001b[0m:                                                                                                   \n",
       "\u001b[1;33m    \u001b[0m\u001b[1;33m • \u001b[0mPlan for scalability from the outset. Consider how the HITL system can grow and adapt to increasing data    \n",
       "\u001b[1;33m    \u001b[0m\u001b[1;33m   \u001b[0mvolumes or more complex tasks over time.                                                                    \n",
       "\n",
       "By following these steps, organizations can effectively implement HITL systems that leverage human expertise to    \n",
       "enhance machine performance, leading to better outcomes and more reliable systems.                                 \n"
      ]
     },
     "metadata": {},
     "output_type": "display_data"
    },
    {
     "name": "stdout",
     "output_type": "stream",
     "text": [
      "\n",
      "=== WORKFLOW COMPLETED ===\n"
     ]
    }
   ],
   "source": [
    "# Initial state with a user question\n",
    "query = \"What's the best way to implement HITL systems?\"\n",
    "\n",
    "initial_state = {\n",
    "    \"question\": query,\n",
    "    \"ai_draft\": \"\",\n",
    "    \"human_feedback\": \"\",\n",
    "    \"final_response\": \"\",\n",
    "    \"thread_id\": 1\n",
    "}\n",
    "\n",
    "# Run the workflow\n",
    "config = {\"configurable\": {\"thread_id\": 1}}\n",
    "for output in workflow.stream(initial_state, config):\n",
    "    # In a production application, you would handle these events appropriately\n",
    "    pass\n",
    "    \n",
    "# Final state contains the complete conversation\n",
    "print(\"\\n=== WORKFLOW COMPLETED ===\")"
   ]
  },
  {
   "cell_type": "markdown",
   "id": "8dcd2c77",
   "metadata": {},
   "source": [
    "---"
   ]
  },
  {
   "cell_type": "markdown",
   "id": "91d60608",
   "metadata": {},
   "source": [
    "In general, when a graph is interrupted, its state is persisted until the graph is resumed (from the interrupted node)."
   ]
  },
  {
   "cell_type": "code",
   "execution_count": null,
   "id": "6bfc36f3",
   "metadata": {},
   "outputs": [
    {
     "data": {
      "text/plain": [
       "()"
      ]
     },
     "execution_count": 79,
     "metadata": {},
     "output_type": "execute_result"
    }
   ],
   "source": [
    "# If the graph is interrumpted, the status per thread can be checked with:\n",
    "\n",
    "# workflow.get_state(thread_config).tasks[0].interrupts[0].value"
   ]
  }
 ],
 "metadata": {
  "kernelspec": {
   "display_name": "ia_desde_cero",
   "language": "python",
   "name": "python3"
  },
  "language_info": {
   "codemirror_mode": {
    "name": "ipython",
    "version": 3
   },
   "file_extension": ".py",
   "mimetype": "text/x-python",
   "name": "python",
   "nbconvert_exporter": "python",
   "pygments_lexer": "ipython3",
   "version": "3.11.13"
  }
 },
 "nbformat": 4,
 "nbformat_minor": 5
}
