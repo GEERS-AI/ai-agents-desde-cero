{
 "cells": [
  {
   "cell_type": "markdown",
   "id": "76cb0be8",
   "metadata": {},
   "source": [
    "# Prompting and basic Langchain"
   ]
  },
  {
   "cell_type": "markdown",
   "id": "61c79b73",
   "metadata": {},
   "source": [
    "Importing necessary libraries and installing required packages"
   ]
  },
  {
   "cell_type": "code",
   "execution_count": 1,
   "id": "5afca013",
   "metadata": {},
   "outputs": [],
   "source": [
    "import os\n",
    "import json\n",
    "from pathlib import Path\n",
    "from dotenv import load_dotenv\n",
    "import pprint\n",
    "\n",
    "from IPython.display import display, Markdown"
   ]
  },
  {
   "cell_type": "code",
   "execution_count": 2,
   "id": "2172d63b",
   "metadata": {},
   "outputs": [
    {
     "data": {
      "text/plain": [
       "True"
      ]
     },
     "execution_count": 2,
     "metadata": {},
     "output_type": "execute_result"
    }
   ],
   "source": [
    "# Load environment variables from .env file\n",
    "load_dotenv()"
   ]
  },
  {
   "cell_type": "code",
   "execution_count": 3,
   "id": "41d58cce",
   "metadata": {},
   "outputs": [],
   "source": [
    "# %pip install langchain langchain-openai langchain-groq langchain-community langchain-chroma"
   ]
  },
  {
   "cell_type": "markdown",
   "id": "92e3bb59",
   "metadata": {},
   "source": [
    "This is all for Langchain"
   ]
  },
  {
   "cell_type": "code",
   "execution_count": 4,
   "id": "17d57f27",
   "metadata": {},
   "outputs": [],
   "source": [
    "from langchain_openai import ChatOpenAI\n",
    "from langchain_groq import ChatGroq\n",
    "from langchain_core.messages import AIMessage, HumanMessage, SystemMessage\n",
    "from langchain_core.prompts import ChatPromptTemplate, MessagesPlaceholder\n",
    "from langchain_core.output_parsers import StrOutputParser\n",
    "from langchain.memory import ChatMessageHistory\n",
    "from langchain_core.runnables import RunnablePassthrough\n",
    "from langchain_core.example_selectors import SemanticSimilarityExampleSelector\n",
    "from langchain_core.prompts import FewShotPromptTemplate, PromptTemplate\n",
    "from langchain_openai import OpenAIEmbeddings\n",
    "from langchain_chroma import Chroma\n",
    "from pydantic import BaseModel, Field\n"
   ]
  },
  {
   "cell_type": "markdown",
   "id": "f7b61bac",
   "metadata": {},
   "source": [
    "## A simple LLM-based Chat\n",
    "\n",
    "For Groq, you need to get first an account and API KEY at https://groq.com/ \n",
    "\n",
    "The API KEY should go to the env variables"
   ]
  },
  {
   "cell_type": "code",
   "execution_count": 5,
   "id": "9d9942cf",
   "metadata": {},
   "outputs": [
    {
     "name": "stdout",
     "output_type": "stream",
     "text": [
      "gpt-4o-mini\n",
      "Why did the data scientist break up with the statistician?\n",
      "\n",
      "Because she found him too mean!\n"
     ]
    }
   ],
   "source": [
    "llm_model = os.environ[\"OPENAI_MODEL\"]\n",
    "# llm_model = \"moonshotai/kimi-k2-instruct\"\n",
    "print(llm_model)\n",
    "\n",
    "llm = ChatOpenAI(model=llm_model, temperature=0.7)\n",
    "# llm = ChatGroq(model=llm_model, temperature=0.1)\n",
    "\n",
    "response = llm.invoke(\"Tell me a joke about data scientists\")\n",
    "print(response.content)"
   ]
  },
  {
   "cell_type": "markdown",
   "id": "13be39da",
   "metadata": {},
   "source": [
    "Chat models are based on roles and messages. Let's do our first chain with Langchain"
   ]
  },
  {
   "cell_type": "code",
   "execution_count": 6,
   "id": "e869ccb3",
   "metadata": {},
   "outputs": [
    {
     "name": "stdout",
     "output_type": "stream",
     "text": [
      "I said, \"J'adore la programmation,\" which means \"I love programming\" in French.\n"
     ]
    }
   ],
   "source": [
    "prompt = ChatPromptTemplate.from_messages(\n",
    "    [\n",
    "        SystemMessage(\n",
    "            content=\"You are a helpful assistant. Answer all questions to the best of your ability.\"\n",
    "        ),\n",
    "        MessagesPlaceholder(variable_name=\"messages\"),\n",
    "    ]\n",
    ")\n",
    "\n",
    "chain = prompt | llm # Chaining the prompt and the llm call\n",
    "\n",
    "ai_msg = chain.invoke(\n",
    "    {\n",
    "        \"messages\": [\n",
    "            HumanMessage(\n",
    "                content=\"Translate from English to French: I love programming.\"\n",
    "            ),\n",
    "            AIMessage(content=\"J'adore la programmation.\"),\n",
    "            HumanMessage(content=\"What did you just say?\"),\n",
    "        ],\n",
    "    }\n",
    ")\n",
    "print(ai_msg.content)"
   ]
  },
  {
   "cell_type": "markdown",
   "id": "36a1baea",
   "metadata": {},
   "source": [
    "This is a another typical kind of chain. Here, we use a *zero-shot* mode, as the LLM answers with its own (pretrained) knowledge."
   ]
  },
  {
   "cell_type": "code",
   "execution_count": 7,
   "id": "4c64fd1b",
   "metadata": {},
   "outputs": [
    {
     "name": "stdout",
     "output_type": "stream",
     "text": [
      "The Proxy design pattern is a structural design pattern that provides an object representing another object. This intermediary (proxy) can control access to the real object, adding an additional layer of functionality, such as lazy initialization, access control, logging, or caching.\n",
      "\n",
      "Here are some pros and cons of using the Proxy design pattern:\n",
      "\n",
      "### Pros:\n",
      "\n",
      "1. **Control Access**: Proxies can control access to the real object, allowing for security features or restrictions on when and how the object can be used.\n",
      "\n",
      "2. **Lazy Initialization**: Proxies can instantiate the real object only when it is needed, which can save resources and improve performance.\n",
      "\n",
      "3. **Additional Functionality**: Proxies can add additional behaviors (e.g., logging, caching, or monitoring) without modifying the real object's code.\n",
      "\n",
      "4. **Decoupling**: The client code does not need to be aware of the real object. This decouples the client from the implementation details of the real object.\n",
      "\n",
      "5. **Simplified Client Interface**: The client interacts with the proxy, which can provide a simplified interface or additional functionality compared to the real object.\n",
      "\n",
      "6. **Network Transparency**: In distributed systems, proxies can enable network transparency, allowing remote objects to be accessed as if they were local.\n",
      "\n",
      "### Cons:\n",
      "\n",
      "1. **Increased Complexity**: Introducing a proxy adds an additional layer, which can complicate the system’s architecture and make it harder to understand.\n",
      "\n",
      "2. **Performance Overhead**: Using a proxy can introduce additional performance overhead due to the extra layer of indirection, especially if the proxy performs additional processing or checks.\n",
      "\n",
      "3. **Potential for Misuse**: If not designed properly, proxies can lead to misuse or unintended behavior, especially if the additional functionality is not well-defined.\n",
      "\n",
      "4. **Tight Coupling with the Proxy**: If the client is tightly coupled with the proxy, changes to the proxy could necessitate changes in the client code.\n",
      "\n",
      "5. **Debugging Challenges**: Debugging can become more complicated with proxies, as it may be harder to trace the flow of control through multiple layers.\n",
      "\n",
      "6. **Increased Memory Usage**: If the proxy caches data or the real object itself is heavy, it could lead to increased memory consumption.\n",
      "\n",
      "### Conclusion\n",
      "\n",
      "The Proxy design pattern is a powerful tool when used appropriately, providing many benefits such as controlled access, lazy initialization, and the ability to add extra functionality. However, it also introduces complexity and potential performance issues. Careful consideration of the system’s requirements and potential trade-offs is essential when deciding to implement this pattern.\n"
     ]
    }
   ],
   "source": [
    "SYSTEM_PROMPT = \"\"\"You are an experienced software architect that assists a novice developer \n",
    "to design a system. \"\"\"\n",
    "\n",
    "qa_prompt = ChatPromptTemplate.from_messages(\n",
    "        [\n",
    "            (\"system\", SYSTEM_PROMPT),\n",
    "            (\"human\", \"{question}\"),\n",
    "        ]\n",
    ")\n",
    "\n",
    "qa_chain = qa_prompt | llm\n",
    "\n",
    "query = \"What are the prons and cons of the Proxy design pattern?\"\n",
    "result = qa_chain.invoke(input=query)\n",
    "print(result.content)\n",
    "\n",
    "# display(Markdown(result.content)) # Result in Markdown format\n"
   ]
  },
  {
   "cell_type": "markdown",
   "id": "a071cf33",
   "metadata": {},
   "source": [
    "## Handling Memory (as part of a chat)"
   ]
  },
  {
   "cell_type": "markdown",
   "id": "5fa52eff",
   "metadata": {},
   "source": [
    "The memory is a list of previous (pairs of) messages between the human and the assistant, which provide *context* for the next iteraction."
   ]
  },
  {
   "cell_type": "code",
   "execution_count": 8,
   "id": "5ead4946",
   "metadata": {},
   "outputs": [
    {
     "name": "stdout",
     "output_type": "stream",
     "text": [
      "Can the Proxy design pattern be effectively combined with other design patterns, and if so, what are some examples of such combinations?\n"
     ]
    }
   ],
   "source": [
    "CONTEXTUALIZED_PROMPT = \"\"\"Given a chat history and the latest developer's question\n",
    "    which might reference context in the chat history, formulate a standalone question\n",
    "    that can be understood without the chat history. Do NOT answer the question,\n",
    "    just reformulate it if needed and otherwise return it as is.\"\"\"\n",
    "\n",
    "contextualized_qa_prompt = ChatPromptTemplate.from_messages(\n",
    "        [\n",
    "            (\"system\", CONTEXTUALIZED_PROMPT),\n",
    "            MessagesPlaceholder(variable_name=\"chat_history\"),\n",
    "            (\"human\", \"{question}\"),\n",
    "        ]\n",
    "    )\n",
    "\n",
    "# This is a possible chain to keep (and compress) past interactions\n",
    "# It's a form of rewriting\n",
    "contextualized_qa_chain = contextualized_qa_prompt | llm | StrOutputParser()\n",
    "\n",
    "\n",
    "# A buffer to store messages from user and assistant\n",
    "chat_history = ChatMessageHistory()\n",
    "chat_history.add_user_message(query)\n",
    "chat_history.add_ai_message(result)\n",
    "\n",
    "\n",
    "query = \"Can I combine the pattern with other patterns?\"\n",
    "ai_msg = contextualized_qa_chain.invoke(\n",
    "    {\n",
    "        'question': query, \n",
    "        'chat_history': chat_history.messages\n",
    "    }\n",
    ")\n",
    "print(ai_msg)"
   ]
  },
  {
   "cell_type": "markdown",
   "id": "bc09ce73",
   "metadata": {},
   "source": [
    "Let's use the (compressed) history to answer the new question"
   ]
  },
  {
   "cell_type": "code",
   "execution_count": 9,
   "id": "4a198b06",
   "metadata": {},
   "outputs": [
    {
     "data": {
      "text/markdown": [
       "Yes, the Proxy design pattern can be combined with other design patterns to enhance functionality, manage complexity, or improve system architecture. Here are some examples of how the Proxy pattern can be combined with other design patterns:\n",
       "\n",
       "1. **Proxy and Decorator Pattern**:\n",
       "   - **Example**: You can use a Proxy to control access to an object while also using a Decorator to add additional responsibilities or behaviors to that object. For instance, if you have a `LoggingProxy` that logs access to a service, you could also have a `CachingDecorator` that caches the results of the service calls to improve performance.\n",
       "\n",
       "2. **Proxy and Singleton Pattern**:\n",
       "   - **Example**: A Proxy can be used to control access to a Singleton instance. For instance, if you have a `DatabaseConnection` that should only have one instance, you can use a Proxy that manages access to this instance, ensuring that it is created only once and that all access is routed through the Proxy.\n",
       "\n",
       "3. **Proxy and Factory Pattern**:\n",
       "   - **Example**: Use a Factory to create Proxy objects instead of the real objects. This is useful in scenarios where you want to add a layer of abstraction, such as creating a Proxy for a remote service. The Factory can instantiate either the real object or its Proxy based on certain conditions, such as whether the application is running in a local or remote environment.\n",
       "\n",
       "4. **Proxy and Observer Pattern**:\n",
       "   - **Example**: A Proxy can be used to monitor changes in a subject that it proxies. For example, if you have a `Subject` that sends notifications to observers, you could implement a Proxy that intercepts these notifications to log them or apply additional filtering before they are sent to the observers.\n",
       "\n",
       "5. **Proxy and Command Pattern**:\n",
       "   - **Example**: You can use a Proxy to manage command execution. For instance, a `CommandProxy` might handle authentication or authorization before a command is executed. This way, the command's execution logic remains clean and focused, while the Proxy handles the pre-processing.\n",
       "\n",
       "6. **Proxy and Flyweight Pattern**:\n",
       "   - **Example**: If you have a system where many objects are similar and require a lot of memory, you can use the Flyweight pattern to share common parts of the objects and a Proxy to manage their instantiation and access. The Proxy can check if a Flyweight instance already exists and return it instead of creating a new one.\n",
       "\n",
       "7. **Proxy and Strategy Pattern**:\n",
       "   - **Example**: A Proxy can be used to select different strategies for a service at runtime. For instance, if you have a service that can process data in different ways depending on the user's preferences, a Proxy can encapsulate the logic for choosing the right strategy based on certain conditions.\n",
       "\n",
       "By combining the Proxy pattern with other design patterns, you can create more flexible and maintainable systems, leveraging the strengths of each pattern to address specific challenges in your architecture."
      ],
      "text/plain": [
       "<IPython.core.display.Markdown object>"
      ]
     },
     "metadata": {},
     "output_type": "display_data"
    }
   ],
   "source": [
    "def contextualized_question(input: dict):\n",
    "        if input.get(\"chat_history\"):\n",
    "            return contextualized_qa_chain\n",
    "        else:\n",
    "            return input[\"question\"]\n",
    "\n",
    "# A new QA chain that reuses the previous chain\n",
    "qa_chain_with_memory = (\n",
    "         RunnablePassthrough.assign(\n",
    "            context=contextualized_question | qa_prompt | llm\n",
    "        )\n",
    "    )\n",
    "\n",
    "result = qa_chain_with_memory.invoke(\n",
    "    {\n",
    "        'question': query,  \n",
    "        'chat_history': chat_history.messages\n",
    "    }\n",
    ")\n",
    "\n",
    "display(Markdown(result['context'].content))"
   ]
  },
  {
   "cell_type": "code",
   "execution_count": 10,
   "id": "86e91488",
   "metadata": {},
   "outputs": [
    {
     "name": "stdout",
     "output_type": "stream",
     "text": [
      "{'chat_history': [HumanMessage(content='What are the prons and cons of the Proxy design pattern?', additional_kwargs={}, response_metadata={}),\n",
      "                  AIMessage(content=\"The Proxy design pattern is a structural design pattern that provides an object representing another object. This intermediary (proxy) can control access to the real object, adding an additional layer of functionality, such as lazy initialization, access control, logging, or caching.\\n\\nHere are some pros and cons of using the Proxy design pattern:\\n\\n### Pros:\\n\\n1. **Control Access**: Proxies can control access to the real object, allowing for security features or restrictions on when and how the object can be used.\\n\\n2. **Lazy Initialization**: Proxies can instantiate the real object only when it is needed, which can save resources and improve performance.\\n\\n3. **Additional Functionality**: Proxies can add additional behaviors (e.g., logging, caching, or monitoring) without modifying the real object's code.\\n\\n4. **Decoupling**: The client code does not need to be aware of the real object. This decouples the client from the implementation details of the real object.\\n\\n5. **Simplified Client Interface**: The client interacts with the proxy, which can provide a simplified interface or additional functionality compared to the real object.\\n\\n6. **Network Transparency**: In distributed systems, proxies can enable network transparency, allowing remote objects to be accessed as if they were local.\\n\\n### Cons:\\n\\n1. **Increased Complexity**: Introducing a proxy adds an additional layer, which can complicate the system’s architecture and make it harder to understand.\\n\\n2. **Performance Overhead**: Using a proxy can introduce additional performance overhead due to the extra layer of indirection, especially if the proxy performs additional processing or checks.\\n\\n3. **Potential for Misuse**: If not designed properly, proxies can lead to misuse or unintended behavior, especially if the additional functionality is not well-defined.\\n\\n4. **Tight Coupling with the Proxy**: If the client is tightly coupled with the proxy, changes to the proxy could necessitate changes in the client code.\\n\\n5. **Debugging Challenges**: Debugging can become more complicated with proxies, as it may be harder to trace the flow of control through multiple layers.\\n\\n6. **Increased Memory Usage**: If the proxy caches data or the real object itself is heavy, it could lead to increased memory consumption.\\n\\n### Conclusion\\n\\nThe Proxy design pattern is a powerful tool when used appropriately, providing many benefits such as controlled access, lazy initialization, and the ability to add extra functionality. However, it also introduces complexity and potential performance issues. Careful consideration of the system’s requirements and potential trade-offs is essential when deciding to implement this pattern.\", additional_kwargs={'refusal': None}, response_metadata={'token_usage': {'completion_tokens': 521, 'prompt_tokens': 42, 'total_tokens': 563, 'completion_tokens_details': {'accepted_prediction_tokens': 0, 'audio_tokens': 0, 'reasoning_tokens': 0, 'rejected_prediction_tokens': 0}, 'prompt_tokens_details': {'audio_tokens': 0, 'cached_tokens': 0}}, 'model_name': 'gpt-4o-mini-2024-07-18', 'system_fingerprint': 'fp_62a23a81ef', 'id': 'chatcmpl-C3Y6j9bYN3HlOVS9TrnGQEenh8mQn', 'service_tier': 'default', 'finish_reason': 'stop', 'logprobs': None}, id='run--382b2f16-6dd6-4dab-afdc-7d3707e0ec64-0', usage_metadata={'input_tokens': 42, 'output_tokens': 521, 'total_tokens': 563, 'input_token_details': {'audio': 0, 'cache_read': 0}, 'output_token_details': {'audio': 0, 'reasoning': 0}})],\n",
      " 'context': AIMessage(content=\"Yes, the Proxy design pattern can be combined with other design patterns to enhance functionality, manage complexity, or improve system architecture. Here are some examples of how the Proxy pattern can be combined with other design patterns:\\n\\n1. **Proxy and Decorator Pattern**:\\n   - **Example**: You can use a Proxy to control access to an object while also using a Decorator to add additional responsibilities or behaviors to that object. For instance, if you have a `LoggingProxy` that logs access to a service, you could also have a `CachingDecorator` that caches the results of the service calls to improve performance.\\n\\n2. **Proxy and Singleton Pattern**:\\n   - **Example**: A Proxy can be used to control access to a Singleton instance. For instance, if you have a `DatabaseConnection` that should only have one instance, you can use a Proxy that manages access to this instance, ensuring that it is created only once and that all access is routed through the Proxy.\\n\\n3. **Proxy and Factory Pattern**:\\n   - **Example**: Use a Factory to create Proxy objects instead of the real objects. This is useful in scenarios where you want to add a layer of abstraction, such as creating a Proxy for a remote service. The Factory can instantiate either the real object or its Proxy based on certain conditions, such as whether the application is running in a local or remote environment.\\n\\n4. **Proxy and Observer Pattern**:\\n   - **Example**: A Proxy can be used to monitor changes in a subject that it proxies. For example, if you have a `Subject` that sends notifications to observers, you could implement a Proxy that intercepts these notifications to log them or apply additional filtering before they are sent to the observers.\\n\\n5. **Proxy and Command Pattern**:\\n   - **Example**: You can use a Proxy to manage command execution. For instance, a `CommandProxy` might handle authentication or authorization before a command is executed. This way, the command's execution logic remains clean and focused, while the Proxy handles the pre-processing.\\n\\n6. **Proxy and Flyweight Pattern**:\\n   - **Example**: If you have a system where many objects are similar and require a lot of memory, you can use the Flyweight pattern to share common parts of the objects and a Proxy to manage their instantiation and access. The Proxy can check if a Flyweight instance already exists and return it instead of creating a new one.\\n\\n7. **Proxy and Strategy Pattern**:\\n   - **Example**: A Proxy can be used to select different strategies for a service at runtime. For instance, if you have a service that can process data in different ways depending on the user's preferences, a Proxy can encapsulate the logic for choosing the right strategy based on certain conditions.\\n\\nBy combining the Proxy pattern with other design patterns, you can create more flexible and maintainable systems, leveraging the strengths of each pattern to address specific challenges in your architecture.\", additional_kwargs={'refusal': None}, response_metadata={'token_usage': {'completion_tokens': 599, 'prompt_tokens': 53, 'total_tokens': 652, 'completion_tokens_details': {'accepted_prediction_tokens': 0, 'audio_tokens': 0, 'reasoning_tokens': 0, 'rejected_prediction_tokens': 0}, 'prompt_tokens_details': {'audio_tokens': 0, 'cached_tokens': 0}}, 'model_name': 'gpt-4o-mini-2024-07-18', 'system_fingerprint': 'fp_34a54ae93c', 'id': 'chatcmpl-C3Y6xn8DrudOVNwOnhWTgZZqEBIET', 'service_tier': 'default', 'finish_reason': 'stop', 'logprobs': None}, id='run--5a3685ef-6100-4b35-80f5-23ea547cf522-0', usage_metadata={'input_tokens': 53, 'output_tokens': 599, 'total_tokens': 652, 'input_token_details': {'audio': 0, 'cache_read': 0}, 'output_token_details': {'audio': 0, 'reasoning': 0}}),\n",
      " 'question': 'Can I combine the pattern with other patterns?'}\n"
     ]
    }
   ],
   "source": [
    "# How the whole result looks like\n",
    "pprint.pprint(result)"
   ]
  },
  {
   "cell_type": "markdown",
   "id": "9e5df46e",
   "metadata": {},
   "source": [
    "## Handling Few-shots"
   ]
  },
  {
   "cell_type": "code",
   "execution_count": 11,
   "id": "a463766d",
   "metadata": {},
   "outputs": [
    {
     "name": "stdout",
     "output_type": "stream",
     "text": [
      "Output: sad  \n",
      "Explanation: The antonym of \"happy\" is \"sad.\" While \"happy\" refers to a state of joy, contentment, or pleasure, \"sad\" describes a state of unhappiness, sorrow, or disappointment. These two words represent opposing emotional states.\n"
     ]
    }
   ],
   "source": [
    "zero_shot_prompt = PromptTemplate(\n",
    "    input_variables=['input'],\n",
    "    template=\"\"\"Return the antonym of the input given along with an explanation.\n",
    "    Input: {input}\n",
    "    Output:\n",
    "    Explanation:\n",
    "    \"\"\"\n",
    ")\n",
    "\n",
    "# Zero-shot chain\n",
    "zero_shot_chain = zero_shot_prompt | llm\n",
    "\n",
    "query = 'happy' # 'I am very sad but still have hope'\n",
    "result = zero_shot_chain.invoke(input=query)\n",
    "print(result.content)"
   ]
  },
  {
   "cell_type": "code",
   "execution_count": 12,
   "id": "e7305a69",
   "metadata": {},
   "outputs": [],
   "source": [
    "# Examples of a task for creating antonyms.\n",
    "example_prompt = PromptTemplate(\n",
    "    input_variables=[\"input\", \"output\"],\n",
    "    template=\"Input: {input}\\nOutput: {output}\",\n",
    ")\n",
    "\n",
    "examples = [\n",
    "    {\"input\": \"happy\", \"output\": \"sad\"},\n",
    "    {\"input\": \"tall\", \"output\": \"short\"},\n",
    "    {\"input\": \"energetic\", \"output\": \"lethargic\"},\n",
    "    {\"input\": \"sunny\", \"output\": \"gloomy\"},\n",
    "    {\"input\": \"windy\", \"output\": \"calm\"},\n",
    "]"
   ]
  },
  {
   "cell_type": "code",
   "execution_count": 13,
   "id": "a839c88c",
   "metadata": {},
   "outputs": [
    {
     "name": "stdout",
     "output_type": "stream",
     "text": [
      "Return the antonym of the given input along with an explanation. \n",
      "\n",
      "Example(s):\n",
      "\n",
      "Input: sunny\n",
      "Output: gloomy\n",
      "\n",
      "Input: rainy\n",
      "Output:\n"
     ]
    }
   ],
   "source": [
    "example_selector = SemanticSimilarityExampleSelector.from_examples(\n",
    "    # The list of examples available to select from.\n",
    "    examples,\n",
    "    # The embedding class used to produce embeddings which are used to measure semantic similarity.\n",
    "    OpenAIEmbeddings(),\n",
    "    Chroma, # The database to store the examples with their embeddings\n",
    "    # The number of examples to produce.\n",
    "    k=1,\n",
    ")\n",
    "\n",
    "similar_prompt = FewShotPromptTemplate(\n",
    "    # We provide an ExampleSelector instead of examples.\n",
    "    example_selector=example_selector,\n",
    "    example_prompt=example_prompt,\n",
    "    prefix=\"Return the antonym of the given input along with an explanation. \\n\\nExample(s):\",\n",
    "    suffix=\"Input: {adjective}\\nOutput:\",\n",
    "    input_variables=[\"adjective\"],\n",
    ")\n",
    "\n",
    "print(similar_prompt.format(adjective=\"rainy\"))\n"
   ]
  },
  {
   "cell_type": "markdown",
   "id": "def8f9b4",
   "metadata": {},
   "source": [
    "And let's use the new prompt in a chain"
   ]
  },
  {
   "cell_type": "code",
   "execution_count": 14,
   "id": "bb4ec565",
   "metadata": {},
   "outputs": [
    {
     "name": "stdout",
     "output_type": "stream",
     "text": [
      "Return the antonym of the given input along with an explanation. \n",
      "\n",
      "Example(s):\n",
      "\n",
      "Input: sunny\n",
      "Output: gloomy\n",
      "\n",
      "Input: rainy\n",
      "Output:\n",
      "\n",
      "Output: dry\n",
      "\n",
      "Explanation: The term \"rainy\" refers to weather conditions characterized by precipitation, specifically rain. The antonym \"dry\" describes conditions that lack moisture, particularly rain, indicating a lack of wetness or precipitation.\n"
     ]
    }
   ],
   "source": [
    "# Few-shot\n",
    "few_shot_chain = similar_prompt | llm\n",
    "\n",
    "query = 'rainy' # 'I am very sad but still have hope'\n",
    "print(similar_prompt.format(adjective=query))\n",
    "print()\n",
    "\n",
    "result = few_shot_chain.invoke(input=query)\n",
    "print(result.content)"
   ]
  },
  {
   "cell_type": "markdown",
   "id": "ed851dcd",
   "metadata": {},
   "source": [
    "We can ask an LLM to generate its response as a JSON object, using the Pydantic framework. \n",
    "\n",
    "For example, we can format the antonym output"
   ]
  },
  {
   "cell_type": "code",
   "execution_count": 15,
   "id": "c22ca2d6",
   "metadata": {},
   "outputs": [
    {
     "data": {
      "text/plain": [
       "FormattedAntonym(antonym='dry', explanation=\"The antonym 'dry' is used here as it contrasts with 'rainy', which indicates wet weather. 'Dry' suggests the absence of rain.\")"
      ]
     },
     "execution_count": 15,
     "metadata": {},
     "output_type": "execute_result"
    }
   ],
   "source": [
    "class FormattedAntonym(BaseModel):\n",
    "    antonym: str = Field(description=\"An antonym for the input word or phrase.\")\n",
    "    explanation: str = Field(description=\"A short explanation of how the antonym was generated\")\n",
    "\n",
    "\n",
    "llm_with_structure = llm.with_structured_output(FormattedAntonym)\n",
    "\n",
    "few_shot_chain1 = similar_prompt | llm_with_structure\n",
    "result = few_shot_chain1.invoke(input=query)\n",
    "result # The Pydantic (object) format"
   ]
  },
  {
   "cell_type": "code",
   "execution_count": 16,
   "id": "651e9c70",
   "metadata": {},
   "outputs": [
    {
     "name": "stdout",
     "output_type": "stream",
     "text": [
      "{\n",
      "  \"antonym\": \"dry\",\n",
      "  \"explanation\": \"The antonym 'dry' is used here as it contrasts with 'rainy', which indicates wet weather. 'Dry' suggests the absence of rain.\"\n",
      "}\n"
     ]
    }
   ],
   "source": [
    "print(result.model_dump_json(indent=2))\n",
    "# pprint.pprint(result.model_dump()) # This is a dict"
   ]
  },
  {
   "cell_type": "markdown",
   "id": "46ca44fb",
   "metadata": {},
   "source": [
    "---"
   ]
  }
 ],
 "metadata": {
  "kernelspec": {
   "display_name": "ia_desde_cero",
   "language": "python",
   "name": "python3"
  },
  "language_info": {
   "codemirror_mode": {
    "name": "ipython",
    "version": 3
   },
   "file_extension": ".py",
   "mimetype": "text/x-python",
   "name": "python",
   "nbconvert_exporter": "python",
   "pygments_lexer": "ipython3",
   "version": "3.11.13"
  }
 },
 "nbformat": 4,
 "nbformat_minor": 5
}
