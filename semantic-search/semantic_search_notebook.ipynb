{
 "cells": [
  {
   "cell_type": "markdown",
   "id": "169f05af",
   "metadata": {},
   "source": [
    "# Semantic Search with ChromaDB\n",
    "\n",
    "First, let's install all the required packages for our semantic search system."
   ]
  },
  {
   "cell_type": "code",
   "execution_count": 16,
   "id": "482c51f4",
   "metadata": {},
   "outputs": [
    {
     "name": "stdout",
     "output_type": "stream",
     "text": [
      "All packages installed successfully!\n"
     ]
    }
   ],
   "source": [
    "# Install required packages\n",
    "# %pip install chromadb pandas openai python-dotenv\n",
    "\n",
    "print(\"All packages installed successfully!\")"
   ]
  },
  {
   "cell_type": "markdown",
   "id": "b51057d3",
   "metadata": {},
   "source": [
    "## Import Required Libraries\n",
    "\n",
    "First, let's import all the necessary libraries for our semantic search system."
   ]
  },
  {
   "cell_type": "code",
   "execution_count": 17,
   "id": "3a43fb47",
   "metadata": {},
   "outputs": [],
   "source": [
    "import chromadb\n",
    "import pandas as pd\n",
    "import openai\n",
    "import os\n",
    "import json\n",
    "\n",
    "from pathlib import Path\n",
    "from chromadb.utils.embedding_functions import OpenAIEmbeddingFunction\n",
    "from dotenv import load_dotenv"
   ]
  },
  {
   "cell_type": "markdown",
   "id": "cd5da066",
   "metadata": {},
   "source": [
    "## Setup Environment and API Keys\n",
    "\n",
    "Load environment variables and set up the OpenAI API key.\n",
    "\n",
    "**Important:** You need to create a `.env` file in the same directory as this notebook with your OpenAI API key:\n",
    "\n",
    "```env\n",
    "OPENAI_API_KEY=your_api_key_here\n",
    "```"
   ]
  },
  {
   "cell_type": "code",
   "execution_count": 18,
   "id": "a3fbd451",
   "metadata": {},
   "outputs": [
    {
     "name": "stdout",
     "output_type": "stream",
     "text": [
      "✅ Environment setup complete!\n",
      "🔑 OpenAI API key loaded (ends with: ...co0A)\n",
      "🤖 Using embedding model: text-embedding-3-small\n"
     ]
    }
   ],
   "source": [
    "# Load environment variables from .env file\n",
    "load_dotenv()\n",
    "\n",
    "# Set up OpenAI API key\n",
    "try:\n",
    "    openai.api_key = os.environ[\"OPENAI_API_KEY\"]\n",
    "    EMBEDDING_MODEL = os.environ[\"OPENAI_EMBEDDINGS_MODEL\"] # \"text-embedding-ada-002\"\n",
    "    print(\"✅ Environment setup complete!\")\n",
    "    print(f\"🔑 OpenAI API key loaded (ends with: ...{openai.api_key[-4:]})\")\n",
    "    print(f\"🤖 Using embedding model: {EMBEDDING_MODEL}\")\n",
    "except KeyError:\n",
    "    print(\"❌ ERROR: OPENAI_API_KEY not found in environment variables!\")\n",
    "    print(\"\\n📝 To fix this:\")\n",
    "    print(\"1. Create a file named '.env' in the same directory as this notebook\")\n",
    "    print(\"2. Add this line to the .env file:\")\n",
    "    print(\"   OPENAI_API_KEY=your_actual_api_key_here\")\n",
    "    print(\"3. Replace 'your_actual_api_key_here' with your OpenAI API key\")\n",
    "    print(\"4. Restart the notebook kernel and run this cell again\")\n",
    "    raise"
   ]
  },
  {
   "cell_type": "markdown",
   "id": "2ffba9e1",
   "metadata": {},
   "source": [
    "## Define File Paths\n",
    "\n",
    "Set up the paths for our data files. We'll use the `dataset.json` file in the same directory as our data source."
   ]
  },
  {
   "cell_type": "code",
   "execution_count": 19,
   "id": "4ced7289",
   "metadata": {},
   "outputs": [
    {
     "name": "stdout",
     "output_type": "stream",
     "text": [
      "Data file: /Users/adiazpace/Documents/GitHub/ai-agents-desde-cero/semantic-search/dataset.json\n",
      "Database path: /Users/adiazpace/Documents/GitHub/ai-agents-desde-cero/semantic-search/chroma_db\n",
      "Data file exists: True\n"
     ]
    }
   ],
   "source": [
    "# Define paths relative to the current notebook location\n",
    "current_dir = Path.cwd()\n",
    "input_datapath = current_dir / \"dataset.json\"\n",
    "db_path = current_dir / \"chroma_db\"\n",
    "\n",
    "# Create database directory if it doesn't exist\n",
    "if not db_path.exists():\n",
    "    db_path.mkdir()\n",
    "\n",
    "print(f\"Data file: {input_datapath}\")\n",
    "print(f\"Database path: {db_path}\")\n",
    "print(f\"Data file exists: {input_datapath.exists()}\")"
   ]
  },
  {
   "cell_type": "markdown",
   "id": "1df4275d",
   "metadata": {},
   "source": [
    "## Load and Explore the Dataset\n",
    "\n",
    "Load the movie data from the JSON file and convert it to a pandas DataFrame for easier manipulation."
   ]
  },
  {
   "cell_type": "code",
   "execution_count": 20,
   "id": "c2c5cc4b",
   "metadata": {},
   "outputs": [
    {
     "name": "stdout",
     "output_type": "stream",
     "text": [
      "Dataset Information:\n",
      "Number of movies: 10\n",
      "Columns: ['title', 'release_date', 'genres', 'original_language', 'vote_average', 'overview', 'tagline', 'combined', 'n_tokens', 'embedding', 'id']\n"
     ]
    }
   ],
   "source": [
    "# Load JSON data into a DataFrame\n",
    "with open(input_datapath, 'r') as f:\n",
    "    movie_data = json.load(f)\n",
    "\n",
    "df = pd.DataFrame(movie_data)\n",
    "\n",
    "# Add an ID column based on the index\n",
    "df['id'] = df.index.astype(str)\n",
    "\n",
    "# Display basic information about the dataset\n",
    "print(\"Dataset Information:\")\n",
    "print(f\"Number of movies: {len(df)}\")\n",
    "print(f\"Columns: {list(df.columns)}\")"
   ]
  },
  {
   "cell_type": "markdown",
   "id": "48fed881",
   "metadata": {},
   "source": [
    "## Preview the Data\n",
    "\n",
    "Let's take a look at the first few rows to understand the structure of our data."
   ]
  },
  {
   "cell_type": "code",
   "execution_count": 21,
   "id": "50ce16b3",
   "metadata": {},
   "outputs": [
    {
     "name": "stdout",
     "output_type": "stream",
     "text": [
      "First 3 movies in the dataset:\n"
     ]
    },
    {
     "data": {
      "application/vnd.microsoft.datawrangler.viewer.v0+json": {
       "columns": [
        {
         "name": "index",
         "rawType": "int64",
         "type": "integer"
        },
        {
         "name": "title",
         "rawType": "object",
         "type": "string"
        },
        {
         "name": "release_date",
         "rawType": "object",
         "type": "string"
        },
        {
         "name": "genres",
         "rawType": "object",
         "type": "string"
        },
        {
         "name": "vote_average",
         "rawType": "float64",
         "type": "float"
        },
        {
         "name": "overview",
         "rawType": "object",
         "type": "string"
        }
       ],
       "ref": "45439d48-baef-4be0-9673-72a8b8c211f9",
       "rows": [
        [
         "0",
         "The Pope's Exorcist",
         "2023-04-05",
         "['Horror', 'Mystery', 'Thriller']",
         "7.4",
         "Father Gabriele Amorth, Chief Exorcist of the Vatican, investigates a young boy's terrifying possession and ends up uncovering a centuries-old conspiracy the Vatican has desperately tried to keep hidden."
        ],
        [
         "1",
         "Ant-Man and the Wasp: Quantumania",
         "2023-02-15",
         "['Action', 'Adventure', 'Science Fiction']",
         "6.6",
         "Super-Hero partners Scott Lang and Hope van Dyne, along with with Hope's parents Janet van Dyne and Hank Pym, and Scott's daughter Cassie Lang, find themselves exploring the Quantum Realm, interacting with strange new creatures and embarking on an adventure that will push them beyond the limits of what they thought possible."
        ],
        [
         "2",
         "Ghosted",
         "2023-04-18",
         "['Action', 'Comedy', 'Romance']",
         "7.2",
         "Salt-of-the-earth Cole falls head over heels for enigmatic Sadie — but then makes the shocking discovery that she’s a secret agent. Before they can decide on a second date, Cole and Sadie are swept away on an international adventure to save the world."
        ]
       ],
       "shape": {
        "columns": 5,
        "rows": 3
       }
      },
      "text/html": [
       "<div>\n",
       "<style scoped>\n",
       "    .dataframe tbody tr th:only-of-type {\n",
       "        vertical-align: middle;\n",
       "    }\n",
       "\n",
       "    .dataframe tbody tr th {\n",
       "        vertical-align: top;\n",
       "    }\n",
       "\n",
       "    .dataframe thead th {\n",
       "        text-align: right;\n",
       "    }\n",
       "</style>\n",
       "<table border=\"1\" class=\"dataframe\">\n",
       "  <thead>\n",
       "    <tr style=\"text-align: right;\">\n",
       "      <th></th>\n",
       "      <th>title</th>\n",
       "      <th>release_date</th>\n",
       "      <th>genres</th>\n",
       "      <th>vote_average</th>\n",
       "      <th>overview</th>\n",
       "    </tr>\n",
       "  </thead>\n",
       "  <tbody>\n",
       "    <tr>\n",
       "      <th>0</th>\n",
       "      <td>The Pope's Exorcist</td>\n",
       "      <td>2023-04-05</td>\n",
       "      <td>['Horror', 'Mystery', 'Thriller']</td>\n",
       "      <td>7.4</td>\n",
       "      <td>Father Gabriele Amorth, Chief Exorcist of the ...</td>\n",
       "    </tr>\n",
       "    <tr>\n",
       "      <th>1</th>\n",
       "      <td>Ant-Man and the Wasp: Quantumania</td>\n",
       "      <td>2023-02-15</td>\n",
       "      <td>['Action', 'Adventure', 'Science Fiction']</td>\n",
       "      <td>6.6</td>\n",
       "      <td>Super-Hero partners Scott Lang and Hope van Dy...</td>\n",
       "    </tr>\n",
       "    <tr>\n",
       "      <th>2</th>\n",
       "      <td>Ghosted</td>\n",
       "      <td>2023-04-18</td>\n",
       "      <td>['Action', 'Comedy', 'Romance']</td>\n",
       "      <td>7.2</td>\n",
       "      <td>Salt-of-the-earth Cole falls head over heels f...</td>\n",
       "    </tr>\n",
       "  </tbody>\n",
       "</table>\n",
       "</div>"
      ],
      "text/plain": [
       "                               title release_date  \\\n",
       "0                The Pope's Exorcist   2023-04-05   \n",
       "1  Ant-Man and the Wasp: Quantumania   2023-02-15   \n",
       "2                            Ghosted   2023-04-18   \n",
       "\n",
       "                                       genres  vote_average  \\\n",
       "0           ['Horror', 'Mystery', 'Thriller']           7.4   \n",
       "1  ['Action', 'Adventure', 'Science Fiction']           6.6   \n",
       "2             ['Action', 'Comedy', 'Romance']           7.2   \n",
       "\n",
       "                                            overview  \n",
       "0  Father Gabriele Amorth, Chief Exorcist of the ...  \n",
       "1  Super-Hero partners Scott Lang and Hope van Dy...  \n",
       "2  Salt-of-the-earth Cole falls head over heels f...  "
      ]
     },
     "metadata": {},
     "output_type": "display_data"
    },
    {
     "name": "stdout",
     "output_type": "stream",
     "text": [
      "\n",
      "Embedding dimensions: 1536\n",
      "Embeddings are already calculated and available!\n"
     ]
    }
   ],
   "source": [
    "# Display the first few rows\n",
    "print(\"First 3 movies in the dataset:\")\n",
    "display(df[['title', 'release_date', 'genres', 'vote_average', 'overview']].head(3))\n",
    "\n",
    "# Check if embeddings are present\n",
    "if 'embedding' in df.columns:\n",
    "    print(f\"\\nEmbedding dimensions: {len(df['embedding'].iloc[0])}\")\n",
    "    print(\"Embeddings are already calculated and available!\")\n",
    "else:\n",
    "    print(\"\\nNo embeddings found in the dataset.\")"
   ]
  },
  {
   "cell_type": "markdown",
   "id": "321de5cf",
   "metadata": {},
   "source": [
    "## Initialize ChromaDB\n",
    "\n",
    "Set up the ChromaDB client and create or get the collection for storing our movie embeddings."
   ]
  },
  {
   "cell_type": "code",
   "execution_count": 22,
   "id": "cd722937",
   "metadata": {},
   "outputs": [
    {
     "name": "stdout",
     "output_type": "stream",
     "text": [
      "ChromaDB client initialized successfully!\n"
     ]
    }
   ],
   "source": [
    "# Initialize ChromaDB client\n",
    "chroma_client = chromadb.PersistentClient(path=str(db_path))\n",
    "\n",
    "# Create embedding function\n",
    "embedding_function = OpenAIEmbeddingFunction(\n",
    "    api_key=openai.api_key, \n",
    "    model_name=EMBEDDING_MODEL\n",
    ")\n",
    "\n",
    "print(\"ChromaDB client initialized successfully!\")"
   ]
  },
  {
   "cell_type": "markdown",
   "id": "088d30c6",
   "metadata": {},
   "source": [
    "## Create or Load Collection\n",
    "\n",
    "Create a new collection or load an existing one. If the collection doesn't exist, we'll create it and populate it with our movie data."
   ]
  },
  {
   "cell_type": "code",
   "execution_count": 23,
   "id": "d3743ae9",
   "metadata": {},
   "outputs": [
    {
     "name": "stdout",
     "output_type": "stream",
     "text": [
      "Loaded existing collection 'movies'\n",
      "Collection count: 10\n"
     ]
    }
   ],
   "source": [
    "# Try to get existing collection, create if it doesn't exist\n",
    "collection_name = \"movies\"\n",
    "\n",
    "try:\n",
    "    movies_collection = chroma_client.get_collection(\n",
    "        name=collection_name, \n",
    "        embedding_function=embedding_function\n",
    "    )\n",
    "    print(f\"Loaded existing collection '{collection_name}'\")\n",
    "    print(f\"Collection count: {movies_collection.count()}\")\n",
    "    \n",
    "except (ValueError, Exception):  # Catch both ValueError and NotFoundError\n",
    "    # Collection doesn't exist, create it\n",
    "    movies_collection = chroma_client.create_collection(\n",
    "        name=collection_name, \n",
    "        embedding_function=embedding_function\n",
    "    )\n",
    "    print(f\"Created new collection '{collection_name}'\")\n",
    "    \n",
    "    # Prepare metadata for each movie\n",
    "    metadatas = []\n",
    "    for _, row in df.iterrows():\n",
    "        metadata = {\n",
    "            'title': row['title'],\n",
    "            'release_date': row['release_date'],\n",
    "            'genres': row['genres'],\n",
    "            'vote_average': row['vote_average'],\n",
    "            'overview': row['overview']\n",
    "        }\n",
    "        metadatas.append(metadata)\n",
    "    \n",
    "    # Add the movie data to the collection with embeddings and metadata\n",
    "    print(\"Adding pre-calculated embeddings and metadata to the collection...\")\n",
    "    movies_collection.add(\n",
    "        ids=df.id.astype(str).tolist(),  # ChromaDB requires string IDs\n",
    "        embeddings=df.embedding.tolist(),\n",
    "        metadatas=metadatas\n",
    "    )\n",
    "    \n",
    "    print(f\"Successfully added {len(df)} movies to the collection!\")\n",
    "    print(f\"Collection count: {movies_collection.count()}\")"
   ]
  },
  {
   "cell_type": "markdown",
   "id": "38de1556",
   "metadata": {},
   "source": [
    "## Define Search Function\n",
    "\n",
    "Create a function to query the collection and return relevant movies based on semantic similarity."
   ]
  },
  {
   "cell_type": "code",
   "execution_count": 24,
   "id": "29e70d95",
   "metadata": {},
   "outputs": [
    {
     "name": "stdout",
     "output_type": "stream",
     "text": [
      "Search functions defined successfully!\n"
     ]
    }
   ],
   "source": [
    "def query_collection(collection, query, max_results=10, dataframe=None):\n",
    "    \"\"\"\n",
    "    Query the ChromaDB collection for similar movies.\n",
    "    \n",
    "    Args:\n",
    "        collection: ChromaDB collection object\n",
    "        query: Search query string\n",
    "        max_results: Maximum number of results to return\n",
    "        dataframe: Optional DataFrame to get additional movie details\n",
    "    \n",
    "    Returns:\n",
    "        Search results with movie information\n",
    "    \"\"\"\n",
    "    # Perform the search\n",
    "    search_results = collection.query(\n",
    "        query_texts=[query],\n",
    "        n_results=max_results,\n",
    "        include=['distances', 'metadatas']\n",
    "    )\n",
    "    \n",
    "    # If dataframe is provided, get additional details\n",
    "    if dataframe is not None:\n",
    "        result_ids = search_results['ids'][0]\n",
    "        movies_df = dataframe[dataframe['id'].isin(result_ids)]\n",
    "        return movies_df\n",
    "    \n",
    "    return search_results\n",
    "\n",
    "def display_search_results(results, query, max_display=5):\n",
    "    \"\"\"\n",
    "    Display search results in a formatted way.\n",
    "    \"\"\"\n",
    "    print(f\"\\n🔍 Search Results for: '{query}'\")\n",
    "    print(\"=\" * 50)\n",
    "    \n",
    "    if isinstance(results, pd.DataFrame) and not results.empty:\n",
    "        for idx, (_, movie) in enumerate(results.head(max_display).iterrows()):\n",
    "            print(f\"\\n{idx + 1}. {movie['title']} ({movie['release_date'][:4] if 'release_date' in movie else 'N/A'})\")\n",
    "            print(f\"   Rating: ⭐ {movie.get('vote_average', 'N/A')}/10\")\n",
    "            print(f\"   Genres: {movie.get('genres', 'N/A')}\")\n",
    "            if 'overview' in movie:\n",
    "                overview = movie['overview'][:150] + \"...\" if len(movie['overview']) > 150 else movie['overview']\n",
    "                print(f\"   Plot: {overview}\")\n",
    "    else:\n",
    "        print(\"No results found.\")\n",
    "\n",
    "print(\"Search functions defined successfully!\")"
   ]
  },
  {
   "cell_type": "markdown",
   "id": "d6b18c8c",
   "metadata": {},
   "source": [
    "## Test the Semantic Search\n",
    "\n",
    "Let's test our semantic search system with some example queries."
   ]
  },
  {
   "cell_type": "code",
   "execution_count": 25,
   "id": "a7578575",
   "metadata": {},
   "outputs": [
    {
     "name": "stdout",
     "output_type": "stream",
     "text": [
      "🎬 Testing Semantic Search System\n",
      "========================================\n",
      "\n",
      "🔍 Search Results for: 'superhero adventure'\n",
      "==================================================\n",
      "\n",
      "1. Avatar: The Way of Water (2022)\n",
      "   Rating: ⭐ 7.7/10\n",
      "   Genres: ['Science Fiction', 'Adventure', 'Action']\n",
      "   Plot: Set more than a decade after the events of the first film, learn the story of the Sully family (Jake, Neytiri, and their kids), the trouble that follo...\n",
      "\n",
      "2. Guardians of the Galaxy Volume 3 (2023)\n",
      "   Rating: ⭐ 8.3/10\n",
      "   Genres: ['Science Fiction', 'Adventure', 'Action']\n",
      "   Plot: Peter Quill, still reeling from the loss of Gamora, must rally his team around him to defend the universe along with protecting one of their own. A mi...\n",
      "\n",
      "3. Creed III (2023)\n",
      "   Rating: ⭐ 7.3/10\n",
      "   Genres: ['Drama', 'Action']\n",
      "   Plot: After dominating the boxing world, Adonis Creed has been thriving in both his career and family life. When a childhood friend and former boxing prodig...\n",
      "\n",
      "----------------------------------------\n",
      "\n",
      "🔍 Search Results for: 'horror movie'\n",
      "==================================================\n",
      "\n",
      "1. Ant-Man and the Wasp: Quantumania (2023)\n",
      "   Rating: ⭐ 6.6/10\n",
      "   Genres: ['Action', 'Adventure', 'Science Fiction']\n",
      "   Plot: Super-Hero partners Scott Lang and Hope van Dyne, along with with Hope's parents Janet van Dyne and Hank Pym, and Scott's daughter Cassie Lang, find t...\n",
      "\n",
      "2. Ghosted (2023)\n",
      "   Rating: ⭐ 7.2/10\n",
      "   Genres: ['Action', 'Comedy', 'Romance']\n",
      "   Plot: Salt-of-the-earth Cole falls head over heels for enigmatic Sadie — but then makes the shocking discovery that she’s a secret agent. Before they can de...\n",
      "\n",
      "3. Creed III (2023)\n",
      "   Rating: ⭐ 7.3/10\n",
      "   Genres: ['Drama', 'Action']\n",
      "   Plot: After dominating the boxing world, Adonis Creed has been thriving in both his career and family life. When a childhood friend and former boxing prodig...\n",
      "\n",
      "----------------------------------------\n",
      "\n",
      "🔍 Search Results for: 'family fantasy film'\n",
      "==================================================\n",
      "\n",
      "1. Ant-Man and the Wasp: Quantumania (2023)\n",
      "   Rating: ⭐ 6.6/10\n",
      "   Genres: ['Action', 'Adventure', 'Science Fiction']\n",
      "   Plot: Super-Hero partners Scott Lang and Hope van Dyne, along with with Hope's parents Janet van Dyne and Hank Pym, and Scott's daughter Cassie Lang, find t...\n",
      "\n",
      "2. Avatar: The Way of Water (2022)\n",
      "   Rating: ⭐ 7.7/10\n",
      "   Genres: ['Science Fiction', 'Adventure', 'Action']\n",
      "   Plot: Set more than a decade after the events of the first film, learn the story of the Sully family (Jake, Neytiri, and their kids), the trouble that follo...\n",
      "\n",
      "3. Creed III (2023)\n",
      "   Rating: ⭐ 7.3/10\n",
      "   Genres: ['Drama', 'Action']\n",
      "   Plot: After dominating the boxing world, Adonis Creed has been thriving in both his career and family life. When a childhood friend and former boxing prodig...\n",
      "\n",
      "----------------------------------------\n",
      "\n",
      "🔍 Search Results for: 'action thriller'\n",
      "==================================================\n",
      "\n",
      "1. The Pope's Exorcist (2023)\n",
      "   Rating: ⭐ 7.4/10\n",
      "   Genres: ['Horror', 'Mystery', 'Thriller']\n",
      "   Plot: Father Gabriele Amorth, Chief Exorcist of the Vatican, investigates a young boy's terrifying possession and ends up uncovering a centuries-old conspir...\n",
      "\n",
      "2. Ant-Man and the Wasp: Quantumania (2023)\n",
      "   Rating: ⭐ 6.6/10\n",
      "   Genres: ['Action', 'Adventure', 'Science Fiction']\n",
      "   Plot: Super-Hero partners Scott Lang and Hope van Dyne, along with with Hope's parents Janet van Dyne and Hank Pym, and Scott's daughter Cassie Lang, find t...\n",
      "\n",
      "3. Shazam! Fury of the Gods (2023)\n",
      "   Rating: ⭐ 6.8/10\n",
      "   Genres: ['Action', 'Comedy', 'Fantasy', 'Adventure']\n",
      "   Plot: Billy Batson and his foster siblings, who transform into superheroes by saying \"Shazam!\", are forced to get back into action and fight the Daughters o...\n",
      "\n",
      "----------------------------------------\n"
     ]
    }
   ],
   "source": [
    "# Test queries\n",
    "test_queries = [\n",
    "    \"superhero adventure\",\n",
    "    \"horror movie\",\n",
    "    \"family fantasy film\",\n",
    "    \"action thriller\"\n",
    "]\n",
    "\n",
    "print(\"🎬 Testing Semantic Search System\")\n",
    "print(\"=\" * 40)\n",
    "\n",
    "for query in test_queries:\n",
    "    results = query_collection(movies_collection, query, max_results=3, dataframe=df)\n",
    "    display_search_results(results, query, max_display=3)\n",
    "    print(\"\\n\" + \"-\" * 40)"
   ]
  },
  {
   "cell_type": "markdown",
   "id": "40409578",
   "metadata": {},
   "source": [
    "## Interactive Search\n",
    "\n",
    "Now you can perform your own searches! Try different queries to see how the semantic search works."
   ]
  },
  {
   "cell_type": "code",
   "execution_count": 26,
   "id": "e3d17e7c",
   "metadata": {},
   "outputs": [
    {
     "name": "stdout",
     "output_type": "stream",
     "text": [
      "\n",
      "🔍 Search Results for: 'magical adventure with children'\n",
      "==================================================\n",
      "\n",
      "1. Ant-Man and the Wasp: Quantumania (2023)\n",
      "   Rating: ⭐ 6.6/10\n",
      "   Genres: ['Action', 'Adventure', 'Science Fiction']\n",
      "   Plot: Super-Hero partners Scott Lang and Hope van Dyne, along with with Hope's parents Janet van Dyne and Hank Pym, and Scott's daughter Cassie Lang, find t...\n",
      "\n",
      "2. Avatar: The Way of Water (2022)\n",
      "   Rating: ⭐ 7.7/10\n",
      "   Genres: ['Science Fiction', 'Adventure', 'Action']\n",
      "   Plot: Set more than a decade after the events of the first film, learn the story of the Sully family (Jake, Neytiri, and their kids), the trouble that follo...\n",
      "\n",
      "3. Guardians of the Galaxy Volume 3 (2023)\n",
      "   Rating: ⭐ 8.3/10\n",
      "   Genres: ['Science Fiction', 'Adventure', 'Action']\n",
      "   Plot: Peter Quill, still reeling from the loss of Gamora, must rally his team around him to defend the universe along with protecting one of their own. A mi...\n",
      "\n",
      "4. Creed III (2023)\n",
      "   Rating: ⭐ 7.3/10\n",
      "   Genres: ['Drama', 'Action']\n",
      "   Plot: After dominating the boxing world, Adonis Creed has been thriving in both his career and family life. When a childhood friend and former boxing prodig...\n",
      "\n",
      "5. Peter Pan & Wendy (2023)\n",
      "   Rating: ⭐ 5.9/10\n",
      "   Genres: ['Family', 'Fantasy', 'Action', 'Adventure']\n",
      "   Plot: Wendy Darling, a young girl afraid to leave her childhood home behind, meets Peter Pan, a boy who refuses to grow up. Alongside her brothers and a tin...\n"
     ]
    }
   ],
   "source": [
    "# Interactive search cell\n",
    "# Modify the query below to search for different types of movies\n",
    "\n",
    "user_query = \"magical adventure with children\"  # Change this to your desired search\n",
    "num_results = 5  # Change this to get more or fewer results\n",
    "\n",
    "search_results = query_collection(movies_collection, user_query, max_results=num_results, dataframe=df)\n",
    "display_search_results(search_results, user_query, max_display=num_results)"
   ]
  },
  {
   "cell_type": "markdown",
   "id": "3726d9b2",
   "metadata": {},
   "source": [
    "## Advanced Search Analysis\n",
    "\n",
    "Let's analyze the search results in more detail, including similarity scores."
   ]
  },
  {
   "cell_type": "code",
   "execution_count": 27,
   "id": "da226254",
   "metadata": {},
   "outputs": [],
   "source": [
    "def detailed_search_analysis(collection, query, max_results=5):\n",
    "    \"\"\"\n",
    "    Perform a detailed search analysis including similarity scores.\n",
    "    \"\"\"\n",
    "    results = collection.query(\n",
    "        query_texts=[query],\n",
    "        n_results=max_results,\n",
    "        include=['distances', 'metadatas', 'documents']\n",
    "    )\n",
    "    \n",
    "    print(f\"\\n📊 Detailed Analysis for: '{query}'\")\n",
    "    print(\"=\" * 60)\n",
    "    \n",
    "    for i, (movie_id, distance, metadata) in enumerate(zip(\n",
    "        results['ids'][0], \n",
    "        results['distances'][0], \n",
    "        results['metadatas'][0]\n",
    "    )):\n",
    "        similarity_score = 1 - distance  # Convert distance to similarity\n",
    "        \n",
    "        # Handle case where metadata might be None\n",
    "        if metadata is None:\n",
    "            # Fallback to using the DataFrame\n",
    "            movie_row = df[df['id'] == movie_id].iloc[0]\n",
    "            title = movie_row['title']\n",
    "            rating = movie_row['vote_average']\n",
    "            genres = movie_row['genres']\n",
    "            overview = movie_row['overview']\n",
    "        else:\n",
    "            title = metadata.get('title', 'Unknown')\n",
    "            rating = metadata.get('vote_average', 'N/A')\n",
    "            genres = metadata.get('genres', 'N/A')\n",
    "            overview = metadata.get('overview', '')\n",
    "        \n",
    "        print(f\"\\n{i + 1}. {title}\")\n",
    "        print(f\"   Similarity: {similarity_score:.3f} (Distance: {distance:.3f})\")\n",
    "        print(f\"   Rating: ⭐ {rating}/10\")\n",
    "        print(f\"   Genres: {genres}\")\n",
    "        if overview:\n",
    "            overview_short = overview[:120] + \"...\" if len(overview) > 120 else overview\n",
    "            print(f\"   Plot: {overview_short}\")"
   ]
  },
  {
   "cell_type": "code",
   "execution_count": 28,
   "id": "713283a3",
   "metadata": {},
   "outputs": [
    {
     "name": "stdout",
     "output_type": "stream",
     "text": [
      "\n",
      "📊 Detailed Analysis for: 'science fiction space adventure'\n",
      "============================================================\n",
      "\n",
      "1. Avatar: The Way of Water\n",
      "   Similarity: -0.881 (Distance: 1.881)\n",
      "   Rating: ⭐ 7.7/10\n",
      "   Genres: ['Science Fiction', 'Adventure', 'Action']\n",
      "   Plot: Set more than a decade after the events of the first film, learn the story of the Sully family (Jake, Neytiri, and their...\n",
      "\n",
      "2. Scream VI\n",
      "   Similarity: -0.921 (Distance: 1.921)\n",
      "   Rating: ⭐ 7.3/10\n",
      "   Genres: ['Horror', 'Mystery', 'Thriller']\n",
      "   Plot: Following the latest Ghostface killings, the four survivors leave Woodsboro behind and start a fresh chapter.\n",
      "\n",
      "3. Guardians of the Galaxy Volume 3\n",
      "   Similarity: -0.924 (Distance: 1.924)\n",
      "   Rating: ⭐ 8.3/10\n",
      "   Genres: ['Science Fiction', 'Adventure', 'Action']\n",
      "   Plot: Peter Quill, still reeling from the loss of Gamora, must rally his team around him to defend the universe along with pro...\n"
     ]
    }
   ],
   "source": [
    "# Example detailed analysis\n",
    "analysis_query = \"science fiction space adventure\"\n",
    "detailed_search_analysis(movies_collection, analysis_query, max_results=3)"
   ]
  },
  {
   "cell_type": "markdown",
   "id": "0aafeb1f",
   "metadata": {},
   "source": [
    "## Collection Statistics\n",
    "\n",
    "Let's examine some statistics about our movie collection."
   ]
  },
  {
   "cell_type": "code",
   "execution_count": 29,
   "id": "e9be5ad3",
   "metadata": {},
   "outputs": [
    {
     "name": "stdout",
     "output_type": "stream",
     "text": [
      "📈 Collection Statistics\n",
      "==============================\n",
      "Total movies in collection: 10\n",
      "Total movies in DataFrame: 10\n",
      "\n",
      "🎭 Genre Analysis:\n",
      "Action             7\n",
      "Adventure          6\n",
      "Science Fiction    3\n",
      "Comedy             3\n",
      "Fantasy            3\n",
      "Horror             2\n",
      "Mystery            2\n",
      "Thriller           2\n",
      "Romance            1\n",
      "Drama              1\n",
      "Name: count, dtype: int64\n",
      "\n",
      "⭐ Rating Statistics:\n",
      "Average rating: 7.20\n",
      "Highest rated: 8.3\n",
      "Lowest rated: 5.9\n",
      "\n",
      "🏆 Top 3 Highest Rated Movies:\n",
      "   Guardians of the Galaxy Volume 3 - ⭐ 8.3/10 (2023)\n",
      "   Avatar: The Way of Water - ⭐ 7.7/10 (2022)\n",
      "   Dungeons & Dragons: Honor Among Thieves - ⭐ 7.5/10 (2023)\n"
     ]
    }
   ],
   "source": [
    "# Collection statistics\n",
    "print(\"📈 Collection Statistics\")\n",
    "print(\"=\" * 30)\n",
    "print(f\"Total movies in collection: {movies_collection.count()}\")\n",
    "print(f\"Total movies in DataFrame: {len(df)}\")\n",
    "\n",
    "if not df.empty:\n",
    "    print(f\"\\n🎭 Genre Analysis:\")\n",
    "    # Extract unique genres (this is simplified - you might want to parse the genre strings more carefully)\n",
    "    all_genres = []\n",
    "    for genres in df['genres']:\n",
    "        if isinstance(genres, str):\n",
    "            # Remove brackets and quotes, split by comma\n",
    "            clean_genres = genres.strip(\"[]\").replace(\"'\", \"\").split(\", \")\n",
    "            all_genres.extend(clean_genres)\n",
    "    \n",
    "    genre_counts = pd.Series(all_genres).value_counts().head(10)\n",
    "    print(genre_counts)\n",
    "    \n",
    "    print(f\"\\n⭐ Rating Statistics:\")\n",
    "    if 'vote_average' in df.columns:\n",
    "        print(f\"Average rating: {df['vote_average'].mean():.2f}\")\n",
    "        print(f\"Highest rated: {df['vote_average'].max():.1f}\")\n",
    "        print(f\"Lowest rated: {df['vote_average'].min():.1f}\")\n",
    "        \n",
    "        # Show top rated movies\n",
    "        print(f\"\\n🏆 Top 3 Highest Rated Movies:\")\n",
    "        top_movies = df.nlargest(3, 'vote_average')[['title', 'vote_average', 'release_date']]\n",
    "        for _, movie in top_movies.iterrows():\n",
    "            print(f\"   {movie['title']} - ⭐ {movie['vote_average']}/10 ({movie['release_date'][:4] if movie['release_date'] else 'N/A'})\")"
   ]
  },
  {
   "cell_type": "markdown",
   "id": "7e06cce9",
   "metadata": {},
   "source": [
    "## Cleanup and Summary\n",
    "\n",
    "Summary of what we've accomplished in this notebook."
   ]
  },
  {
   "cell_type": "code",
   "execution_count": 30,
   "id": "5678ae8b",
   "metadata": {},
   "outputs": [
    {
     "name": "stdout",
     "output_type": "stream",
     "text": [
      "✅ Semantic Search System Summary\n",
      "========================================\n",
      "1. ✓ Loaded movie data from dataset.json\n",
      "2. ✓ Set up ChromaDB with persistent storage\n",
      "3. ✓ Created/loaded movie collection with embeddings\n",
      "4. ✓ Implemented semantic search functionality\n",
      "5. ✓ Tested search with various queries\n",
      "6. ✓ Analyzed search results and collection statistics\n",
      "\n",
      "📊 Final Stats:\n",
      "   Movies in collection: 10\n",
      "   Database location: /Users/adiazpace/Documents/GitHub/ai-agents-desde-cero/semantic-search/chroma_db\n",
      "   Embedding model: text-embedding-3-small\n",
      "\n",
      "🎯 You can now search for movies using natural language queries!\n",
      "   Try queries like: 'romantic comedy', 'dark thriller', 'family adventure', etc.\n"
     ]
    }
   ],
   "source": [
    "print(\"✅ Semantic Search System Summary\")\n",
    "print(\"=\" * 40)\n",
    "print(\"1. ✓ Loaded movie data from dataset.json\")\n",
    "print(\"2. ✓ Set up ChromaDB with persistent storage\")\n",
    "print(\"3. ✓ Created/loaded movie collection with embeddings\")\n",
    "print(\"4. ✓ Implemented semantic search functionality\")\n",
    "print(\"5. ✓ Tested search with various queries\")\n",
    "print(\"6. ✓ Analyzed search results and collection statistics\")\n",
    "\n",
    "print(f\"\\n📊 Final Stats:\")\n",
    "print(f\"   Movies in collection: {movies_collection.count()}\")\n",
    "print(f\"   Database location: {db_path}\")\n",
    "print(f\"   Embedding model: {EMBEDDING_MODEL}\")\n",
    "\n",
    "print(\"\\n🎯 You can now search for movies using natural language queries!\")\n",
    "print(\"   Try queries like: 'romantic comedy', 'dark thriller', 'family adventure', etc.\")"
   ]
  }
 ],
 "metadata": {
  "kernelspec": {
   "display_name": "ia_desde_cero",
   "language": "python",
   "name": "python3"
  },
  "language_info": {
   "codemirror_mode": {
    "name": "ipython",
    "version": 3
   },
   "file_extension": ".py",
   "mimetype": "text/x-python",
   "name": "python",
   "nbconvert_exporter": "python",
   "pygments_lexer": "ipython3",
   "version": "3.11.13"
  }
 },
 "nbformat": 4,
 "nbformat_minor": 5
}
