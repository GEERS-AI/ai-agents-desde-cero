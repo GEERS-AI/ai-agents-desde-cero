{
 "cells": [
  {
   "cell_type": "markdown",
   "id": "dd3e5b53",
   "metadata": {},
   "source": [
    "# OpenAI Tool Call\n",
    "\n",
    "For more information: https://platform.openai.com/docs/guides/function-calling\n"
   ]
  },
  {
   "cell_type": "code",
   "execution_count": 1,
   "id": "298dae1f",
   "metadata": {},
   "outputs": [
    {
     "name": "stdout",
     "output_type": "stream",
     "text": [
      "Requirement already satisfied: pydantic in /Users/facunesh/Projects/geers-ai-olavarria/.venv/lib/python3.12/site-packages (2.11.7)\n",
      "Requirement already satisfied: openai in /Users/facunesh/Projects/geers-ai-olavarria/.venv/lib/python3.12/site-packages (1.99.9)\n",
      "Requirement already satisfied: python-dotenv in /Users/facunesh/Projects/geers-ai-olavarria/.venv/lib/python3.12/site-packages (1.1.1)\n",
      "Requirement already satisfied: annotated-types>=0.6.0 in /Users/facunesh/Projects/geers-ai-olavarria/.venv/lib/python3.12/site-packages (from pydantic) (0.7.0)\n",
      "Requirement already satisfied: pydantic-core==2.33.2 in /Users/facunesh/Projects/geers-ai-olavarria/.venv/lib/python3.12/site-packages (from pydantic) (2.33.2)\n",
      "Requirement already satisfied: typing-extensions>=4.12.2 in /Users/facunesh/Projects/geers-ai-olavarria/.venv/lib/python3.12/site-packages (from pydantic) (4.14.1)\n",
      "Requirement already satisfied: typing-inspection>=0.4.0 in /Users/facunesh/Projects/geers-ai-olavarria/.venv/lib/python3.12/site-packages (from pydantic) (0.4.1)\n",
      "Requirement already satisfied: anyio<5,>=3.5.0 in /Users/facunesh/Projects/geers-ai-olavarria/.venv/lib/python3.12/site-packages (from openai) (4.10.0)\n",
      "Requirement already satisfied: distro<2,>=1.7.0 in /Users/facunesh/Projects/geers-ai-olavarria/.venv/lib/python3.12/site-packages (from openai) (1.9.0)\n",
      "Requirement already satisfied: httpx<1,>=0.23.0 in /Users/facunesh/Projects/geers-ai-olavarria/.venv/lib/python3.12/site-packages (from openai) (0.28.1)\n",
      "Requirement already satisfied: jiter<1,>=0.4.0 in /Users/facunesh/Projects/geers-ai-olavarria/.venv/lib/python3.12/site-packages (from openai) (0.10.0)\n",
      "Requirement already satisfied: sniffio in /Users/facunesh/Projects/geers-ai-olavarria/.venv/lib/python3.12/site-packages (from openai) (1.3.1)\n",
      "Requirement already satisfied: tqdm>4 in /Users/facunesh/Projects/geers-ai-olavarria/.venv/lib/python3.12/site-packages (from openai) (4.67.1)\n",
      "Requirement already satisfied: idna>=2.8 in /Users/facunesh/Projects/geers-ai-olavarria/.venv/lib/python3.12/site-packages (from anyio<5,>=3.5.0->openai) (3.10)\n",
      "Requirement already satisfied: certifi in /Users/facunesh/Projects/geers-ai-olavarria/.venv/lib/python3.12/site-packages (from httpx<1,>=0.23.0->openai) (2025.7.14)\n",
      "Requirement already satisfied: httpcore==1.* in /Users/facunesh/Projects/geers-ai-olavarria/.venv/lib/python3.12/site-packages (from httpx<1,>=0.23.0->openai) (1.0.9)\n",
      "Requirement already satisfied: h11>=0.16 in /Users/facunesh/Projects/geers-ai-olavarria/.venv/lib/python3.12/site-packages (from httpcore==1.*->httpx<1,>=0.23.0->openai) (0.16.0)\n",
      "Note: you may need to restart the kernel to use updated packages.\n"
     ]
    }
   ],
   "source": [
    "%pip install pydantic openai python-dotenv"
   ]
  },
  {
   "cell_type": "code",
   "execution_count": 2,
   "id": "05ae5628",
   "metadata": {},
   "outputs": [
    {
     "data": {
      "text/plain": [
       "True"
      ]
     },
     "execution_count": 2,
     "metadata": {},
     "output_type": "execute_result"
    }
   ],
   "source": [
    "from dotenv import load_dotenv\n",
    "\n",
    "load_dotenv()"
   ]
  },
  {
   "cell_type": "code",
   "execution_count": 3,
   "id": "8bd92e4d",
   "metadata": {},
   "outputs": [],
   "source": [
    "def get_weather(location: str) -> str:\n",
    "    \"\"\"\n",
    "    Generate a weather message for a given location.\n",
    "\n",
    "    Args:\n",
    "        location (str): The location for which to generate the weather report.\n",
    "\n",
    "    Returns:\n",
    "        str: A weather message for the specified location.\n",
    "    \"\"\"\n",
    "    return f\"The weather in {location} is sunny with a chance of clouds.\""
   ]
  },
  {
   "cell_type": "code",
   "execution_count": 4,
   "id": "cdc23462",
   "metadata": {},
   "outputs": [],
   "source": [
    "tools = [\n",
    "    {\n",
    "        \"type\": \"function\",\n",
    "        \"function\": {\n",
    "            \"name\": \"get_weather\",\n",
    "            \"description\": \"Generate a weather message for a given location.\",\n",
    "            \"parameters\": {\n",
    "                \"type\": \"object\",\n",
    "                \"properties\": {\n",
    "                    \"location\": {\n",
    "                        \"type\": \"string\",\n",
    "                        \"description\": \"The location for which to generate the weather report.\",\n",
    "                    },\n",
    "                },\n",
    "                \"required\": [\"location\"],\n",
    "            },\n",
    "        },\n",
    "    },\n",
    "]"
   ]
  },
  {
   "cell_type": "code",
   "execution_count": 5,
   "id": "3e07a833",
   "metadata": {},
   "outputs": [],
   "source": [
    "from openai import OpenAI\n",
    "\n",
    "client = OpenAI()\n",
    "\n",
    "SYSTEM_PROMPT = \"\"\"\n",
    "You report the weather of a given location using emojis. \n",
    "\n",
    "Use the following format for your answers:\n",
    "1. Tandil: ☀️ - 🌡\n",
    "2. London: ️🌧️ - ❄️\n",
    "\"\"\"\n",
    "\n",
    "messages = [\n",
    "  {\"role\": \"system\", \"content\": SYSTEM_PROMPT},\n",
    "  {\"role\": \"user\", \"content\": \"What's the weather like in Paris today?\"}\n",
    "]\n",
    "\n",
    "completion = client.chat.completions.create(\n",
    "    model=\"gpt-4.1-nano\",\n",
    "    messages=messages,\n",
    "    tools=tools\n",
    ")"
   ]
  },
  {
   "cell_type": "code",
   "execution_count": 6,
   "id": "3c53de5e",
   "metadata": {},
   "outputs": [
    {
     "name": "stdout",
     "output_type": "stream",
     "text": [
      "[Choice(finish_reason='tool_calls', index=0, logprobs=None, message=ChatCompletionMessage(content=None, refusal=None, role='assistant', annotations=[], audio=None, function_call=None, tool_calls=[ChatCompletionMessageFunctionToolCall(id='call_XlSuBy3G02kt3hgM0PyZWRv8', function=Function(arguments='{\"location\":\"Paris\"}', name='get_weather'), type='function')]))]\n"
     ]
    }
   ],
   "source": [
    "print(completion.choices)"
   ]
  },
  {
   "cell_type": "code",
   "execution_count": 7,
   "id": "2196fab1",
   "metadata": {},
   "outputs": [],
   "source": [
    "import json\n",
    "\n",
    "# Referencias a las tools que queremos exponer al LLM\n",
    "tools_map = {\n",
    "    \"get_weather\": get_weather\n",
    "}\n",
    "\n",
    "# Retornos de las tools\n",
    "tools_returns = []\n",
    "\n",
    "# Abstracción para llamar a una function dentro de tools_map\n",
    "def call_function(name, args):\n",
    "    func = tools_map.get(name)\n",
    "    if not func:\n",
    "        raise ValueError(f\"Function '{name}' not found.\")\n",
    "    return func(**args)\n",
    "\n",
    "# Iteramos sobre la lista de tools a llamar\n",
    "for tool_call in completion.choices[0].message.tool_calls:\n",
    "    name = tool_call.function.name\n",
    "    args = json.loads(tool_call.function.arguments)\n",
    "\n",
    "    result = call_function(name, args)\n",
    "    tools_returns.append({\n",
    "        \"role\": \"tool\",\n",
    "        \"tool_call_id\": tool_call.id,\n",
    "        \"content\": str(result)\n",
    "    })"
   ]
  },
  {
   "cell_type": "code",
   "execution_count": 8,
   "id": "194b53e5",
   "metadata": {},
   "outputs": [
    {
     "data": {
      "text/plain": [
       "[{'role': 'system',\n",
       "  'content': '\\nYou report the weather of a given location using emojis. \\n\\nUse the following format for your answers:\\n1. Tandil: ☀️ - 🌡\\n2. London: ️🌧️ - ❄️\\n'},\n",
       " {'role': 'user', 'content': \"What's the weather like in Paris today?\"}]"
      ]
     },
     "execution_count": 8,
     "metadata": {},
     "output_type": "execute_result"
    }
   ],
   "source": [
    "messages"
   ]
  },
  {
   "cell_type": "code",
   "execution_count": 9,
   "id": "fe0262a5",
   "metadata": {},
   "outputs": [],
   "source": [
    "# Add the assistant's message with tool calls to the conversation\n",
    "assistant_message = {\n",
    "    \"role\": \"assistant\",\n",
    "    \"content\": completion.choices[0].message.content,\n",
    "    \"tool_calls\": completion.choices[0].message.tool_calls\n",
    "}\n",
    "\n",
    "# Construct the full conversation: original messages + assistant message + tool responses\n",
    "msgs = messages + [assistant_message] + tools_returns\n",
    "\n",
    "# Send back to OpenAI to get the final response\n",
    "completion = client.chat.completions.create(\n",
    "    model=\"gpt-4.1-nano\",\n",
    "    messages=msgs,\n",
    "    tools=tools\n",
    ")"
   ]
  },
  {
   "cell_type": "code",
   "execution_count": 10,
   "id": "711674fd",
   "metadata": {},
   "outputs": [
    {
     "name": "stdout",
     "output_type": "stream",
     "text": [
      "[\n",
      "  {\n",
      "    \"role\": \"system\",\n",
      "    \"content\": \"\\nYou report the weather of a given location using emojis. \\n\\nUse the following format for your answers:\\n1. Tandil: \\u2600\\ufe0f - \\ud83c\\udf21\\n2. London: \\ufe0f\\ud83c\\udf27\\ufe0f - \\u2744\\ufe0f\\n\"\n",
      "  },\n",
      "  {\n",
      "    \"role\": \"user\",\n",
      "    \"content\": \"What's the weather like in Paris today?\"\n",
      "  },\n",
      "  {\n",
      "    \"role\": \"assistant\",\n",
      "    \"content\": null,\n",
      "    \"tool_calls\": [\n",
      "      \"ChatCompletionMessageFunctionToolCall(id='call_XlSuBy3G02kt3hgM0PyZWRv8', function=Function(arguments='{\\\"location\\\":\\\"Paris\\\"}', name='get_weather'), type='function')\"\n",
      "    ]\n",
      "  },\n",
      "  {\n",
      "    \"role\": \"tool\",\n",
      "    \"tool_call_id\": \"call_XlSuBy3G02kt3hgM0PyZWRv8\",\n",
      "    \"content\": \"The weather in Paris is sunny with a chance of clouds.\"\n",
      "  }\n",
      "]\n"
     ]
    }
   ],
   "source": [
    "print(json.dumps(msgs, indent=2, default=str))"
   ]
  },
  {
   "cell_type": "code",
   "execution_count": 11,
   "id": "ca804094",
   "metadata": {},
   "outputs": [
    {
     "name": "stdout",
     "output_type": "stream",
     "text": [
      "[\n",
      "  \"Choice(finish_reason='stop', index=0, logprobs=None, message=ChatCompletionMessage(content='Paris: \\u2600\\ufe0f - \\ud83c\\udf25\\ufe0f', refusal=None, role='assistant', annotations=[], audio=None, function_call=None, tool_calls=None))\"\n",
      "]\n"
     ]
    }
   ],
   "source": [
    "print(json.dumps(completion.choices, indent=2, default=str))"
   ]
  },
  {
   "cell_type": "code",
   "execution_count": 14,
   "id": "4090b50d",
   "metadata": {},
   "outputs": [
    {
     "data": {
      "text/plain": [
       "'Paris: ☀️ - 🌥️'"
      ]
     },
     "execution_count": 14,
     "metadata": {},
     "output_type": "execute_result"
    }
   ],
   "source": [
    "completion.choices[0].message.content"
   ]
  }
 ],
 "metadata": {
  "kernelspec": {
   "display_name": ".venv",
   "language": "python",
   "name": "python3"
  },
  "language_info": {
   "codemirror_mode": {
    "name": "ipython",
    "version": 3
   },
   "file_extension": ".py",
   "mimetype": "text/x-python",
   "name": "python",
   "nbconvert_exporter": "python",
   "pygments_lexer": "ipython3",
   "version": "3.12.9"
  }
 },
 "nbformat": 4,
 "nbformat_minor": 5
}
