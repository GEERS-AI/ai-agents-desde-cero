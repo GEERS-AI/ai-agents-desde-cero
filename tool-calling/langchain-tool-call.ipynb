{
 "cells": [
  {
   "cell_type": "markdown",
   "id": "4abdf3e0",
   "metadata": {},
   "source": [
    "# LangChain Tool Calling\n",
    "\n",
    "For more information: https://langchain-ai.github.io/langgraph/how-tos/tool-calling/"
   ]
  },
  {
   "cell_type": "code",
   "execution_count": 9,
   "id": "e51b5cb3",
   "metadata": {},
   "outputs": [
    {
     "name": "stdout",
     "output_type": "stream",
     "text": [
      "Requirement already satisfied: pydantic in /Users/facunesh/Projects/geers-ai-olavarria/.venv/lib/python3.12/site-packages (2.11.7)\n",
      "Requirement already satisfied: python-dotenv in /Users/facunesh/Projects/geers-ai-olavarria/.venv/lib/python3.12/site-packages (1.1.1)\n",
      "Requirement already satisfied: langchain in /Users/facunesh/Projects/geers-ai-olavarria/.venv/lib/python3.12/site-packages (0.3.27)\n",
      "Requirement already satisfied: langchain-openai in /Users/facunesh/Projects/geers-ai-olavarria/.venv/lib/python3.12/site-packages (0.3.30)\n",
      "Requirement already satisfied: langchain-community in /Users/facunesh/Projects/geers-ai-olavarria/.venv/lib/python3.12/site-packages (0.3.27)\n",
      "Requirement already satisfied: annotated-types>=0.6.0 in /Users/facunesh/Projects/geers-ai-olavarria/.venv/lib/python3.12/site-packages (from pydantic) (0.7.0)\n",
      "Requirement already satisfied: pydantic-core==2.33.2 in /Users/facunesh/Projects/geers-ai-olavarria/.venv/lib/python3.12/site-packages (from pydantic) (2.33.2)\n",
      "Requirement already satisfied: typing-extensions>=4.12.2 in /Users/facunesh/Projects/geers-ai-olavarria/.venv/lib/python3.12/site-packages (from pydantic) (4.14.1)\n",
      "Requirement already satisfied: typing-inspection>=0.4.0 in /Users/facunesh/Projects/geers-ai-olavarria/.venv/lib/python3.12/site-packages (from pydantic) (0.4.1)\n",
      "Requirement already satisfied: langchain-core<1.0.0,>=0.3.72 in /Users/facunesh/Projects/geers-ai-olavarria/.venv/lib/python3.12/site-packages (from langchain) (0.3.74)\n",
      "Requirement already satisfied: langchain-text-splitters<1.0.0,>=0.3.9 in /Users/facunesh/Projects/geers-ai-olavarria/.venv/lib/python3.12/site-packages (from langchain) (0.3.9)\n",
      "Requirement already satisfied: langsmith>=0.1.17 in /Users/facunesh/Projects/geers-ai-olavarria/.venv/lib/python3.12/site-packages (from langchain) (0.4.14)\n",
      "Requirement already satisfied: SQLAlchemy<3,>=1.4 in /Users/facunesh/Projects/geers-ai-olavarria/.venv/lib/python3.12/site-packages (from langchain) (2.0.43)\n",
      "Requirement already satisfied: requests<3,>=2 in /Users/facunesh/Projects/geers-ai-olavarria/.venv/lib/python3.12/site-packages (from langchain) (2.32.4)\n",
      "Requirement already satisfied: PyYAML>=5.3 in /Users/facunesh/Projects/geers-ai-olavarria/.venv/lib/python3.12/site-packages (from langchain) (6.0.2)\n",
      "Requirement already satisfied: tenacity!=8.4.0,<10.0.0,>=8.1.0 in /Users/facunesh/Projects/geers-ai-olavarria/.venv/lib/python3.12/site-packages (from langchain-core<1.0.0,>=0.3.72->langchain) (9.1.2)\n",
      "Requirement already satisfied: jsonpatch<2.0,>=1.33 in /Users/facunesh/Projects/geers-ai-olavarria/.venv/lib/python3.12/site-packages (from langchain-core<1.0.0,>=0.3.72->langchain) (1.33)\n",
      "Requirement already satisfied: packaging>=23.2 in /Users/facunesh/Projects/geers-ai-olavarria/.venv/lib/python3.12/site-packages (from langchain-core<1.0.0,>=0.3.72->langchain) (25.0)\n",
      "Requirement already satisfied: jsonpointer>=1.9 in /Users/facunesh/Projects/geers-ai-olavarria/.venv/lib/python3.12/site-packages (from jsonpatch<2.0,>=1.33->langchain-core<1.0.0,>=0.3.72->langchain) (3.0.0)\n",
      "Requirement already satisfied: charset_normalizer<4,>=2 in /Users/facunesh/Projects/geers-ai-olavarria/.venv/lib/python3.12/site-packages (from requests<3,>=2->langchain) (3.4.2)\n",
      "Requirement already satisfied: idna<4,>=2.5 in /Users/facunesh/Projects/geers-ai-olavarria/.venv/lib/python3.12/site-packages (from requests<3,>=2->langchain) (3.10)\n",
      "Requirement already satisfied: urllib3<3,>=1.21.1 in /Users/facunesh/Projects/geers-ai-olavarria/.venv/lib/python3.12/site-packages (from requests<3,>=2->langchain) (2.5.0)\n",
      "Requirement already satisfied: certifi>=2017.4.17 in /Users/facunesh/Projects/geers-ai-olavarria/.venv/lib/python3.12/site-packages (from requests<3,>=2->langchain) (2025.7.14)\n",
      "Requirement already satisfied: openai<2.0.0,>=1.99.9 in /Users/facunesh/Projects/geers-ai-olavarria/.venv/lib/python3.12/site-packages (from langchain-openai) (1.99.9)\n",
      "Requirement already satisfied: tiktoken<1,>=0.7 in /Users/facunesh/Projects/geers-ai-olavarria/.venv/lib/python3.12/site-packages (from langchain-openai) (0.11.0)\n",
      "Requirement already satisfied: anyio<5,>=3.5.0 in /Users/facunesh/Projects/geers-ai-olavarria/.venv/lib/python3.12/site-packages (from openai<2.0.0,>=1.99.9->langchain-openai) (4.10.0)\n",
      "Requirement already satisfied: distro<2,>=1.7.0 in /Users/facunesh/Projects/geers-ai-olavarria/.venv/lib/python3.12/site-packages (from openai<2.0.0,>=1.99.9->langchain-openai) (1.9.0)\n",
      "Requirement already satisfied: httpx<1,>=0.23.0 in /Users/facunesh/Projects/geers-ai-olavarria/.venv/lib/python3.12/site-packages (from openai<2.0.0,>=1.99.9->langchain-openai) (0.28.1)\n",
      "Requirement already satisfied: jiter<1,>=0.4.0 in /Users/facunesh/Projects/geers-ai-olavarria/.venv/lib/python3.12/site-packages (from openai<2.0.0,>=1.99.9->langchain-openai) (0.10.0)\n",
      "Requirement already satisfied: sniffio in /Users/facunesh/Projects/geers-ai-olavarria/.venv/lib/python3.12/site-packages (from openai<2.0.0,>=1.99.9->langchain-openai) (1.3.1)\n",
      "Requirement already satisfied: tqdm>4 in /Users/facunesh/Projects/geers-ai-olavarria/.venv/lib/python3.12/site-packages (from openai<2.0.0,>=1.99.9->langchain-openai) (4.67.1)\n",
      "Requirement already satisfied: httpcore==1.* in /Users/facunesh/Projects/geers-ai-olavarria/.venv/lib/python3.12/site-packages (from httpx<1,>=0.23.0->openai<2.0.0,>=1.99.9->langchain-openai) (1.0.9)\n",
      "Requirement already satisfied: h11>=0.16 in /Users/facunesh/Projects/geers-ai-olavarria/.venv/lib/python3.12/site-packages (from httpcore==1.*->httpx<1,>=0.23.0->openai<2.0.0,>=1.99.9->langchain-openai) (0.16.0)\n",
      "Requirement already satisfied: regex>=2022.1.18 in /Users/facunesh/Projects/geers-ai-olavarria/.venv/lib/python3.12/site-packages (from tiktoken<1,>=0.7->langchain-openai) (2025.7.34)\n",
      "Requirement already satisfied: aiohttp<4.0.0,>=3.8.3 in /Users/facunesh/Projects/geers-ai-olavarria/.venv/lib/python3.12/site-packages (from langchain-community) (3.12.15)\n",
      "Requirement already satisfied: dataclasses-json<0.7,>=0.5.7 in /Users/facunesh/Projects/geers-ai-olavarria/.venv/lib/python3.12/site-packages (from langchain-community) (0.6.7)\n",
      "Requirement already satisfied: pydantic-settings<3.0.0,>=2.4.0 in /Users/facunesh/Projects/geers-ai-olavarria/.venv/lib/python3.12/site-packages (from langchain-community) (2.10.1)\n",
      "Requirement already satisfied: httpx-sse<1.0.0,>=0.4.0 in /Users/facunesh/Projects/geers-ai-olavarria/.venv/lib/python3.12/site-packages (from langchain-community) (0.4.1)\n",
      "Requirement already satisfied: numpy>=1.26.2 in /Users/facunesh/Projects/geers-ai-olavarria/.venv/lib/python3.12/site-packages (from langchain-community) (2.3.2)\n",
      "Requirement already satisfied: aiohappyeyeballs>=2.5.0 in /Users/facunesh/Projects/geers-ai-olavarria/.venv/lib/python3.12/site-packages (from aiohttp<4.0.0,>=3.8.3->langchain-community) (2.6.1)\n",
      "Requirement already satisfied: aiosignal>=1.4.0 in /Users/facunesh/Projects/geers-ai-olavarria/.venv/lib/python3.12/site-packages (from aiohttp<4.0.0,>=3.8.3->langchain-community) (1.4.0)\n",
      "Requirement already satisfied: attrs>=17.3.0 in /Users/facunesh/Projects/geers-ai-olavarria/.venv/lib/python3.12/site-packages (from aiohttp<4.0.0,>=3.8.3->langchain-community) (25.3.0)\n",
      "Requirement already satisfied: frozenlist>=1.1.1 in /Users/facunesh/Projects/geers-ai-olavarria/.venv/lib/python3.12/site-packages (from aiohttp<4.0.0,>=3.8.3->langchain-community) (1.7.0)\n",
      "Requirement already satisfied: multidict<7.0,>=4.5 in /Users/facunesh/Projects/geers-ai-olavarria/.venv/lib/python3.12/site-packages (from aiohttp<4.0.0,>=3.8.3->langchain-community) (6.6.4)\n",
      "Requirement already satisfied: propcache>=0.2.0 in /Users/facunesh/Projects/geers-ai-olavarria/.venv/lib/python3.12/site-packages (from aiohttp<4.0.0,>=3.8.3->langchain-community) (0.3.2)\n",
      "Requirement already satisfied: yarl<2.0,>=1.17.0 in /Users/facunesh/Projects/geers-ai-olavarria/.venv/lib/python3.12/site-packages (from aiohttp<4.0.0,>=3.8.3->langchain-community) (1.20.1)\n",
      "Requirement already satisfied: marshmallow<4.0.0,>=3.18.0 in /Users/facunesh/Projects/geers-ai-olavarria/.venv/lib/python3.12/site-packages (from dataclasses-json<0.7,>=0.5.7->langchain-community) (3.26.1)\n",
      "Requirement already satisfied: typing-inspect<1,>=0.4.0 in /Users/facunesh/Projects/geers-ai-olavarria/.venv/lib/python3.12/site-packages (from dataclasses-json<0.7,>=0.5.7->langchain-community) (0.9.0)\n",
      "Requirement already satisfied: mypy-extensions>=0.3.0 in /Users/facunesh/Projects/geers-ai-olavarria/.venv/lib/python3.12/site-packages (from typing-inspect<1,>=0.4.0->dataclasses-json<0.7,>=0.5.7->langchain-community) (1.1.0)\n",
      "Requirement already satisfied: orjson>=3.9.14 in /Users/facunesh/Projects/geers-ai-olavarria/.venv/lib/python3.12/site-packages (from langsmith>=0.1.17->langchain) (3.11.1)\n",
      "Requirement already satisfied: requests-toolbelt>=1.0.0 in /Users/facunesh/Projects/geers-ai-olavarria/.venv/lib/python3.12/site-packages (from langsmith>=0.1.17->langchain) (1.0.0)\n",
      "Requirement already satisfied: zstandard>=0.23.0 in /Users/facunesh/Projects/geers-ai-olavarria/.venv/lib/python3.12/site-packages (from langsmith>=0.1.17->langchain) (0.24.0)\n",
      "Note: you may need to restart the kernel to use updated packages.\n"
     ]
    }
   ],
   "source": [
    "%pip install pydantic python-dotenv langchain langchain-openai langchain-community"
   ]
  },
  {
   "cell_type": "code",
   "execution_count": 10,
   "id": "21ac3ff0",
   "metadata": {},
   "outputs": [
    {
     "data": {
      "text/plain": [
       "True"
      ]
     },
     "execution_count": 10,
     "metadata": {},
     "output_type": "execute_result"
    }
   ],
   "source": [
    "from dotenv import load_dotenv\n",
    "\n",
    "load_dotenv()"
   ]
  },
  {
   "cell_type": "code",
   "execution_count": 11,
   "id": "94a71b8e",
   "metadata": {},
   "outputs": [],
   "source": [
    "from langchain_core.tools import tool\n",
    "\n",
    "@tool\n",
    "def get_weather(location: str) -> str:\n",
    "    \"\"\"\n",
    "    Generate a weather message for a given location.\n",
    "\n",
    "    Args:\n",
    "        location (str): The location for which to generate the weather report.\n",
    "\n",
    "    Returns:\n",
    "        str: A weather message for the specified location.\n",
    "    \"\"\"\n",
    "    return f\"The weather in {location} is sunny with a chance of clouds.\""
   ]
  },
  {
   "cell_type": "code",
   "execution_count": 12,
   "id": "82171361",
   "metadata": {},
   "outputs": [
    {
     "data": {
      "text/plain": [
       "'The weather in Tandil is sunny with a chance of clouds.'"
      ]
     },
     "execution_count": 12,
     "metadata": {},
     "output_type": "execute_result"
    }
   ],
   "source": [
    "# Tools conform to the Runnable interface, which means you can run a tool using the invoke method\n",
    "\n",
    "get_weather.invoke(\"Tandil\")"
   ]
  },
  {
   "cell_type": "code",
   "execution_count": 13,
   "id": "cbca6fd1",
   "metadata": {},
   "outputs": [
    {
     "data": {
      "text/plain": [
       "ToolMessage(content='The weather in Mar del Plata is sunny with a chance of clouds.', name='get_weather', tool_call_id='1')"
      ]
     },
     "execution_count": 13,
     "metadata": {},
     "output_type": "execute_result"
    }
   ],
   "source": [
    "tool_call = {\n",
    "    \"type\": \"tool_call\",\n",
    "    \"id\": \"1\",\n",
    "    \"args\": { \"location\": \"Mar del Plata\" }\n",
    "}\n",
    "\n",
    "get_weather.invoke(tool_call) # returns a ToolMessage object"
   ]
  },
  {
   "cell_type": "code",
   "execution_count": null,
   "id": "67d5782c",
   "metadata": {},
   "outputs": [],
   "source": [
    "from langchain.chat_models import init_chat_model\n",
    "from langchain_core.prompts import ChatPromptTemplate\n",
    "from langchain_core.messages import SystemMessage, HumanMessage\n",
    "\n",
    "SYSTEM_PROMPT = \"\"\"\n",
    "You report the weather of a given location using emojis. \n",
    "\n",
    "Use the following format for your answers:\n",
    "1. Tandil: ☀️ - 🌡\n",
    "2. London: ️🌧️ - ❄️\n",
    "\"\"\"\n",
    "\n",
    "model = init_chat_model(model=\"gpt-4.1-nano\", temperature=0)\n",
    "\n",
    "chat_template = ChatPromptTemplate.from_messages(\n",
    "    [\n",
    "        SystemMessage(content=SYSTEM_PROMPT),\n",
    "        HumanMessage(content=\"What's the weather like in Paris today?\"),\n",
    "    ]\n",
    ")\n",
    "\n",
    "# Bind schema to model\n",
    "model_with_tools = model.bind_tools([get_weather])\n",
    "\n",
    "# Invoke the model to produce structured output that matches the schema\n",
    "response = model_with_tools.invoke(chat_template.format_messages())\n"
   ]
  },
  {
   "cell_type": "code",
   "execution_count": 20,
   "id": "1c209640",
   "metadata": {},
   "outputs": [
    {
     "name": "stdout",
     "output_type": "stream",
     "text": [
      "[{'name': 'get_weather', 'args': {'location': 'Paris'}, 'id': 'call_C2IktCAiqcg9R2N9vErx6h3a', 'type': 'tool_call'}]\n"
     ]
    }
   ],
   "source": [
    "print(response.tool_calls)"
   ]
  },
  {
   "cell_type": "code",
   "execution_count": 21,
   "id": "5d999f09",
   "metadata": {},
   "outputs": [],
   "source": [
    "tool_call = response.tool_calls[0]\n",
    "\n",
    "tool_return = get_weather.invoke(tool_call)"
   ]
  },
  {
   "cell_type": "code",
   "execution_count": 22,
   "id": "57b79918",
   "metadata": {},
   "outputs": [
    {
     "data": {
      "text/plain": [
       "ToolMessage(content='The weather in Paris is sunny with a chance of clouds.', name='get_weather', tool_call_id='call_C2IktCAiqcg9R2N9vErx6h3a')"
      ]
     },
     "execution_count": 22,
     "metadata": {},
     "output_type": "execute_result"
    }
   ],
   "source": [
    "tool_return"
   ]
  },
  {
   "cell_type": "code",
   "execution_count": 25,
   "id": "2b7b14fc",
   "metadata": {},
   "outputs": [
    {
     "data": {
      "text/plain": [
       "[SystemMessage(content='\\nYou report the weather of a given location using emojis. \\n\\nUse the following format for your answers:\\n1. Tandil: ☀️ - 🌡\\n2. London: ️🌧️ - ❄️\\n', additional_kwargs={}, response_metadata={}),\n",
       " HumanMessage(content=\"What's the weather like in Paris today?\", additional_kwargs={}, response_metadata={}),\n",
       " AIMessage(content='', additional_kwargs={'tool_calls': [{'id': 'call_C2IktCAiqcg9R2N9vErx6h3a', 'function': {'arguments': '{\"location\":\"Paris\"}', 'name': 'get_weather'}, 'type': 'function'}], 'refusal': None}, response_metadata={'token_usage': {'completion_tokens': 14, 'prompt_tokens': 129, 'total_tokens': 143, 'completion_tokens_details': {'accepted_prediction_tokens': 0, 'audio_tokens': 0, 'reasoning_tokens': 0, 'rejected_prediction_tokens': 0}, 'prompt_tokens_details': {'audio_tokens': 0, 'cached_tokens': 0}}, 'model_name': 'gpt-4.1-nano-2025-04-14', 'system_fingerprint': 'fp_c4c155951e', 'id': 'chatcmpl-C5xrbw6IES5wxaBRbiXAKCfVVyL4q', 'service_tier': 'default', 'finish_reason': 'tool_calls', 'logprobs': None}, id='run--32e38cd0-d00e-45e7-8d51-eabc93c20d76-0', tool_calls=[{'name': 'get_weather', 'args': {'location': 'Paris'}, 'id': 'call_C2IktCAiqcg9R2N9vErx6h3a', 'type': 'tool_call'}], usage_metadata={'input_tokens': 129, 'output_tokens': 14, 'total_tokens': 143, 'input_token_details': {'audio': 0, 'cache_read': 0}, 'output_token_details': {'audio': 0, 'reasoning': 0}}),\n",
       " ToolMessage(content='The weather in Paris is sunny with a chance of clouds.', name='get_weather', tool_call_id='call_C2IktCAiqcg9R2N9vErx6h3a')]"
      ]
     },
     "execution_count": 25,
     "metadata": {},
     "output_type": "execute_result"
    }
   ],
   "source": [
    "msgs = chat_template.format_messages() + [response] + [tool_return]\n",
    "\n",
    "msgs"
   ]
  },
  {
   "cell_type": "code",
   "execution_count": 27,
   "id": "68f32cd1",
   "metadata": {},
   "outputs": [
    {
     "data": {
      "text/plain": [
       "'Paris: ☀️ - ☁️'"
      ]
     },
     "execution_count": 27,
     "metadata": {},
     "output_type": "execute_result"
    }
   ],
   "source": [
    "model_with_tools.invoke(msgs).content"
   ]
  }
 ],
 "metadata": {
  "kernelspec": {
   "display_name": ".venv",
   "language": "python",
   "name": "python3"
  },
  "language_info": {
   "codemirror_mode": {
    "name": "ipython",
    "version": 3
   },
   "file_extension": ".py",
   "mimetype": "text/x-python",
   "name": "python",
   "nbconvert_exporter": "python",
   "pygments_lexer": "ipython3",
   "version": "3.12.9"
  }
 },
 "nbformat": 4,
 "nbformat_minor": 5
}
